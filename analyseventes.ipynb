{
 "cells": [
  {
   "cell_type": "markdown",
   "id": "4782ee6d",
   "metadata": {},
   "source": [
    "## Explorations tableaux"
   ]
  },
  {
   "cell_type": "code",
   "execution_count": 2,
   "id": "569535c8",
   "metadata": {},
   "outputs": [],
   "source": [
    "import pandas as pd\n",
    "import seaborn as sns\n",
    "import numpy as np\n",
    "import matplotlib.pyplot as plt"
   ]
  },
  {
   "cell_type": "code",
   "execution_count": 3,
   "id": "8863d762",
   "metadata": {},
   "outputs": [],
   "source": [
    "df_customers = pd.read_csv('customers.csv')"
   ]
  },
  {
   "cell_type": "code",
   "execution_count": 4,
   "id": "a2aac42e",
   "metadata": {},
   "outputs": [
    {
     "data": {
      "text/html": [
       "<div>\n",
       "<style scoped>\n",
       "    .dataframe tbody tr th:only-of-type {\n",
       "        vertical-align: middle;\n",
       "    }\n",
       "\n",
       "    .dataframe tbody tr th {\n",
       "        vertical-align: top;\n",
       "    }\n",
       "\n",
       "    .dataframe thead th {\n",
       "        text-align: right;\n",
       "    }\n",
       "</style>\n",
       "<table border=\"1\" class=\"dataframe\">\n",
       "  <thead>\n",
       "    <tr style=\"text-align: right;\">\n",
       "      <th></th>\n",
       "      <th>client_id</th>\n",
       "      <th>sex</th>\n",
       "      <th>birth</th>\n",
       "    </tr>\n",
       "  </thead>\n",
       "  <tbody>\n",
       "    <tr>\n",
       "      <th>0</th>\n",
       "      <td>c_4410</td>\n",
       "      <td>f</td>\n",
       "      <td>1967</td>\n",
       "    </tr>\n",
       "    <tr>\n",
       "      <th>1</th>\n",
       "      <td>c_7839</td>\n",
       "      <td>f</td>\n",
       "      <td>1975</td>\n",
       "    </tr>\n",
       "    <tr>\n",
       "      <th>2</th>\n",
       "      <td>c_1699</td>\n",
       "      <td>f</td>\n",
       "      <td>1984</td>\n",
       "    </tr>\n",
       "    <tr>\n",
       "      <th>3</th>\n",
       "      <td>c_5961</td>\n",
       "      <td>f</td>\n",
       "      <td>1962</td>\n",
       "    </tr>\n",
       "    <tr>\n",
       "      <th>4</th>\n",
       "      <td>c_5320</td>\n",
       "      <td>m</td>\n",
       "      <td>1943</td>\n",
       "    </tr>\n",
       "  </tbody>\n",
       "</table>\n",
       "</div>"
      ],
      "text/plain": [
       "  client_id sex  birth\n",
       "0    c_4410   f   1967\n",
       "1    c_7839   f   1975\n",
       "2    c_1699   f   1984\n",
       "3    c_5961   f   1962\n",
       "4    c_5320   m   1943"
      ]
     },
     "execution_count": 4,
     "metadata": {},
     "output_type": "execute_result"
    }
   ],
   "source": [
    "df_customers.head()"
   ]
  },
  {
   "cell_type": "code",
   "execution_count": 5,
   "id": "99a56325",
   "metadata": {},
   "outputs": [
    {
     "data": {
      "text/plain": [
       "8623"
      ]
     },
     "execution_count": 5,
     "metadata": {},
     "output_type": "execute_result"
    }
   ],
   "source": [
    "df_customers.client_id.nunique()"
   ]
  },
  {
   "cell_type": "code",
   "execution_count": 6,
   "id": "42ff251a",
   "metadata": {},
   "outputs": [
    {
     "data": {
      "text/plain": [
       "(8623, 3)"
      ]
     },
     "execution_count": 6,
     "metadata": {},
     "output_type": "execute_result"
    }
   ],
   "source": [
    "df_customers.shape"
   ]
  },
  {
   "cell_type": "code",
   "execution_count": 7,
   "id": "7325f4c1",
   "metadata": {},
   "outputs": [],
   "source": [
    "df_products= pd.read_csv('products.csv')"
   ]
  },
  {
   "cell_type": "code",
   "execution_count": 8,
   "id": "3dbd22ae",
   "metadata": {},
   "outputs": [
    {
     "data": {
      "text/html": [
       "<div>\n",
       "<style scoped>\n",
       "    .dataframe tbody tr th:only-of-type {\n",
       "        vertical-align: middle;\n",
       "    }\n",
       "\n",
       "    .dataframe tbody tr th {\n",
       "        vertical-align: top;\n",
       "    }\n",
       "\n",
       "    .dataframe thead th {\n",
       "        text-align: right;\n",
       "    }\n",
       "</style>\n",
       "<table border=\"1\" class=\"dataframe\">\n",
       "  <thead>\n",
       "    <tr style=\"text-align: right;\">\n",
       "      <th></th>\n",
       "      <th>id_prod</th>\n",
       "      <th>price</th>\n",
       "      <th>categ</th>\n",
       "    </tr>\n",
       "  </thead>\n",
       "  <tbody>\n",
       "    <tr>\n",
       "      <th>0</th>\n",
       "      <td>0_1421</td>\n",
       "      <td>19.99</td>\n",
       "      <td>0</td>\n",
       "    </tr>\n",
       "    <tr>\n",
       "      <th>1</th>\n",
       "      <td>0_1368</td>\n",
       "      <td>5.13</td>\n",
       "      <td>0</td>\n",
       "    </tr>\n",
       "    <tr>\n",
       "      <th>2</th>\n",
       "      <td>0_731</td>\n",
       "      <td>17.99</td>\n",
       "      <td>0</td>\n",
       "    </tr>\n",
       "    <tr>\n",
       "      <th>3</th>\n",
       "      <td>1_587</td>\n",
       "      <td>4.99</td>\n",
       "      <td>1</td>\n",
       "    </tr>\n",
       "    <tr>\n",
       "      <th>4</th>\n",
       "      <td>0_1507</td>\n",
       "      <td>3.99</td>\n",
       "      <td>0</td>\n",
       "    </tr>\n",
       "  </tbody>\n",
       "</table>\n",
       "</div>"
      ],
      "text/plain": [
       "  id_prod  price  categ\n",
       "0  0_1421  19.99      0\n",
       "1  0_1368   5.13      0\n",
       "2   0_731  17.99      0\n",
       "3   1_587   4.99      1\n",
       "4  0_1507   3.99      0"
      ]
     },
     "execution_count": 8,
     "metadata": {},
     "output_type": "execute_result"
    }
   ],
   "source": [
    "df_products.head()"
   ]
  },
  {
   "cell_type": "code",
   "execution_count": 9,
   "id": "c9d3177b",
   "metadata": {},
   "outputs": [
    {
     "data": {
      "text/plain": [
       "0_1802    1\n",
       "1_3       1\n",
       "0_730     1\n",
       "0_2026    1\n",
       "2_161     1\n",
       "         ..\n",
       "1_66      1\n",
       "1_649     1\n",
       "0_379     1\n",
       "0_864     1\n",
       "0_237     1\n",
       "Name: id_prod, Length: 3287, dtype: int64"
      ]
     },
     "execution_count": 9,
     "metadata": {},
     "output_type": "execute_result"
    }
   ],
   "source": [
    "df_products.id_prod.value_counts()"
   ]
  },
  {
   "cell_type": "code",
   "execution_count": 10,
   "id": "1df26742",
   "metadata": {},
   "outputs": [
    {
     "data": {
      "text/plain": [
       "3287"
      ]
     },
     "execution_count": 10,
     "metadata": {},
     "output_type": "execute_result"
    }
   ],
   "source": [
    "df_products.id_prod.nunique()"
   ]
  },
  {
   "cell_type": "code",
   "execution_count": 11,
   "id": "1c0cbed7",
   "metadata": {},
   "outputs": [
    {
     "data": {
      "text/plain": [
       "(3287, 3)"
      ]
     },
     "execution_count": 11,
     "metadata": {},
     "output_type": "execute_result"
    }
   ],
   "source": [
    "df_products.shape"
   ]
  },
  {
   "cell_type": "code",
   "execution_count": 12,
   "id": "103dc5bb",
   "metadata": {},
   "outputs": [],
   "source": [
    "df_transactions = pd.read_csv('transactions.csv')"
   ]
  },
  {
   "cell_type": "code",
   "execution_count": 13,
   "id": "7025975c",
   "metadata": {},
   "outputs": [
    {
     "data": {
      "text/html": [
       "<div>\n",
       "<style scoped>\n",
       "    .dataframe tbody tr th:only-of-type {\n",
       "        vertical-align: middle;\n",
       "    }\n",
       "\n",
       "    .dataframe tbody tr th {\n",
       "        vertical-align: top;\n",
       "    }\n",
       "\n",
       "    .dataframe thead th {\n",
       "        text-align: right;\n",
       "    }\n",
       "</style>\n",
       "<table border=\"1\" class=\"dataframe\">\n",
       "  <thead>\n",
       "    <tr style=\"text-align: right;\">\n",
       "      <th></th>\n",
       "      <th>id_prod</th>\n",
       "      <th>date</th>\n",
       "      <th>session_id</th>\n",
       "      <th>client_id</th>\n",
       "    </tr>\n",
       "  </thead>\n",
       "  <tbody>\n",
       "    <tr>\n",
       "      <th>0</th>\n",
       "      <td>0_1483</td>\n",
       "      <td>2021-04-10 18:37:28.723910</td>\n",
       "      <td>s_18746</td>\n",
       "      <td>c_4450</td>\n",
       "    </tr>\n",
       "    <tr>\n",
       "      <th>1</th>\n",
       "      <td>2_226</td>\n",
       "      <td>2022-02-03 01:55:53.276402</td>\n",
       "      <td>s_159142</td>\n",
       "      <td>c_277</td>\n",
       "    </tr>\n",
       "    <tr>\n",
       "      <th>2</th>\n",
       "      <td>1_374</td>\n",
       "      <td>2021-09-23 15:13:46.938559</td>\n",
       "      <td>s_94290</td>\n",
       "      <td>c_4270</td>\n",
       "    </tr>\n",
       "    <tr>\n",
       "      <th>3</th>\n",
       "      <td>0_2186</td>\n",
       "      <td>2021-10-17 03:27:18.783634</td>\n",
       "      <td>s_105936</td>\n",
       "      <td>c_4597</td>\n",
       "    </tr>\n",
       "    <tr>\n",
       "      <th>4</th>\n",
       "      <td>0_1351</td>\n",
       "      <td>2021-07-17 20:34:25.800563</td>\n",
       "      <td>s_63642</td>\n",
       "      <td>c_1242</td>\n",
       "    </tr>\n",
       "  </tbody>\n",
       "</table>\n",
       "</div>"
      ],
      "text/plain": [
       "  id_prod                        date session_id client_id\n",
       "0  0_1483  2021-04-10 18:37:28.723910    s_18746    c_4450\n",
       "1   2_226  2022-02-03 01:55:53.276402   s_159142     c_277\n",
       "2   1_374  2021-09-23 15:13:46.938559    s_94290    c_4270\n",
       "3  0_2186  2021-10-17 03:27:18.783634   s_105936    c_4597\n",
       "4  0_1351  2021-07-17 20:34:25.800563    s_63642    c_1242"
      ]
     },
     "execution_count": 13,
     "metadata": {},
     "output_type": "execute_result"
    }
   ],
   "source": [
    "df_transactions.head()"
   ]
  },
  {
   "cell_type": "code",
   "execution_count": 14,
   "id": "fda4e268",
   "metadata": {},
   "outputs": [],
   "source": [
    "# fusion des 3 tables \n",
    "df = pd.merge(df_transactions,df_products,on='id_prod',how='left')"
   ]
  },
  {
   "cell_type": "code",
   "execution_count": 15,
   "id": "41d270ba",
   "metadata": {},
   "outputs": [],
   "source": [
    "df= pd.merge(df, df_customers, on='client_id', how= 'left')"
   ]
  },
  {
   "cell_type": "code",
   "execution_count": 16,
   "id": "957b481e",
   "metadata": {},
   "outputs": [
    {
     "data": {
      "text/html": [
       "<div>\n",
       "<style scoped>\n",
       "    .dataframe tbody tr th:only-of-type {\n",
       "        vertical-align: middle;\n",
       "    }\n",
       "\n",
       "    .dataframe tbody tr th {\n",
       "        vertical-align: top;\n",
       "    }\n",
       "\n",
       "    .dataframe thead th {\n",
       "        text-align: right;\n",
       "    }\n",
       "</style>\n",
       "<table border=\"1\" class=\"dataframe\">\n",
       "  <thead>\n",
       "    <tr style=\"text-align: right;\">\n",
       "      <th></th>\n",
       "      <th>id_prod</th>\n",
       "      <th>date</th>\n",
       "      <th>session_id</th>\n",
       "      <th>client_id</th>\n",
       "      <th>price</th>\n",
       "      <th>categ</th>\n",
       "      <th>sex</th>\n",
       "      <th>birth</th>\n",
       "    </tr>\n",
       "  </thead>\n",
       "  <tbody>\n",
       "    <tr>\n",
       "      <th>0</th>\n",
       "      <td>0_1483</td>\n",
       "      <td>2021-04-10 18:37:28.723910</td>\n",
       "      <td>s_18746</td>\n",
       "      <td>c_4450</td>\n",
       "      <td>4.99</td>\n",
       "      <td>0.0</td>\n",
       "      <td>f</td>\n",
       "      <td>1977</td>\n",
       "    </tr>\n",
       "    <tr>\n",
       "      <th>1</th>\n",
       "      <td>2_226</td>\n",
       "      <td>2022-02-03 01:55:53.276402</td>\n",
       "      <td>s_159142</td>\n",
       "      <td>c_277</td>\n",
       "      <td>65.75</td>\n",
       "      <td>2.0</td>\n",
       "      <td>f</td>\n",
       "      <td>2000</td>\n",
       "    </tr>\n",
       "    <tr>\n",
       "      <th>2</th>\n",
       "      <td>1_374</td>\n",
       "      <td>2021-09-23 15:13:46.938559</td>\n",
       "      <td>s_94290</td>\n",
       "      <td>c_4270</td>\n",
       "      <td>10.71</td>\n",
       "      <td>1.0</td>\n",
       "      <td>f</td>\n",
       "      <td>1979</td>\n",
       "    </tr>\n",
       "    <tr>\n",
       "      <th>3</th>\n",
       "      <td>0_2186</td>\n",
       "      <td>2021-10-17 03:27:18.783634</td>\n",
       "      <td>s_105936</td>\n",
       "      <td>c_4597</td>\n",
       "      <td>4.20</td>\n",
       "      <td>0.0</td>\n",
       "      <td>m</td>\n",
       "      <td>1963</td>\n",
       "    </tr>\n",
       "    <tr>\n",
       "      <th>4</th>\n",
       "      <td>0_1351</td>\n",
       "      <td>2021-07-17 20:34:25.800563</td>\n",
       "      <td>s_63642</td>\n",
       "      <td>c_1242</td>\n",
       "      <td>8.99</td>\n",
       "      <td>0.0</td>\n",
       "      <td>f</td>\n",
       "      <td>1980</td>\n",
       "    </tr>\n",
       "  </tbody>\n",
       "</table>\n",
       "</div>"
      ],
      "text/plain": [
       "  id_prod                        date session_id client_id  price  categ sex  \\\n",
       "0  0_1483  2021-04-10 18:37:28.723910    s_18746    c_4450   4.99    0.0   f   \n",
       "1   2_226  2022-02-03 01:55:53.276402   s_159142     c_277  65.75    2.0   f   \n",
       "2   1_374  2021-09-23 15:13:46.938559    s_94290    c_4270  10.71    1.0   f   \n",
       "3  0_2186  2021-10-17 03:27:18.783634   s_105936    c_4597   4.20    0.0   m   \n",
       "4  0_1351  2021-07-17 20:34:25.800563    s_63642    c_1242   8.99    0.0   f   \n",
       "\n",
       "   birth  \n",
       "0   1977  \n",
       "1   2000  \n",
       "2   1979  \n",
       "3   1963  \n",
       "4   1980  "
      ]
     },
     "execution_count": 16,
     "metadata": {},
     "output_type": "execute_result"
    }
   ],
   "source": [
    "df.head()"
   ]
  },
  {
   "cell_type": "markdown",
   "id": "6f4a03ec",
   "metadata": {},
   "source": [
    "## Mission 1\n",
    "\n",
    "Nettoyage"
   ]
  },
  {
   "cell_type": "code",
   "execution_count": 17,
   "id": "13589add",
   "metadata": {},
   "outputs": [],
   "source": [
    "val_nul_categ= df['categ'].isna().sum()"
   ]
  },
  {
   "cell_type": "code",
   "execution_count": 18,
   "id": "bb520ec3",
   "metadata": {},
   "outputs": [
    {
     "data": {
      "text/plain": [
       "(337016, 8)"
      ]
     },
     "execution_count": 18,
     "metadata": {},
     "output_type": "execute_result"
    }
   ],
   "source": [
    "df.shape"
   ]
  },
  {
   "cell_type": "code",
   "execution_count": 19,
   "id": "e1f3671c",
   "metadata": {},
   "outputs": [
    {
     "data": {
      "text/plain": [
       "id_prod       0.000000\n",
       "date          0.000000\n",
       "session_id    0.000000\n",
       "client_id     0.000000\n",
       "price         0.030562\n",
       "categ         0.030562\n",
       "sex           0.000000\n",
       "birth         0.000000\n",
       "dtype: float64"
      ]
     },
     "execution_count": 19,
     "metadata": {},
     "output_type": "execute_result"
    }
   ],
   "source": [
    "df.isna().sum()*100/df.shape[0]"
   ]
  },
  {
   "cell_type": "code",
   "execution_count": 20,
   "id": "73b16262",
   "metadata": {},
   "outputs": [
    {
     "data": {
      "text/plain": [
       "337016"
      ]
     },
     "execution_count": 20,
     "metadata": {},
     "output_type": "execute_result"
    }
   ],
   "source": [
    "df['categ'].shape[0]"
   ]
  },
  {
   "cell_type": "code",
   "execution_count": 21,
   "id": "540beb6b",
   "metadata": {},
   "outputs": [],
   "source": [
    "part_val_nul= (val_nul_categ/df['categ'].shape[0])*100"
   ]
  },
  {
   "cell_type": "code",
   "execution_count": 22,
   "id": "ec551e4e",
   "metadata": {},
   "outputs": [
    {
     "data": {
      "text/plain": [
       "103"
      ]
     },
     "execution_count": 22,
     "metadata": {},
     "output_type": "execute_result"
    }
   ],
   "source": [
    "df['categ'].isna().sum()"
   ]
  },
  {
   "cell_type": "code",
   "execution_count": 23,
   "id": "e119f7a0",
   "metadata": {},
   "outputs": [
    {
     "data": {
      "text/plain": [
       "(337016, 8)"
      ]
     },
     "execution_count": 23,
     "metadata": {},
     "output_type": "execute_result"
    }
   ],
   "source": [
    "nan_values = df.isna().sum()\n",
    "size = df.shape\n",
    "size"
   ]
  },
  {
   "cell_type": "code",
   "execution_count": 24,
   "id": "94dbcdec",
   "metadata": {},
   "outputs": [
    {
     "data": {
      "text/plain": [
       "id_prod       0.000000\n",
       "date          0.000000\n",
       "session_id    0.000000\n",
       "client_id     0.000000\n",
       "sex           0.000000\n",
       "birth         0.000000\n",
       "price         0.030562\n",
       "categ         0.030562\n",
       "dtype: float64"
      ]
     },
     "execution_count": 24,
     "metadata": {},
     "output_type": "execute_result"
    }
   ],
   "source": [
    "nan_values = nan_values.sort_values(ascending=True)*100/size[0]\n",
    "nan_values"
   ]
  },
  {
   "cell_type": "code",
   "execution_count": 25,
   "id": "49d16acc",
   "metadata": {},
   "outputs": [
    {
     "data": {
      "text/plain": [
       "id_prod         0\n",
       "date            0\n",
       "session_id      0\n",
       "client_id       0\n",
       "price         103\n",
       "categ         103\n",
       "sex             0\n",
       "birth           0\n",
       "dtype: int64"
      ]
     },
     "execution_count": 25,
     "metadata": {},
     "output_type": "execute_result"
    }
   ],
   "source": [
    "#diagramme en barre\n",
    "valeurs_manquantes = df.isna().sum()\n",
    "valeurs_manquantes"
   ]
  },
  {
   "cell_type": "code",
   "execution_count": 26,
   "id": "bb7e4a9c",
   "metadata": {},
   "outputs": [
    {
     "data": {
      "image/png": "[encoded data removed]",
      "text/plain": [
       "<Figure size 432x288 with 1 Axes>"
      ]
     },
     "metadata": {
      "needs_background": "light"
     },
     "output_type": "display_data"
    }
   ],
   "source": [
    "valeurs_manquantes.plot(kind='bar',width=0.1)\n",
    "plt.show()"
   ]
  },
  {
   "cell_type": "code",
   "execution_count": 27,
   "id": "736eb9c9",
   "metadata": {},
   "outputs": [
    {
     "data": {
      "image/png": "[encoded data removed]",
      "text/plain": [
       "<Figure size 576x720 with 1 Axes>"
      ]
     },
     "metadata": {
      "needs_background": "light"
     },
     "output_type": "display_data"
    }
   ],
   "source": [
    "size = df.shape\n",
    "nan_values = df.isna().sum()\n",
    "\n",
    "nan_values = nan_values.sort_values(ascending=True)*100/size[0]\n",
    "\n",
    "ax = nan_values.plot(kind='barh', \n",
    "                     figsize=(8, 10), \n",
    "                     color='#0000FF',\n",
    "                     zorder=2,\n",
    "                     width=0.85)\n",
    "\n",
    "ax.spines['top'].set_visible(False)\n",
    "ax.spines['left'].set_visible(False)\n",
    "ax.spines['right'].set_visible(False)\n",
    "ax.spines['bottom'].set_visible(False)\n",
    "\n",
    "ax.tick_params(axis=\"both\", \n",
    "               which=\"both\", \n",
    "               bottom=\"off\", \n",
    "               top=\"off\", \n",
    "               labelbottom=\"on\", \n",
    "               left=\"off\", \n",
    "               right=\"off\", \n",
    "               labelleft=\"on\")\n",
    "ax.set_title(\"Taux de valeurs manquantes pour chaque variable du dataframe df\")\n",
    "vals = ax.get_xticks()\n",
    "\n",
    "for tick in vals:\n",
    "    ax.axvline(x=tick, linestyle='dashed', alpha=0.4, color='#eeeeee', zorder=1)"
   ]
  },
  {
   "cell_type": "code",
   "execution_count": 28,
   "id": "0157da41",
   "metadata": {},
   "outputs": [
    {
     "data": {
      "text/plain": [
       "id_prod       0.000000\n",
       "date          0.000000\n",
       "session_id    0.000000\n",
       "client_id     0.000000\n",
       "sex           0.000000\n",
       "birth         0.000000\n",
       "price         0.030562\n",
       "categ         0.030562\n",
       "dtype: float64"
      ]
     },
     "execution_count": 28,
     "metadata": {},
     "output_type": "execute_result"
    }
   ],
   "source": [
    "nan_values"
   ]
  },
  {
   "cell_type": "code",
   "execution_count": null,
   "id": "b3296ac7",
   "metadata": {},
   "outputs": [],
   "source": []
  },
  {
   "cell_type": "markdown",
   "id": "8965f7b0",
   "metadata": {},
   "source": [
    "## soit supprime, soit moyenne, soit par k plus proches voisins\n",
    "\n",
    "On peut supprimer les valeurs manquantes car il y en a très très peu "
   ]
  },
  {
   "cell_type": "code",
   "execution_count": 29,
   "id": "b2b48abb",
   "metadata": {},
   "outputs": [],
   "source": [
    "#je supprime les valeurs manquantes car très peu de valeurs manquantes\n",
    "df = df.dropna()"
   ]
  },
  {
   "cell_type": "code",
   "execution_count": 30,
   "id": "13a0b6c9",
   "metadata": {},
   "outputs": [
    {
     "data": {
      "text/plain": [
       "id_prod       0\n",
       "date          0\n",
       "session_id    0\n",
       "client_id     0\n",
       "price         0\n",
       "categ         0\n",
       "sex           0\n",
       "birth         0\n",
       "dtype: int64"
      ]
     },
     "execution_count": 30,
     "metadata": {},
     "output_type": "execute_result"
    }
   ],
   "source": [
    "df.isna().sum()"
   ]
  },
  {
   "cell_type": "markdown",
   "id": "e1615268",
   "metadata": {},
   "source": [
    "# Les valeurs aberrantes "
   ]
  },
  {
   "cell_type": "code",
   "execution_count": 31,
   "id": "3a67a70f",
   "metadata": {},
   "outputs": [
    {
     "data": {
      "text/plain": [
       "0          4.99\n",
       "1         65.75\n",
       "2         10.71\n",
       "3          4.20\n",
       "4          8.99\n",
       "          ...  \n",
       "337011    31.99\n",
       "337012    22.99\n",
       "337013    11.03\n",
       "337014    50.99\n",
       "337015    17.99\n",
       "Name: price, Length: 336913, dtype: float64"
      ]
     },
     "execution_count": 31,
     "metadata": {},
     "output_type": "execute_result"
    }
   ],
   "source": [
    "df['price']"
   ]
  },
  {
   "cell_type": "code",
   "execution_count": 32,
   "id": "59a9f7fe",
   "metadata": {},
   "outputs": [
    {
     "data": {
      "text/plain": [
       "<AxesSubplot:xlabel='price'>"
      ]
     },
     "execution_count": 32,
     "metadata": {},
     "output_type": "execute_result"
    },
    {
     "data": {
      "image/png": "[encoded data removed]",
      "text/plain": [
       "<Figure size 432x288 with 1 Axes>"
      ]
     },
     "metadata": {
      "needs_background": "light"
     },
     "output_type": "display_data"
    }
   ],
   "source": [
    "#univariate \n",
    "import seaborn as sns\n",
    "sns.boxplot(x= df['price'])"
   ]
  },
  {
   "cell_type": "code",
   "execution_count": 33,
   "id": "773872f1",
   "metadata": {},
   "outputs": [
    {
     "data": {
      "text/plain": [
       "count    336913.000000\n",
       "mean         17.204376\n",
       "std          17.855658\n",
       "min          -1.000000\n",
       "25%           8.580000\n",
       "50%          13.900000\n",
       "75%          18.990000\n",
       "max         300.000000\n",
       "Name: price, dtype: float64"
      ]
     },
     "execution_count": 33,
     "metadata": {},
     "output_type": "execute_result"
    }
   ],
   "source": [
    "\n",
    "df['price'].describe()"
   ]
  },
  {
   "cell_type": "code",
   "execution_count": 34,
   "id": "8bb653ac",
   "metadata": {},
   "outputs": [],
   "source": [
    "# enlever les valeurs neg\n",
    "\n",
    "df= df[df['price']>0]"
   ]
  },
  {
   "cell_type": "code",
   "execution_count": 35,
   "id": "7b00ed69",
   "metadata": {},
   "outputs": [
    {
     "data": {
      "text/plain": [
       "(336713, 8)"
      ]
     },
     "execution_count": 35,
     "metadata": {},
     "output_type": "execute_result"
    }
   ],
   "source": [
    "df.shape"
   ]
  },
  {
   "cell_type": "code",
   "execution_count": 36,
   "id": "a4587a0e",
   "metadata": {},
   "outputs": [
    {
     "data": {
      "text/plain": [
       "<AxesSubplot:>"
      ]
     },
     "execution_count": 36,
     "metadata": {},
     "output_type": "execute_result"
    },
    {
     "data": {
      "image/png": "[encoded data removed]",
      "text/plain": [
       "<Figure size 432x288 with 1 Axes>"
      ]
     },
     "metadata": {
      "needs_background": "light"
     },
     "output_type": "display_data"
    }
   ],
   "source": [
    "df[\"price\"].hist()"
   ]
  },
  {
   "cell_type": "code",
   "execution_count": 37,
   "id": "e59fe5c7",
   "metadata": {},
   "outputs": [],
   "source": [
    "# 1er quartile = 25% \n",
    "# 2 eme quartile ou mediane = 50%\n",
    "# 3 eme quartile 75%\n",
    "#1er moustache = 1er quartile - 1,5 * intervalleinterquartile \n",
    "# 2er moustache = 3er quartile + 1,5 * intervalleinterquartile (diff entre 3 eme quartile et premier quartile)\n",
    "\n",
    "# pour traiter il faut ramener toutes les valeurs audessus de la 2eme moustache "
   ]
  },
  {
   "cell_type": "code",
   "execution_count": 38,
   "id": "16f353e5",
   "metadata": {},
   "outputs": [],
   "source": [
    "# detecter les outliers en utilisant l'interquartile\n",
    "def detect_outliers_iqr(data):\n",
    "    price = sorted(list(data['price']))\n",
    "    q1 = np.nanpercentile(price, 25)\n",
    "    q3 = np.nanpercentile(price, 75)\n",
    "    #print(q1, q3)\n",
    "    IQR = q3-q1\n",
    "    lwr_bound = q1-(1.5*IQR)\n",
    "    upr_bound = q3+(1.5*IQR)\n",
    "    print(lwr_bound, upr_bound)\n",
    "    outliers= data[(data['price']< lwr_bound) |( data['price']> upr_bound)]\n",
    "    return outliers# Driver code"
   ]
  },
  {
   "cell_type": "code",
   "execution_count": 39,
   "id": "8616e1fb",
   "metadata": {},
   "outputs": [
    {
     "name": "stdout",
     "output_type": "stream",
     "text": [
      "-6.959999999999999 34.559999999999995\n",
      "(20423, 8)\n"
     ]
    },
    {
     "data": {
      "text/html": [
       "<div>\n",
       "<style scoped>\n",
       "    .dataframe tbody tr th:only-of-type {\n",
       "        vertical-align: middle;\n",
       "    }\n",
       "\n",
       "    .dataframe tbody tr th {\n",
       "        vertical-align: top;\n",
       "    }\n",
       "\n",
       "    .dataframe thead th {\n",
       "        text-align: right;\n",
       "    }\n",
       "</style>\n",
       "<table border=\"1\" class=\"dataframe\">\n",
       "  <thead>\n",
       "    <tr style=\"text-align: right;\">\n",
       "      <th></th>\n",
       "      <th>id_prod</th>\n",
       "      <th>date</th>\n",
       "      <th>session_id</th>\n",
       "      <th>client_id</th>\n",
       "      <th>price</th>\n",
       "      <th>categ</th>\n",
       "      <th>sex</th>\n",
       "      <th>birth</th>\n",
       "    </tr>\n",
       "  </thead>\n",
       "  <tbody>\n",
       "    <tr>\n",
       "      <th>1</th>\n",
       "      <td>2_226</td>\n",
       "      <td>2022-02-03 01:55:53.276402</td>\n",
       "      <td>s_159142</td>\n",
       "      <td>c_277</td>\n",
       "      <td>65.75</td>\n",
       "      <td>2.0</td>\n",
       "      <td>f</td>\n",
       "      <td>2000</td>\n",
       "    </tr>\n",
       "    <tr>\n",
       "      <th>27</th>\n",
       "      <td>2_135</td>\n",
       "      <td>2021-05-26 01:46:59.530702</td>\n",
       "      <td>s_39581</td>\n",
       "      <td>c_5192</td>\n",
       "      <td>68.99</td>\n",
       "      <td>2.0</td>\n",
       "      <td>m</td>\n",
       "      <td>1965</td>\n",
       "    </tr>\n",
       "    <tr>\n",
       "      <th>72</th>\n",
       "      <td>1_340</td>\n",
       "      <td>2021-12-01 21:40:04.680653</td>\n",
       "      <td>s_127982</td>\n",
       "      <td>c_6266</td>\n",
       "      <td>42.25</td>\n",
       "      <td>1.0</td>\n",
       "      <td>f</td>\n",
       "      <td>1983</td>\n",
       "    </tr>\n",
       "    <tr>\n",
       "      <th>73</th>\n",
       "      <td>2_208</td>\n",
       "      <td>2021-08-21 21:58:40.983725</td>\n",
       "      <td>s_78917</td>\n",
       "      <td>c_7881</td>\n",
       "      <td>54.87</td>\n",
       "      <td>2.0</td>\n",
       "      <td>m</td>\n",
       "      <td>1996</td>\n",
       "    </tr>\n",
       "    <tr>\n",
       "      <th>84</th>\n",
       "      <td>1_11</td>\n",
       "      <td>2021-11-03 05:22:29.808605</td>\n",
       "      <td>s_114026</td>\n",
       "      <td>c_5070</td>\n",
       "      <td>39.99</td>\n",
       "      <td>1.0</td>\n",
       "      <td>m</td>\n",
       "      <td>1972</td>\n",
       "    </tr>\n",
       "  </tbody>\n",
       "</table>\n",
       "</div>"
      ],
      "text/plain": [
       "   id_prod                        date session_id client_id  price  categ sex  \\\n",
       "1    2_226  2022-02-03 01:55:53.276402   s_159142     c_277  65.75    2.0   f   \n",
       "27   2_135  2021-05-26 01:46:59.530702    s_39581    c_5192  68.99    2.0   m   \n",
       "72   1_340  2021-12-01 21:40:04.680653   s_127982    c_6266  42.25    1.0   f   \n",
       "73   2_208  2021-08-21 21:58:40.983725    s_78917    c_7881  54.87    2.0   m   \n",
       "84    1_11  2021-11-03 05:22:29.808605   s_114026    c_5070  39.99    1.0   m   \n",
       "\n",
       "    birth  \n",
       "1    2000  \n",
       "27   1965  \n",
       "72   1983  \n",
       "73   1996  \n",
       "84   1972  "
      ]
     },
     "execution_count": 39,
     "metadata": {},
     "output_type": "execute_result"
    }
   ],
   "source": [
    "sample_outliers = detect_outliers_iqr(df)\n",
    "#print(\"Outliers from IQR method: \", sample_outliers)\n",
    "print(sample_outliers.shape)\n",
    "sample_outliers.head()"
   ]
  },
  {
   "cell_type": "markdown",
   "id": "323ba629",
   "metadata": {},
   "source": [
    "Les valeurs ne sont pas si abberantes que ça. On peut les garder "
   ]
  },
  {
   "cell_type": "code",
   "execution_count": 40,
   "id": "48243c87",
   "metadata": {},
   "outputs": [
    {
     "name": "stdout",
     "output_type": "stream",
     "text": [
      "(336713, 8)\n"
     ]
    }
   ],
   "source": [
    "#detection des doublons\n",
    "print(df.shape)\n"
   ]
  },
  {
   "cell_type": "code",
   "execution_count": 41,
   "id": "d2bdcb79",
   "metadata": {},
   "outputs": [
    {
     "data": {
      "text/html": [
       "<div>\n",
       "<style scoped>\n",
       "    .dataframe tbody tr th:only-of-type {\n",
       "        vertical-align: middle;\n",
       "    }\n",
       "\n",
       "    .dataframe tbody tr th {\n",
       "        vertical-align: top;\n",
       "    }\n",
       "\n",
       "    .dataframe thead th {\n",
       "        text-align: right;\n",
       "    }\n",
       "</style>\n",
       "<table border=\"1\" class=\"dataframe\">\n",
       "  <thead>\n",
       "    <tr style=\"text-align: right;\">\n",
       "      <th></th>\n",
       "      <th>id_prod</th>\n",
       "      <th>date</th>\n",
       "      <th>session_id</th>\n",
       "      <th>client_id</th>\n",
       "      <th>price</th>\n",
       "      <th>categ</th>\n",
       "      <th>sex</th>\n",
       "      <th>birth</th>\n",
       "    </tr>\n",
       "  </thead>\n",
       "  <tbody>\n",
       "  </tbody>\n",
       "</table>\n",
       "</div>"
      ],
      "text/plain": [
       "Empty DataFrame\n",
       "Columns: [id_prod, date, session_id, client_id, price, categ, sex, birth]\n",
       "Index: []"
      ]
     },
     "execution_count": 41,
     "metadata": {},
     "output_type": "execute_result"
    }
   ],
   "source": [
    "df[df.duplicated()]"
   ]
  },
  {
   "cell_type": "code",
   "execution_count": null,
   "id": "b3cc4b7f",
   "metadata": {},
   "outputs": [],
   "source": []
  },
  {
   "cell_type": "markdown",
   "id": "5f9c503f",
   "metadata": {},
   "source": [
    "## Mission 2 : Analyse "
   ]
  },
  {
   "cell_type": "markdown",
   "id": "e62b112a",
   "metadata": {},
   "source": [
    "### indicateurs de tendance centrale et de dispersion ;"
   ]
  },
  {
   "cell_type": "markdown",
   "id": "1c44c403",
   "metadata": {},
   "source": [
    "Le mode\n",
    "\n",
    "La plupart du temps, je mets entre 40 et 45 min.\n",
    "\n",
    "Quand votre ami vous dit cela, il vous donne une mesure de tendance centrale qui s'appelle le mode.\n",
    "\n",
    "Pour les variables qualitatives, ou pour les variables quantitatives discrètes, le mode est la modalité ou la valeur la plus fréquente. Dans notre relevé bancaire, le mode de la variable categ est \"Autre\", car la modalité \"Autre\" est présente 212 fois dans l'échantillon, et toutes les autres modalités (\"loyer\", \"courses\", etc.) sont présentes moins de fois.\n",
    "\n",
    "Pour les variables quantitatives continues, on travaille dans le cas agrégé, en regroupant les valeurs par classes. La classe modale est la classe la plus fréquente. Votre ami a découpé sa variable en tranches de 5 minutes, et a déterminé que la tranche la plus fréquente était [40min;45min[\n",
    " .\n",
    " \n",
    " La moyenne \n",
    " \n",
    " La médiane\n",
    " \n",
    " La médiane, (notée Med), est la valeur telle que le nombre d’observations supérieures à cette valeur est égal au nombre d’observations inférieures à cette valeur.\n",
    "\n",
    "En gros, pour trouver la médiane de vos n\n",
    " valeurs, il faut commencer par les trier. Une fois triées, on appelle x(1)\n",
    " la première valeur, x(2)\n",
    " la deuxième valeur, ... , et x(n)\n",
    " la dernière valeur. La médiane, c'est la valeur qui sera exactement au milieu du classement, soit\n",
    "\n",
    "Med=x(n+12)\n",
    "M\n",
    "e\n",
    "d\n",
    "=\n",
    "x\n",
    "(\n",
    "n\n",
    "+\n",
    "1\n",
    "2\n",
    ")\n"
   ]
  },
  {
   "cell_type": "code",
   "execution_count": 42,
   "id": "3ccaecb9",
   "metadata": {},
   "outputs": [
    {
     "data": {
      "text/html": [
       "<div>\n",
       "<style scoped>\n",
       "    .dataframe tbody tr th:only-of-type {\n",
       "        vertical-align: middle;\n",
       "    }\n",
       "\n",
       "    .dataframe tbody tr th {\n",
       "        vertical-align: top;\n",
       "    }\n",
       "\n",
       "    .dataframe thead th {\n",
       "        text-align: right;\n",
       "    }\n",
       "</style>\n",
       "<table border=\"1\" class=\"dataframe\">\n",
       "  <thead>\n",
       "    <tr style=\"text-align: right;\">\n",
       "      <th></th>\n",
       "      <th>categ</th>\n",
       "      <th>count</th>\n",
       "      <th>mean</th>\n",
       "      <th>std</th>\n",
       "      <th>min</th>\n",
       "      <th>25%</th>\n",
       "      <th>50%</th>\n",
       "      <th>75%</th>\n",
       "      <th>max</th>\n",
       "    </tr>\n",
       "  </thead>\n",
       "  <tbody>\n",
       "    <tr>\n",
       "      <th>0</th>\n",
       "      <td>0.0</td>\n",
       "      <td>209426.0</td>\n",
       "      <td>10.646828</td>\n",
       "      <td>4.930030</td>\n",
       "      <td>0.62</td>\n",
       "      <td>6.30</td>\n",
       "      <td>9.99</td>\n",
       "      <td>14.45</td>\n",
       "      <td>40.99</td>\n",
       "    </tr>\n",
       "    <tr>\n",
       "      <th>1</th>\n",
       "      <td>1.0</td>\n",
       "      <td>109735.0</td>\n",
       "      <td>20.480106</td>\n",
       "      <td>7.568956</td>\n",
       "      <td>2.00</td>\n",
       "      <td>15.81</td>\n",
       "      <td>19.08</td>\n",
       "      <td>24.98</td>\n",
       "      <td>80.99</td>\n",
       "    </tr>\n",
       "    <tr>\n",
       "      <th>2</th>\n",
       "      <td>2.0</td>\n",
       "      <td>17552.0</td>\n",
       "      <td>75.174949</td>\n",
       "      <td>39.079999</td>\n",
       "      <td>30.99</td>\n",
       "      <td>53.99</td>\n",
       "      <td>62.83</td>\n",
       "      <td>71.21</td>\n",
       "      <td>300.00</td>\n",
       "    </tr>\n",
       "  </tbody>\n",
       "</table>\n",
       "</div>"
      ],
      "text/plain": [
       "   categ     count       mean        std    min    25%    50%    75%     max\n",
       "0    0.0  209426.0  10.646828   4.930030   0.62   6.30   9.99  14.45   40.99\n",
       "1    1.0  109735.0  20.480106   7.568956   2.00  15.81  19.08  24.98   80.99\n",
       "2    2.0   17552.0  75.174949  39.079999  30.99  53.99  62.83  71.21  300.00"
      ]
     },
     "execution_count": 42,
     "metadata": {},
     "output_type": "execute_result"
    }
   ],
   "source": [
    " df.groupby('categ')['price'].describe().reset_index()"
   ]
  },
  {
   "cell_type": "code",
   "execution_count": 43,
   "id": "c6d475b5",
   "metadata": {},
   "outputs": [],
   "source": [
    "categ0 = df[df['categ']==0]\n",
    "categ1 = df[df['categ']==1]\n",
    "categ2 = df[df['categ']==2]\n",
    "price0 = categ0['price']\n",
    "price1 = categ1['price']\n",
    "price2 = categ2['price']"
   ]
  },
  {
   "cell_type": "code",
   "execution_count": 44,
   "id": "e01497a2",
   "metadata": {},
   "outputs": [
    {
     "data": {
      "image/png": "[encoded data removed]",
      "text/plain": [
       "<Figure size 432x288 with 1 Axes>"
      ]
     },
     "metadata": {
      "needs_background": "light"
     },
     "output_type": "display_data"
    }
   ],
   "source": [
    "columns = [price0,price1,price2]\n",
    "\n",
    "plt.subplots()\n",
    "plt.boxplot(columns)\n",
    "plt.xticks([1, 2, 3], [\"categorie0\", \"categorie1\", \"categorie2\"], rotation=10)\n",
    "plt.title(\"distribution des prix en fonction des catégories\")\n",
    "plt.show()"
   ]
  },
  {
   "cell_type": "markdown",
   "id": "dccf8fdc",
   "metadata": {},
   "source": [
    "## les mesures de dispersion"
   ]
  },
  {
   "cell_type": "markdown",
   "id": "fd91d765",
   "metadata": {},
   "source": [
    "La variance empirique\n",
    "\n",
    "Devinez quoi ! L'indicateur que nous venons de construire est l'un des plus utilisés en statistiques ! :soleil: Il s'appelle la variance empirique. Comme nous venons de le voir, elle est égale à\n",
    "\n",
    "v=1n∑i=1n(xi−x⎯⎯⎯)2\n",
    "v\n",
    "=\n",
    "1\n",
    "n\n",
    "∑\n",
    "i\n",
    "=\n",
    "1\n",
    "n\n",
    "(\n",
    "x\n",
    "i\n",
    "−\n",
    "x\n",
    "¯\n",
    ")\n",
    "2\n",
    "\n",
    "\n",
    "Pour approfondir l'aspect calculatoire, rendez-vous à la section Aller plus loin, au bas du chapitre. Aussi, vous trouverez souvent une version \"corrigée\" de la variance empirique, que l'on qualifie de non biaisée. Je vous renvoie ici aussi à la section Aller plus loin.\n",
    "\n",
    "L'écart-type empirique\n",
    "\n",
    "L'écart-type empirique, c'est juste la racine carrée de la variance empirique. On l'appelle en anglais standard deviation, souvent abrégé std. En fait, quand on calcule la variance empirique des temps de trajet, le résultat a pour unité la minute 2\n",
    " , ce qui n'est pas très intelligible. En prenant la racine carrée, l'unité redevient la minute. Ici, notre écart-type vaut 6,55 minutes. On le note s\n",
    " .\n",
    "\n",
    "s=v√\n",
    "\n",
    "Mais lorsque vous faites un trajet, un écart-type de 6,55 minutes sur un trajet de 1 h (1h en moyenne), ce n'est pas la même chose qu'un écart-type de 6,55 minutes sur un trajet de 24 h (24h en moyenne) ! On a donc créé le coefficient de variation, disponible dans la section Aller plus loin.\n",
    "\n",
    "L'écart inter-quartiles\n",
    "\n",
    "La boîte à moustaches (boxplot)\n"
   ]
  },
  {
   "cell_type": "code",
   "execution_count": 45,
   "id": "356cdd0f",
   "metadata": {},
   "outputs": [
    {
     "data": {
      "text/plain": [
       "Index(['id_prod', 'date', 'session_id', 'client_id', 'price', 'categ', 'sex',\n",
       "       'birth'],\n",
       "      dtype='object')"
      ]
     },
     "execution_count": 45,
     "metadata": {},
     "output_type": "execute_result"
    }
   ],
   "source": [
    "#faire avec tableau \n",
    "df.columns"
   ]
  },
  {
   "cell_type": "code",
   "execution_count": 46,
   "id": "51ae332e",
   "metadata": {},
   "outputs": [
    {
     "data": {
      "text/html": [
       "<div>\n",
       "<style scoped>\n",
       "    .dataframe tbody tr th:only-of-type {\n",
       "        vertical-align: middle;\n",
       "    }\n",
       "\n",
       "    .dataframe tbody tr th {\n",
       "        vertical-align: top;\n",
       "    }\n",
       "\n",
       "    .dataframe thead th {\n",
       "        text-align: right;\n",
       "    }\n",
       "</style>\n",
       "<table border=\"1\" class=\"dataframe\">\n",
       "  <thead>\n",
       "    <tr style=\"text-align: right;\">\n",
       "      <th></th>\n",
       "      <th>sex</th>\n",
       "      <th>count</th>\n",
       "      <th>mean</th>\n",
       "      <th>std</th>\n",
       "      <th>min</th>\n",
       "      <th>25%</th>\n",
       "      <th>50%</th>\n",
       "      <th>75%</th>\n",
       "      <th>max</th>\n",
       "    </tr>\n",
       "  </thead>\n",
       "  <tbody>\n",
       "    <tr>\n",
       "      <th>0</th>\n",
       "      <td>f</td>\n",
       "      <td>167515.0</td>\n",
       "      <td>17.067855</td>\n",
       "      <td>17.362773</td>\n",
       "      <td>0.62</td>\n",
       "      <td>8.61</td>\n",
       "      <td>13.94</td>\n",
       "      <td>18.99</td>\n",
       "      <td>300.0</td>\n",
       "    </tr>\n",
       "    <tr>\n",
       "      <th>1</th>\n",
       "      <td>m</td>\n",
       "      <td>169198.0</td>\n",
       "      <td>17.361056</td>\n",
       "      <td>18.329061</td>\n",
       "      <td>0.62</td>\n",
       "      <td>8.58</td>\n",
       "      <td>13.89</td>\n",
       "      <td>18.99</td>\n",
       "      <td>300.0</td>\n",
       "    </tr>\n",
       "  </tbody>\n",
       "</table>\n",
       "</div>"
      ],
      "text/plain": [
       "  sex     count       mean        std   min   25%    50%    75%    max\n",
       "0   f  167515.0  17.067855  17.362773  0.62  8.61  13.94  18.99  300.0\n",
       "1   m  169198.0  17.361056  18.329061  0.62  8.58  13.89  18.99  300.0"
      ]
     },
     "execution_count": 46,
     "metadata": {},
     "output_type": "execute_result"
    }
   ],
   "source": [
    "df.groupby(['sex'])['price'].describe().reset_index()\n"
   ]
  },
  {
   "cell_type": "code",
   "execution_count": 47,
   "id": "bb5049bb",
   "metadata": {},
   "outputs": [],
   "source": [
    "pricebysexf = df[df['sex']=='f']\n",
    "pricebysexm = df[df['sex']=='m']\n",
    "pricef = pricebysexf['price']\n",
    "pricem = pricebysexm['price']"
   ]
  },
  {
   "cell_type": "code",
   "execution_count": 48,
   "id": "159eb246",
   "metadata": {},
   "outputs": [
    {
     "data": {
      "image/png": "[encoded data removed]",
      "text/plain": [
       "<Figure size 432x288 with 1 Axes>"
      ]
     },
     "metadata": {
      "needs_background": "light"
     },
     "output_type": "display_data"
    }
   ],
   "source": [
    "columns = [pricef,pricem]\n",
    "\n",
    "plt.subplots()\n",
    "plt.boxplot(columns)\n",
    "plt.xticks([1, 2], [\"female\", \"male\"], rotation=10)\n",
    "plt.title(\"distribution des prix en fonction du genre\")\n",
    "plt.show()"
   ]
  },
  {
   "cell_type": "markdown",
   "id": "bbc1b473",
   "metadata": {},
   "source": [
    "## Les mesures de forme"
   ]
  },
  {
   "cell_type": "markdown",
   "id": "b301ac76",
   "metadata": {},
   "source": [
    "Le Skewness empirique\n",
    "\n",
    "Devinez quoi ! L'indicateur que nous venons de créer est utilisé par les statisticiens, et s'appelle le skewness empirique. En général, on a l'habitude de nommer le skewness γ1\n",
    " , et son numérateur μ3\n",
    " :\n",
    "\n",
    "γ1=μ3s3\n",
    "γ\n",
    "1\n",
    "=\n",
    "μ\n",
    "3\n",
    "s\n",
    "3\n",
    "avec μ3=1n∑ni=1(xi−x⎯⎯⎯)3\n",
    "μ\n",
    "3\n",
    "=\n",
    "1\n",
    "n\n",
    "∑\n",
    "i\n",
    "=\n",
    "1\n",
    "n\n",
    "(\n",
    "x\n",
    "i\n",
    "−\n",
    "x\n",
    "¯\n",
    ")\n",
    "3\n",
    "\n",
    "Le skewness est une mesure d'asymétrie. L’asymétrie d’une distribution traduit la régularité (ou non) avec laquelle les observations se répartissent autour de la valeur centrale. On interprète cette mesure de cette manière :\n",
    "\n",
    "Si γ1=0\n",
    "γ\n",
    "1\n",
    "=\n",
    "0\n",
    " alors la distribution est symétrique.\n",
    "Si γ1>0\n",
    "γ\n",
    "1\n",
    ">\n",
    "0\n",
    " alors la distribution est étalée à droite.\n",
    "Si γ1<0\n",
    "γ\n",
    "1\n",
    "<\n",
    "0\n",
    " alors la distribution est étalée à gauche.\n",
    "Relation entre la forme de la distribution et le skewness\n",
    "\n",
    "Le Kurtosis empirique\n",
    "\n",
    "Le kurtosis empirique n'est pas une mesure d'asymétrie, mais c'est une mesure d'aplatissement. L’aplatissement peut s’interpréter à la condition que la distribution soit symétrique. En fait, on compare l'aplatissement par rapport à la distribution la plus célèbre, appelée distribution normale (parfois \"courbe de Gauss\" ou \"Gaussienne\"). Vous l'avez probablement déjà vue, elle ressemble à cela :\n",
    "\n",
    "Il s’interprète comme ceci :\n",
    "\n",
    "Si γ2=0\n",
    " , alors la distribution a le même aplatissement que la distribution normale.\n",
    "Si γ2>0\n",
    " , alors elle est moins aplatie que la distribution normale : les observations sont plus concentrées.\n",
    "Si γ2<0\n",
    " , alors les observations sont moins concentrées : la distribution est plus aplatie."
   ]
  },
  {
   "cell_type": "markdown",
   "id": "3c3eac74",
   "metadata": {},
   "source": [
    "## Les mesures de concentration"
   ]
  },
  {
   "cell_type": "code",
   "execution_count": 49,
   "id": "bbb2207e",
   "metadata": {},
   "outputs": [
    {
     "data": {
      "image/png": "[encoded data removed]",
      "text/plain": [
       "<Figure size 432x288 with 1 Axes>"
      ]
     },
     "metadata": {
      "needs_background": "light"
     },
     "output_type": "display_data"
    }
   ],
   "source": [
    "#courbe de Lorenz : permet de voir comment les prix sont répartis en fonction des achats si les prix sont plutôt égalitaire \n",
    "\n",
    "price = df['price']\n",
    "prix = price.values\n",
    "#longueur des prix \n",
    "n = len(prix)\n",
    "# trier les individus dans l'ordre croissant des valeurs de la variable et calcul de la somme cumulé \n",
    "lorenz = np.cumsum(np.sort(prix)) / prix.sum()\n",
    "lorenz = np.append([0],lorenz) # La courbe de Lorenz commence à 0\n",
    "\n",
    "plt.axes().axis('equal')\n",
    "xaxis = np.linspace(0-1/n,1+1/n,n+1) #Il y a un segment de taille n pour chaque individu, plus 1 segment supplémentaire d'ordonnée 0. Le premier segment commence à 0-1/n, et le dernier termine à 1+1/n.\n",
    "plt.plot(xaxis,lorenz,drawstyle='steps-post')\n",
    "plt.title('courbe de Lorenz  répartition des prix')\n",
    "plt.show()"
   ]
  },
  {
   "cell_type": "code",
   "execution_count": 50,
   "id": "da139e45",
   "metadata": {},
   "outputs": [
    {
     "data": {
      "text/plain": [
       "0.392145510890881"
      ]
     },
     "execution_count": 50,
     "metadata": {},
     "output_type": "execute_result"
    }
   ],
   "source": [
    "#indice de Gini qui est la statistique de la courbe de lorenz. Il calcule Il mesure l'aire présente entre la première bissectrice et la courbe de Lorenz\n",
    "AUC = (lorenz.sum() -lorenz[-1]/2 -lorenz[0]/2)/n # Surface sous la courbe de Lorenz. Le premier segment (lorenz[0]) est à moitié en dessous de 0, on le coupe donc en 2, on fait de même pour le dernier segment lorenz[-1] qui est à moitié au dessus de 1.\n",
    "S = 0.5 - AUC # surface entre la première bissectrice et le courbe de Lorenz\n",
    "gini = 2*S\n",
    "gini"
   ]
  },
  {
   "cell_type": "markdown",
   "id": "f0d15409",
   "metadata": {},
   "source": [
    "## interprétation de l'indice de Gini\n",
    "\n",
    "0 est l'égalité parfaite et 1 est l'inagalité parfaite.\n",
    "0.39 indice de Gini c'est que c'est plutôt egalitaire"
   ]
  },
  {
   "cell_type": "markdown",
   "id": "322d9433",
   "metadata": {},
   "source": [
    "## Evolution du prix avec le temps"
   ]
  },
  {
   "cell_type": "code",
   "execution_count": 51,
   "id": "b9c08612",
   "metadata": {},
   "outputs": [
    {
     "name": "stderr",
     "output_type": "stream",
     "text": [
      "<ipython-input-51-b971a0e8dd3b>:3: SettingWithCopyWarning: \n",
      "A value is trying to be set on a copy of a slice from a DataFrame.\n",
      "Try using .loc[row_indexer,col_indexer] = value instead\n",
      "\n",
      "See the caveats in the documentation: https://pandas.pydata.org/pandas-docs/stable/user_guide/indexing.html#returning-a-view-versus-a-copy\n",
      "  df_date['date'] = pd.to_datetime(df['date'])\n"
     ]
    },
    {
     "data": {
      "image/png": "[encoded data removed]",
      "text/plain": [
       "<Figure size 1440x720 with 1 Axes>"
      ]
     },
     "metadata": {
      "needs_background": "light"
     },
     "output_type": "display_data"
    },
    {
     "data": {
      "text/plain": [
       "DatetimeIndex(['2021-04-10 18:37:28.723910', '2022-02-03 01:55:53.276402',\n",
       "               '2021-09-23 15:13:46.938559', '2021-10-17 03:27:18.783634',\n",
       "               '2021-07-17 20:34:25.800563', '2021-09-15 05:47:48.215162',\n",
       "               '2021-08-29 05:39:01.055455', '2021-09-19 14:54:52.410362',\n",
       "               '2022-02-03 07:13:22.559995', '2022-02-26 09:03:10.571665',\n",
       "               ...\n",
       "               '2021-10-17 12:47:22.803642', '2021-06-01 12:14:28.924898',\n",
       "               '2022-01-10 13:47:23.973957', '2021-07-22 13:47:39.400914',\n",
       "               '2022-02-03 01:39:15.793010', '2021-05-28 12:35:46.214839',\n",
       "               '2021-06-19 00:19:23.917703', '2021-03-16 17:31:59.442007',\n",
       "               '2021-10-30 16:50:15.997750', '2021-06-26 14:38:19.732946'],\n",
       "              dtype='datetime64[ns]', name='date', length=336713, freq=None)"
      ]
     },
     "execution_count": 51,
     "metadata": {},
     "output_type": "execute_result"
    }
   ],
   "source": [
    "#tracer l'évolution du prix sur le temps\n",
    "df_date = df[['date','price']]\n",
    "df_date['date'] = pd.to_datetime(df['date'])\n",
    "df_date = df_date.set_index('date')\n",
    "df_date['price'].plot(figsize=(20, 10))\n",
    "plt.show()\n",
    "\n",
    "df_date.index"
   ]
  },
  {
   "cell_type": "code",
   "execution_count": 52,
   "id": "ee81b06c",
   "metadata": {},
   "outputs": [
    {
     "data": {
      "image/png": "[encoded data removed]",
      "text/plain": [
       "<Figure size 1440x720 with 1 Axes>"
      ]
     },
     "metadata": {
      "needs_background": "light"
     },
     "output_type": "display_data"
    }
   ],
   "source": [
    "#on fait une moyenne par mois \n",
    "df_date_monthly_mean = df_date.resample('M').mean()\n",
    "\n",
    "df_date_monthly_mean['price'].plot(figsize=(20, 10))\n",
    "plt.title('évolution du CA par mois')\n",
    "plt.show()\n",
    "\n"
   ]
  },
  {
   "cell_type": "code",
   "execution_count": 53,
   "id": "f694b2df",
   "metadata": {},
   "outputs": [
    {
     "data": {
      "image/png": "[encoded data removed]",
      "text/plain": [
       "<Figure size 1440x720 with 1 Axes>"
      ]
     },
     "metadata": {
      "needs_background": "light"
     },
     "output_type": "display_data"
    }
   ],
   "source": [
    "#moyenne par semaine\n",
    "df_date_weekly_mean = df_date.resample('W').mean()\n",
    "\n",
    "df_date_weekly_mean['price'].plot(figsize=(20, 10))\n",
    "plt.title('évolution duCA par semaine')\n",
    "plt.show()\n",
    "\n"
   ]
  },
  {
   "cell_type": "code",
   "execution_count": 54,
   "id": "dacd4f3c",
   "metadata": {},
   "outputs": [
    {
     "data": {
      "image/png": "[encoded data removed]",
      "text/plain": [
       "<Figure size 1440x720 with 1 Axes>"
      ]
     },
     "metadata": {
      "needs_background": "light"
     },
     "output_type": "display_data"
    }
   ],
   "source": [
    "#moyenne par jour \n",
    "df_date_daily_mean = df_date.resample('D').mean()\n",
    "\n",
    "df_date_daily_mean['price'].plot(figsize=(20, 10))\n",
    "plt.title('évolution du CA par jour')\n",
    "plt.show()"
   ]
  },
  {
   "cell_type": "code",
   "execution_count": 55,
   "id": "05d7f4a7",
   "metadata": {},
   "outputs": [
    {
     "data": {
      "text/html": [
       "<div>\n",
       "<style scoped>\n",
       "    .dataframe tbody tr th:only-of-type {\n",
       "        vertical-align: middle;\n",
       "    }\n",
       "\n",
       "    .dataframe tbody tr th {\n",
       "        vertical-align: top;\n",
       "    }\n",
       "\n",
       "    .dataframe thead th {\n",
       "        text-align: right;\n",
       "    }\n",
       "</style>\n",
       "<table border=\"1\" class=\"dataframe\">\n",
       "  <thead>\n",
       "    <tr style=\"text-align: right;\">\n",
       "      <th></th>\n",
       "      <th>price</th>\n",
       "    </tr>\n",
       "    <tr>\n",
       "      <th>date</th>\n",
       "      <th></th>\n",
       "    </tr>\n",
       "  </thead>\n",
       "  <tbody>\n",
       "    <tr>\n",
       "      <th>2021-03-01</th>\n",
       "      <td>17.100250</td>\n",
       "    </tr>\n",
       "    <tr>\n",
       "      <th>2021-03-02</th>\n",
       "      <td>16.368698</td>\n",
       "    </tr>\n",
       "    <tr>\n",
       "      <th>2021-03-03</th>\n",
       "      <td>16.300276</td>\n",
       "    </tr>\n",
       "    <tr>\n",
       "      <th>2021-03-04</th>\n",
       "      <td>16.700433</td>\n",
       "    </tr>\n",
       "    <tr>\n",
       "      <th>2021-03-05</th>\n",
       "      <td>18.289042</td>\n",
       "    </tr>\n",
       "    <tr>\n",
       "      <th>...</th>\n",
       "      <td>...</td>\n",
       "    </tr>\n",
       "    <tr>\n",
       "      <th>2022-02-24</th>\n",
       "      <td>18.781135</td>\n",
       "    </tr>\n",
       "    <tr>\n",
       "      <th>2022-02-25</th>\n",
       "      <td>18.402794</td>\n",
       "    </tr>\n",
       "    <tr>\n",
       "      <th>2022-02-26</th>\n",
       "      <td>17.946939</td>\n",
       "    </tr>\n",
       "    <tr>\n",
       "      <th>2022-02-27</th>\n",
       "      <td>17.167717</td>\n",
       "    </tr>\n",
       "    <tr>\n",
       "      <th>2022-02-28</th>\n",
       "      <td>17.886511</td>\n",
       "    </tr>\n",
       "  </tbody>\n",
       "</table>\n",
       "<p>365 rows × 1 columns</p>\n",
       "</div>"
      ],
      "text/plain": [
       "                price\n",
       "date                 \n",
       "2021-03-01  17.100250\n",
       "2021-03-02  16.368698\n",
       "2021-03-03  16.300276\n",
       "2021-03-04  16.700433\n",
       "2021-03-05  18.289042\n",
       "...               ...\n",
       "2022-02-24  18.781135\n",
       "2022-02-25  18.402794\n",
       "2022-02-26  17.946939\n",
       "2022-02-27  17.167717\n",
       "2022-02-28  17.886511\n",
       "\n",
       "[365 rows x 1 columns]"
      ]
     },
     "execution_count": 55,
     "metadata": {},
     "output_type": "execute_result"
    }
   ],
   "source": [
    "df_date_daily_mean"
   ]
  },
  {
   "cell_type": "code",
   "execution_count": 56,
   "id": "2f5faa90",
   "metadata": {},
   "outputs": [
    {
     "name": "stderr",
     "output_type": "stream",
     "text": [
      "/Users/moradledmaoui/opt/anaconda3/lib/python3.8/site-packages/seaborn/_decorators.py:36: FutureWarning: Pass the following variable as a keyword arg: x. From version 0.12, the only valid positional argument will be `data`, and passing other arguments without an explicit keyword will result in an error or misinterpretation.\n",
      "  warnings.warn(\n"
     ]
    },
    {
     "data": {
      "text/plain": [
       "<AxesSubplot:xlabel='sex', ylabel='count'>"
      ]
     },
     "execution_count": 56,
     "metadata": {},
     "output_type": "execute_result"
    },
    {
     "data": {
      "image/png": "[encoded data removed]",
      "text/plain": [
       "<Figure size 432x288 with 1 Axes>"
      ]
     },
     "metadata": {
      "needs_background": "light"
     },
     "output_type": "display_data"
    }
   ],
   "source": [
    "#variable genre \n",
    "sns.countplot(df['sex'])\n"
   ]
  },
  {
   "cell_type": "markdown",
   "id": "cc3cdc16",
   "metadata": {},
   "source": [
    " il y a autant de femmes que d'hommes"
   ]
  },
  {
   "cell_type": "code",
   "execution_count": 57,
   "id": "fabc07c5",
   "metadata": {},
   "outputs": [
    {
     "name": "stderr",
     "output_type": "stream",
     "text": [
      "/Users/moradledmaoui/opt/anaconda3/lib/python3.8/site-packages/seaborn/distributions.py:2557: FutureWarning: `distplot` is a deprecated function and will be removed in a future version. Please adapt your code to use either `displot` (a figure-level function with similar flexibility) or `histplot` (an axes-level function for histograms).\n",
      "  warnings.warn(msg, FutureWarning)\n"
     ]
    },
    {
     "data": {
      "text/plain": [
       "<AxesSubplot:xlabel='birth', ylabel='Density'>"
      ]
     },
     "execution_count": 57,
     "metadata": {},
     "output_type": "execute_result"
    },
    {
     "data": {
      "image/png": "[encoded data removed]",
      "text/plain": [
       "<Figure size 432x288 with 1 Axes>"
      ]
     },
     "metadata": {
      "needs_background": "light"
     },
     "output_type": "display_data"
    }
   ],
   "source": [
    "# la variable age\n",
    "sns.distplot(df['birth'], bins=30)"
   ]
  },
  {
   "cell_type": "code",
   "execution_count": 61,
   "id": "408e7542",
   "metadata": {},
   "outputs": [
    {
     "data": {
      "text/html": [
       "<div>\n",
       "<style scoped>\n",
       "    .dataframe tbody tr th:only-of-type {\n",
       "        vertical-align: middle;\n",
       "    }\n",
       "\n",
       "    .dataframe tbody tr th {\n",
       "        vertical-align: top;\n",
       "    }\n",
       "\n",
       "    .dataframe thead th {\n",
       "        text-align: right;\n",
       "    }\n",
       "</style>\n",
       "<table border=\"1\" class=\"dataframe\">\n",
       "  <thead>\n",
       "    <tr style=\"text-align: right;\">\n",
       "      <th></th>\n",
       "      <th>id_prod</th>\n",
       "      <th>date</th>\n",
       "      <th>session_id</th>\n",
       "      <th>client_id</th>\n",
       "      <th>price</th>\n",
       "      <th>categ</th>\n",
       "      <th>sex</th>\n",
       "      <th>birth</th>\n",
       "      <th>Age</th>\n",
       "    </tr>\n",
       "  </thead>\n",
       "  <tbody>\n",
       "    <tr>\n",
       "      <th>0</th>\n",
       "      <td>0_1483</td>\n",
       "      <td>2021-04-10 18:37:28.723910</td>\n",
       "      <td>s_18746</td>\n",
       "      <td>c_4450</td>\n",
       "      <td>4.99</td>\n",
       "      <td>0.0</td>\n",
       "      <td>f</td>\n",
       "      <td>1977</td>\n",
       "      <td>44</td>\n",
       "    </tr>\n",
       "    <tr>\n",
       "      <th>1</th>\n",
       "      <td>2_226</td>\n",
       "      <td>2022-02-03 01:55:53.276402</td>\n",
       "      <td>s_159142</td>\n",
       "      <td>c_277</td>\n",
       "      <td>65.75</td>\n",
       "      <td>2.0</td>\n",
       "      <td>f</td>\n",
       "      <td>2000</td>\n",
       "      <td>21</td>\n",
       "    </tr>\n",
       "    <tr>\n",
       "      <th>2</th>\n",
       "      <td>1_374</td>\n",
       "      <td>2021-09-23 15:13:46.938559</td>\n",
       "      <td>s_94290</td>\n",
       "      <td>c_4270</td>\n",
       "      <td>10.71</td>\n",
       "      <td>1.0</td>\n",
       "      <td>f</td>\n",
       "      <td>1979</td>\n",
       "      <td>42</td>\n",
       "    </tr>\n",
       "    <tr>\n",
       "      <th>3</th>\n",
       "      <td>0_2186</td>\n",
       "      <td>2021-10-17 03:27:18.783634</td>\n",
       "      <td>s_105936</td>\n",
       "      <td>c_4597</td>\n",
       "      <td>4.20</td>\n",
       "      <td>0.0</td>\n",
       "      <td>m</td>\n",
       "      <td>1963</td>\n",
       "      <td>58</td>\n",
       "    </tr>\n",
       "    <tr>\n",
       "      <th>4</th>\n",
       "      <td>0_1351</td>\n",
       "      <td>2021-07-17 20:34:25.800563</td>\n",
       "      <td>s_63642</td>\n",
       "      <td>c_1242</td>\n",
       "      <td>8.99</td>\n",
       "      <td>0.0</td>\n",
       "      <td>f</td>\n",
       "      <td>1980</td>\n",
       "      <td>41</td>\n",
       "    </tr>\n",
       "  </tbody>\n",
       "</table>\n",
       "</div>"
      ],
      "text/plain": [
       "  id_prod                        date session_id client_id  price  categ sex  \\\n",
       "0  0_1483  2021-04-10 18:37:28.723910    s_18746    c_4450   4.99    0.0   f   \n",
       "1   2_226  2022-02-03 01:55:53.276402   s_159142     c_277  65.75    2.0   f   \n",
       "2   1_374  2021-09-23 15:13:46.938559    s_94290    c_4270  10.71    1.0   f   \n",
       "3  0_2186  2021-10-17 03:27:18.783634   s_105936    c_4597   4.20    0.0   m   \n",
       "4  0_1351  2021-07-17 20:34:25.800563    s_63642    c_1242   8.99    0.0   f   \n",
       "\n",
       "   birth  Age  \n",
       "0   1977   44  \n",
       "1   2000   21  \n",
       "2   1979   42  \n",
       "3   1963   58  \n",
       "4   1980   41  "
      ]
     },
     "execution_count": 61,
     "metadata": {},
     "output_type": "execute_result"
    }
   ],
   "source": [
    "# je converti les années de naissance en age\n",
    "from datetime import datetime, date\n",
    "  \n",
    "# This function converts given date to age\n",
    "def age(born):\n",
    "    return datetime.today().year - born\n",
    "\n",
    "df['Age'] = df['birth'].apply(age)\n",
    "df.head()\n"
   ]
  },
  {
   "cell_type": "code",
   "execution_count": 62,
   "id": "d16f496c",
   "metadata": {},
   "outputs": [
    {
     "data": {
      "text/plain": [
       "2021"
      ]
     },
     "execution_count": 62,
     "metadata": {},
     "output_type": "execute_result"
    }
   ],
   "source": [
    "datetime.today().year"
   ]
  },
  {
   "cell_type": "code",
   "execution_count": 63,
   "id": "93837990",
   "metadata": {},
   "outputs": [
    {
     "name": "stderr",
     "output_type": "stream",
     "text": [
      "/Users/moradledmaoui/opt/anaconda3/lib/python3.8/site-packages/seaborn/distributions.py:2557: FutureWarning: `distplot` is a deprecated function and will be removed in a future version. Please adapt your code to use either `displot` (a figure-level function with similar flexibility) or `histplot` (an axes-level function for histograms).\n",
      "  warnings.warn(msg, FutureWarning)\n"
     ]
    },
    {
     "data": {
      "text/plain": [
       "<AxesSubplot:xlabel='Age', ylabel='Density'>"
      ]
     },
     "execution_count": 63,
     "metadata": {},
     "output_type": "execute_result"
    },
    {
     "data": {
      "image/png": "[encoded data removed]",
      "text/plain": [
       "<Figure size 432x288 with 1 Axes>"
      ]
     },
     "metadata": {
      "needs_background": "light"
     },
     "output_type": "display_data"
    }
   ],
   "source": [
    "# la variable age\n",
    "sns.distplot(df['Age'], bins=30)"
   ]
  },
  {
   "cell_type": "markdown",
   "id": "13396e8a",
   "metadata": {},
   "source": [
    "## analyse bivariées  entre 2 variables quantitatives et correlation de pearson\n",
    "\n",
    "La covariance empirique et le coefficient de corrélation\n",
    "\n",
    "Devinez quoi ! L'indicateur que nous venons de construire est très utilisé en statistiques ; il s'appelle la covariance empirique de X et Y. Ce terme vous rappelle la variance empirique ? C'est normal : elles sont similaires. Effectivement, si vous calculez la covariance empirique de X et X, vous retombez sur la formule de la variance empirique de X, qui s'écrit  s2X=1n∑ni=1(x−x⎯⎯⎯)2\n",
    "s\n",
    "X\n",
    "2\n",
    "=\n",
    "1\n",
    "n\n",
    "∑\n",
    "i\n",
    "=\n",
    "1\n",
    "n\n",
    "(\n",
    "x\n",
    "−\n",
    "x\n",
    "¯\n",
    ")\n",
    "2\n",
    " . Magique !\n",
    "\n",
    "Pour ramener la covariance empirique à une valeur qui soit comprise entre -1 et 1, alors on peut la diviser par le produit des écarts-types. Cette normalisation nous permet de faire des comparaisons. Ce qui nous donne\n",
    "\n",
    "rX,Y=sX,YsXsY\n",
    "r\n",
    "X\n",
    ",\n",
    "Y\n",
    "=\n",
    "s\n",
    "X\n",
    ",\n",
    "Y\n",
    "s\n",
    "X\n",
    "s\n",
    "Y\n",
    "Ce coefficient r est appelé coefficient de corrélation, ou coefficient de corrélation linéaire, ou encore coefficient de corrélation de Pearson.\n",
    "\n",
    "\n"
   ]
  },
  {
   "cell_type": "code",
   "execution_count": 64,
   "id": "6aa425b8",
   "metadata": {},
   "outputs": [
    {
     "data": {
      "text/plain": [
       "Text(0.5, 1.0, 'Scatter plot entre Age et le prix payé')"
      ]
     },
     "execution_count": 64,
     "metadata": {},
     "output_type": "execute_result"
    },
    {
     "data": {
      "image/png": "[encoded data removed]",
      "text/plain": [
       "<Figure size 720x432 with 1 Axes>"
      ]
     },
     "metadata": {
      "needs_background": "light"
     },
     "output_type": "display_data"
    }
   ],
   "source": [
    "#correlation entre age et price\n",
    "plt.figure(figsize=(10,6))\n",
    "plt.scatter(df['Age'],df['price'], marker='o');\n",
    "plt.xlabel('Age')\n",
    "plt.ylabel('price')\n",
    "plt.title('Scatter plot entre Age et le prix payé')"
   ]
  },
  {
   "cell_type": "code",
   "execution_count": 65,
   "id": "4f59d78b",
   "metadata": {},
   "outputs": [
    {
     "name": "stdout",
     "output_type": "stream",
     "text": [
      "-0.21152926170471423\n",
      "-51.08094556500932\n"
     ]
    }
   ],
   "source": [
    "#coefficient de correlation de Pearson\n",
    "import scipy.stats as st\n",
    "import numpy as np\n",
    "\n",
    "print(st.pearsonr(df[\"price\"],df[\"Age\"])[0])#Un couple de valeurs est renvoyé, le coefficient de corrélation est la premier élément de ce couple, d'où le  [0]\n",
    "print(np.cov(df[\"price\"],df[\"Age\"],ddof=0)[1,0])#la matrice de covariance deuxième ligne 1ere colonne"
   ]
  },
  {
   "cell_type": "code",
   "execution_count": 66,
   "id": "0b47eb79",
   "metadata": {},
   "outputs": [],
   "source": [
    "#test corrélation de pearson pour voir si les resultat sont significatif p value : hypothèse H0\n",
    "# car le coeeficient n'est pas très bas "
   ]
  },
  {
   "cell_type": "code",
   "execution_count": null,
   "id": "a51ea864",
   "metadata": {},
   "outputs": [],
   "source": []
  },
  {
   "cell_type": "markdown",
   "id": "9be12705",
   "metadata": {},
   "source": [
    "on a une corrélation négative entre les deux variables : plus l'age est élevé moins les dépenses sur le site sont élevés"
   ]
  },
  {
   "cell_type": "code",
   "execution_count": 67,
   "id": "dadce222",
   "metadata": {},
   "outputs": [],
   "source": [
    "\n",
    "taille_classe = 10 # taille des classes pour la discrétisation\n",
    "\n",
    "groupes = [] # va recevoir les données agrégées à afficher\n",
    "\n",
    "# on calcule des tranches allant de 0 au solde maximum par paliers de taille taille_classe\n",
    "tranches = np.arange(0, max(df[\"Age\"]), taille_classe)\n",
    "#tranches += taille_classe/2 # on décale les tranches d'une demi taille de classe\n",
    "indices = np.digitize(df[\"Age\"], tranches) # associe chaque solde à son numéro de classe\n",
    "\n",
    "for ind, tr in enumerate(tranches): # pour chaque tranche, ind reçoit le numéro de tranche et tr la tranche en question\n",
    "    montants = df.loc[indices==ind,\"price\"] # sélection des individus de la tranche ind\n",
    "    if len(montants) > 0:\n",
    "        g = {\n",
    "            'valeurs': montants,\n",
    "            'centre_classe': tr-(taille_classe/2),\n",
    "            'taille': len(montants),\n",
    "            'quartiles': [np.percentile(montants,p) for p in [25,50,75]]\n",
    "        }\n",
    "        groupes.append(g)"
   ]
  },
  {
   "cell_type": "code",
   "execution_count": 69,
   "id": "cdfa65ee",
   "metadata": {},
   "outputs": [
    {
     "data": {
      "image/png": "[encoded data removed]",
      "text/plain": [
       "<Figure size 1080x432 with 1 Axes>"
      ]
     },
     "metadata": {
      "needs_background": "light"
     },
     "output_type": "display_data"
    }
   ],
   "source": [
    "# affichage des boxplots\n",
    "plt.figure(figsize=(15, 6))\n",
    "plt.boxplot([g[\"valeurs\"] for g in groupes],\n",
    "            positions= [g[\"centre_classe\"] for g in groupes], # abscisses des boxplots\n",
    "            showfliers= False, # on ne prend pas en compte les outliers\n",
    "            widths= taille_classe*0.6, # largeur graphique des boxplots\n",
    ")\n",
    "# affichage des effectifs de chaque classe\n",
    "for g in groupes:\n",
    "    plt.text(g[\"centre_classe\"],0,\"(n={})\".format(g[\"taille\"]),horizontalalignment='center',verticalalignment='top') \n",
    "plt.title(\"correlation entre l'age et le montant dépensé\" )\n",
    "plt.show()"
   ]
  },
  {
   "cell_type": "code",
   "execution_count": 70,
   "id": "adc02533",
   "metadata": {},
   "outputs": [
    {
     "data": {
      "text/plain": [
       "array([ 0, 10, 20, 30, 40, 50, 60, 70, 80, 90])"
      ]
     },
     "execution_count": 70,
     "metadata": {},
     "output_type": "execute_result"
    }
   ],
   "source": [
    "tranches"
   ]
  },
  {
   "cell_type": "code",
   "execution_count": 71,
   "id": "a79722ad",
   "metadata": {},
   "outputs": [
    {
     "data": {
      "image/png": "[encoded data removed]",
      "text/plain": [
       "<Figure size 432x288 with 1 Axes>"
      ]
     },
     "metadata": {
      "needs_background": "light"
     },
     "output_type": "display_data"
    }
   ],
   "source": [
    "# affichage des quartiles\n",
    "for n_quartile in range(3):\n",
    "    plt.plot([g[\"centre_classe\"] for g in groupes],\n",
    "             [g[\"quartiles\"][n_quartile] for g in groupes])\n",
    "plt.show()"
   ]
  },
  {
   "cell_type": "markdown",
   "id": "e6eb97e0",
   "metadata": {},
   "source": [
    " ## correlation entre l'age et la catégorie \n"
   ]
  },
  {
   "cell_type": "code",
   "execution_count": 72,
   "id": "2ec5aea5",
   "metadata": {},
   "outputs": [
    {
     "data": {
      "image/png": "[encoded data removed]",
      "text/plain": [
       "<Figure size 432x288 with 1 Axes>"
      ]
     },
     "metadata": {
      "needs_background": "light"
     },
     "output_type": "display_data"
    }
   ],
   "source": [
    "# correlation variable quanti(Age) et quali(catego) \n",
    "#on veut savoir si il y a une correlation entre la categorie d'achat et l'age \n",
    "X = \"categ\" # qualitative\n",
    "Y = \"Age\" # quantitative\n",
    "\n",
    "ax = sns.boxplot(x=\"categ\", y=\"Age\", data=df)"
   ]
  },
  {
   "cell_type": "code",
   "execution_count": 74,
   "id": "f17b43ea",
   "metadata": {},
   "outputs": [
    {
     "data": {
      "text/plain": [
       "<AxesSubplot:title={'center':'Age'}, xlabel='categ'>"
      ]
     },
     "execution_count": 74,
     "metadata": {},
     "output_type": "execute_result"
    },
    {
     "data": {
      "image/png": "[encoded data removed]",
      "text/plain": [
       "<Figure size 576x576 with 1 Axes>"
      ]
     },
     "metadata": {
      "needs_background": "light"
     },
     "output_type": "display_data"
    }
   ],
   "source": [
    "\n",
    "df.boxplot(column=\"Age\",        # Column to plot\n",
    "                 by= \"categ\",         # Column to split upon\n",
    "                 figsize= (8,8))        # Figure size"
   ]
  },
  {
   "cell_type": "code",
   "execution_count": null,
   "id": "ab9dbd51",
   "metadata": {},
   "outputs": [],
   "source": [
    "#faire les test de correlation de pearson et c'est tout "
   ]
  },
  {
   "cell_type": "code",
   "execution_count": null,
   "id": "42dc438b",
   "metadata": {},
   "outputs": [],
   "source": []
  },
  {
   "cell_type": "code",
   "execution_count": null,
   "id": "6dbfc62d",
   "metadata": {},
   "outputs": [],
   "source": []
  },
  {
   "cell_type": "markdown",
   "id": "4669fdec",
   "metadata": {},
   "source": [
    "En fonction de l'age les gens vont acheter des catégories différentes "
   ]
  },
  {
   "cell_type": "code",
   "execution_count": null,
   "id": "d298f54a",
   "metadata": {},
   "outputs": [],
   "source": [
    "#correlation entre deux variable quali (sex, categ) test chi2 "
   ]
  },
  {
   "cell_type": "code",
   "execution_count": null,
   "id": "b58d6a50",
   "metadata": {},
   "outputs": [],
   "source": [
    "# valeurs aberrantes faire des boxplot \n",
    "# prix par sex por comparer le montant hommes/femmes\n",
    "# categories par sex\n",
    "#diagrammme en barre "
   ]
  },
  {
   "cell_type": "code",
   "execution_count": null,
   "id": "9eb7f744",
   "metadata": {},
   "outputs": [],
   "source": []
  },
  {
   "cell_type": "code",
   "execution_count": null,
   "id": "cca032fd",
   "metadata": {},
   "outputs": [],
   "source": []
  }
 ],
 "metadata": {
  "kernelspec": {
   "display_name": "Python 3",
   "language": "python",
   "name": "python3"
  },
  "language_info": {
   "codemirror_mode": {
    "name": "ipython",
    "version": 3
   },
   "file_extension": ".py",
   "mimetype": "text/x-python",
   "name": "python",
   "nbconvert_exporter": "python",
   "pygments_lexer": "ipython3",
   "version": "3.8.8"
  }
 },
 "nbformat": 4,
 "nbformat_minor": 5
}
