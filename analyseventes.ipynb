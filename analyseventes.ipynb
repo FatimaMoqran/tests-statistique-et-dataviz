{
 "cells": [
  {
   "cell_type": "markdown",
   "id": "4782ee6d",
   "metadata": {},
   "source": [
    "## Explorations tableaux"
   ]
  },
  {
   "cell_type": "code",
   "execution_count": 1,
   "id": "569535c8",
   "metadata": {},
   "outputs": [],
   "source": [
    "import pandas as pd\n",
    "import seaborn as sns\n",
    "import numpy as np\n",
    "import matplotlib.pyplot as plt"
   ]
  },
  {
   "cell_type": "code",
   "execution_count": 2,
   "id": "8863d762",
   "metadata": {},
   "outputs": [],
   "source": [
    "df_customers = pd.read_csv('customers.csv')"
   ]
  },
  {
   "cell_type": "code",
   "execution_count": 3,
   "id": "a2aac42e",
   "metadata": {},
   "outputs": [
    {
     "data": {
      "text/html": [
       "<div>\n",
       "<style scoped>\n",
       "    .dataframe tbody tr th:only-of-type {\n",
       "        vertical-align: middle;\n",
       "    }\n",
       "\n",
       "    .dataframe tbody tr th {\n",
       "        vertical-align: top;\n",
       "    }\n",
       "\n",
       "    .dataframe thead th {\n",
       "        text-align: right;\n",
       "    }\n",
       "</style>\n",
       "<table border=\"1\" class=\"dataframe\">\n",
       "  <thead>\n",
       "    <tr style=\"text-align: right;\">\n",
       "      <th></th>\n",
       "      <th>client_id</th>\n",
       "      <th>sex</th>\n",
       "      <th>birth</th>\n",
       "    </tr>\n",
       "  </thead>\n",
       "  <tbody>\n",
       "    <tr>\n",
       "      <th>0</th>\n",
       "      <td>c_4410</td>\n",
       "      <td>f</td>\n",
       "      <td>1967</td>\n",
       "    </tr>\n",
       "    <tr>\n",
       "      <th>1</th>\n",
       "      <td>c_7839</td>\n",
       "      <td>f</td>\n",
       "      <td>1975</td>\n",
       "    </tr>\n",
       "    <tr>\n",
       "      <th>2</th>\n",
       "      <td>c_1699</td>\n",
       "      <td>f</td>\n",
       "      <td>1984</td>\n",
       "    </tr>\n",
       "    <tr>\n",
       "      <th>3</th>\n",
       "      <td>c_5961</td>\n",
       "      <td>f</td>\n",
       "      <td>1962</td>\n",
       "    </tr>\n",
       "    <tr>\n",
       "      <th>4</th>\n",
       "      <td>c_5320</td>\n",
       "      <td>m</td>\n",
       "      <td>1943</td>\n",
       "    </tr>\n",
       "  </tbody>\n",
       "</table>\n",
       "</div>"
      ],
      "text/plain": [
       "  client_id sex  birth\n",
       "0    c_4410   f   1967\n",
       "1    c_7839   f   1975\n",
       "2    c_1699   f   1984\n",
       "3    c_5961   f   1962\n",
       "4    c_5320   m   1943"
      ]
     },
     "execution_count": 3,
     "metadata": {},
     "output_type": "execute_result"
    }
   ],
   "source": [
    "df_customers.head()"
   ]
  },
  {
   "cell_type": "code",
   "execution_count": 4,
   "id": "99a56325",
   "metadata": {},
   "outputs": [
    {
     "data": {
      "text/plain": [
       "8623"
      ]
     },
     "execution_count": 4,
     "metadata": {},
     "output_type": "execute_result"
    }
   ],
   "source": [
    "df_customers.client_id.nunique()"
   ]
  },
  {
   "cell_type": "code",
   "execution_count": 5,
   "id": "42ff251a",
   "metadata": {},
   "outputs": [
    {
     "data": {
      "text/plain": [
       "(8623, 3)"
      ]
     },
     "execution_count": 5,
     "metadata": {},
     "output_type": "execute_result"
    }
   ],
   "source": [
    "df_customers.shape"
   ]
  },
  {
   "cell_type": "code",
   "execution_count": 6,
   "id": "7325f4c1",
   "metadata": {},
   "outputs": [],
   "source": [
    "df_products= pd.read_csv('products.csv')"
   ]
  },
  {
   "cell_type": "code",
   "execution_count": 7,
   "id": "3dbd22ae",
   "metadata": {},
   "outputs": [
    {
     "data": {
      "text/html": [
       "<div>\n",
       "<style scoped>\n",
       "    .dataframe tbody tr th:only-of-type {\n",
       "        vertical-align: middle;\n",
       "    }\n",
       "\n",
       "    .dataframe tbody tr th {\n",
       "        vertical-align: top;\n",
       "    }\n",
       "\n",
       "    .dataframe thead th {\n",
       "        text-align: right;\n",
       "    }\n",
       "</style>\n",
       "<table border=\"1\" class=\"dataframe\">\n",
       "  <thead>\n",
       "    <tr style=\"text-align: right;\">\n",
       "      <th></th>\n",
       "      <th>id_prod</th>\n",
       "      <th>price</th>\n",
       "      <th>categ</th>\n",
       "    </tr>\n",
       "  </thead>\n",
       "  <tbody>\n",
       "    <tr>\n",
       "      <th>0</th>\n",
       "      <td>0_1421</td>\n",
       "      <td>19.99</td>\n",
       "      <td>0</td>\n",
       "    </tr>\n",
       "    <tr>\n",
       "      <th>1</th>\n",
       "      <td>0_1368</td>\n",
       "      <td>5.13</td>\n",
       "      <td>0</td>\n",
       "    </tr>\n",
       "    <tr>\n",
       "      <th>2</th>\n",
       "      <td>0_731</td>\n",
       "      <td>17.99</td>\n",
       "      <td>0</td>\n",
       "    </tr>\n",
       "    <tr>\n",
       "      <th>3</th>\n",
       "      <td>1_587</td>\n",
       "      <td>4.99</td>\n",
       "      <td>1</td>\n",
       "    </tr>\n",
       "    <tr>\n",
       "      <th>4</th>\n",
       "      <td>0_1507</td>\n",
       "      <td>3.99</td>\n",
       "      <td>0</td>\n",
       "    </tr>\n",
       "  </tbody>\n",
       "</table>\n",
       "</div>"
      ],
      "text/plain": [
       "  id_prod  price  categ\n",
       "0  0_1421  19.99      0\n",
       "1  0_1368   5.13      0\n",
       "2   0_731  17.99      0\n",
       "3   1_587   4.99      1\n",
       "4  0_1507   3.99      0"
      ]
     },
     "execution_count": 7,
     "metadata": {},
     "output_type": "execute_result"
    }
   ],
   "source": [
    "df_products.head()"
   ]
  },
  {
   "cell_type": "code",
   "execution_count": 8,
   "id": "c9d3177b",
   "metadata": {},
   "outputs": [
    {
     "data": {
      "text/plain": [
       "1_666     1\n",
       "0_1016    1\n",
       "0_249     1\n",
       "2_95      1\n",
       "0_1231    1\n",
       "         ..\n",
       "0_1583    1\n",
       "2_212     1\n",
       "0_1913    1\n",
       "0_1536    1\n",
       "0_1651    1\n",
       "Name: id_prod, Length: 3287, dtype: int64"
      ]
     },
     "execution_count": 8,
     "metadata": {},
     "output_type": "execute_result"
    }
   ],
   "source": [
    "df_products.id_prod.value_counts()"
   ]
  },
  {
   "cell_type": "code",
   "execution_count": 9,
   "id": "1df26742",
   "metadata": {},
   "outputs": [
    {
     "data": {
      "text/plain": [
       "3287"
      ]
     },
     "execution_count": 9,
     "metadata": {},
     "output_type": "execute_result"
    }
   ],
   "source": [
    "df_products.id_prod.nunique()"
   ]
  },
  {
   "cell_type": "code",
   "execution_count": 10,
   "id": "1c0cbed7",
   "metadata": {},
   "outputs": [
    {
     "data": {
      "text/plain": [
       "(3287, 3)"
      ]
     },
     "execution_count": 10,
     "metadata": {},
     "output_type": "execute_result"
    }
   ],
   "source": [
    "df_products.shape"
   ]
  },
  {
   "cell_type": "code",
   "execution_count": 11,
   "id": "103dc5bb",
   "metadata": {},
   "outputs": [],
   "source": [
    "df_transactions = pd.read_csv('transactions.csv')"
   ]
  },
  {
   "cell_type": "code",
   "execution_count": 12,
   "id": "7025975c",
   "metadata": {},
   "outputs": [
    {
     "data": {
      "text/html": [
       "<div>\n",
       "<style scoped>\n",
       "    .dataframe tbody tr th:only-of-type {\n",
       "        vertical-align: middle;\n",
       "    }\n",
       "\n",
       "    .dataframe tbody tr th {\n",
       "        vertical-align: top;\n",
       "    }\n",
       "\n",
       "    .dataframe thead th {\n",
       "        text-align: right;\n",
       "    }\n",
       "</style>\n",
       "<table border=\"1\" class=\"dataframe\">\n",
       "  <thead>\n",
       "    <tr style=\"text-align: right;\">\n",
       "      <th></th>\n",
       "      <th>id_prod</th>\n",
       "      <th>date</th>\n",
       "      <th>session_id</th>\n",
       "      <th>client_id</th>\n",
       "    </tr>\n",
       "  </thead>\n",
       "  <tbody>\n",
       "    <tr>\n",
       "      <th>0</th>\n",
       "      <td>0_1483</td>\n",
       "      <td>2021-04-10 18:37:28.723910</td>\n",
       "      <td>s_18746</td>\n",
       "      <td>c_4450</td>\n",
       "    </tr>\n",
       "    <tr>\n",
       "      <th>1</th>\n",
       "      <td>2_226</td>\n",
       "      <td>2022-02-03 01:55:53.276402</td>\n",
       "      <td>s_159142</td>\n",
       "      <td>c_277</td>\n",
       "    </tr>\n",
       "    <tr>\n",
       "      <th>2</th>\n",
       "      <td>1_374</td>\n",
       "      <td>2021-09-23 15:13:46.938559</td>\n",
       "      <td>s_94290</td>\n",
       "      <td>c_4270</td>\n",
       "    </tr>\n",
       "    <tr>\n",
       "      <th>3</th>\n",
       "      <td>0_2186</td>\n",
       "      <td>2021-10-17 03:27:18.783634</td>\n",
       "      <td>s_105936</td>\n",
       "      <td>c_4597</td>\n",
       "    </tr>\n",
       "    <tr>\n",
       "      <th>4</th>\n",
       "      <td>0_1351</td>\n",
       "      <td>2021-07-17 20:34:25.800563</td>\n",
       "      <td>s_63642</td>\n",
       "      <td>c_1242</td>\n",
       "    </tr>\n",
       "  </tbody>\n",
       "</table>\n",
       "</div>"
      ],
      "text/plain": [
       "  id_prod                        date session_id client_id\n",
       "0  0_1483  2021-04-10 18:37:28.723910    s_18746    c_4450\n",
       "1   2_226  2022-02-03 01:55:53.276402   s_159142     c_277\n",
       "2   1_374  2021-09-23 15:13:46.938559    s_94290    c_4270\n",
       "3  0_2186  2021-10-17 03:27:18.783634   s_105936    c_4597\n",
       "4  0_1351  2021-07-17 20:34:25.800563    s_63642    c_1242"
      ]
     },
     "execution_count": 12,
     "metadata": {},
     "output_type": "execute_result"
    }
   ],
   "source": [
    "df_transactions.head()"
   ]
  },
  {
   "cell_type": "code",
   "execution_count": 13,
   "id": "fda4e268",
   "metadata": {},
   "outputs": [],
   "source": [
    "# fusion des 3 tables \n",
    "df = pd.merge(df_transactions,df_products,on='id_prod',how='left')"
   ]
  },
  {
   "cell_type": "code",
   "execution_count": 14,
   "id": "41d270ba",
   "metadata": {},
   "outputs": [],
   "source": [
    "df= pd.merge(df, df_customers, on='client_id', how= 'left')"
   ]
  },
  {
   "cell_type": "code",
   "execution_count": 15,
   "id": "957b481e",
   "metadata": {},
   "outputs": [
    {
     "data": {
      "text/html": [
       "<div>\n",
       "<style scoped>\n",
       "    .dataframe tbody tr th:only-of-type {\n",
       "        vertical-align: middle;\n",
       "    }\n",
       "\n",
       "    .dataframe tbody tr th {\n",
       "        vertical-align: top;\n",
       "    }\n",
       "\n",
       "    .dataframe thead th {\n",
       "        text-align: right;\n",
       "    }\n",
       "</style>\n",
       "<table border=\"1\" class=\"dataframe\">\n",
       "  <thead>\n",
       "    <tr style=\"text-align: right;\">\n",
       "      <th></th>\n",
       "      <th>id_prod</th>\n",
       "      <th>date</th>\n",
       "      <th>session_id</th>\n",
       "      <th>client_id</th>\n",
       "      <th>price</th>\n",
       "      <th>categ</th>\n",
       "      <th>sex</th>\n",
       "      <th>birth</th>\n",
       "    </tr>\n",
       "  </thead>\n",
       "  <tbody>\n",
       "    <tr>\n",
       "      <th>0</th>\n",
       "      <td>0_1483</td>\n",
       "      <td>2021-04-10 18:37:28.723910</td>\n",
       "      <td>s_18746</td>\n",
       "      <td>c_4450</td>\n",
       "      <td>4.99</td>\n",
       "      <td>0.0</td>\n",
       "      <td>f</td>\n",
       "      <td>1977</td>\n",
       "    </tr>\n",
       "    <tr>\n",
       "      <th>1</th>\n",
       "      <td>2_226</td>\n",
       "      <td>2022-02-03 01:55:53.276402</td>\n",
       "      <td>s_159142</td>\n",
       "      <td>c_277</td>\n",
       "      <td>65.75</td>\n",
       "      <td>2.0</td>\n",
       "      <td>f</td>\n",
       "      <td>2000</td>\n",
       "    </tr>\n",
       "    <tr>\n",
       "      <th>2</th>\n",
       "      <td>1_374</td>\n",
       "      <td>2021-09-23 15:13:46.938559</td>\n",
       "      <td>s_94290</td>\n",
       "      <td>c_4270</td>\n",
       "      <td>10.71</td>\n",
       "      <td>1.0</td>\n",
       "      <td>f</td>\n",
       "      <td>1979</td>\n",
       "    </tr>\n",
       "    <tr>\n",
       "      <th>3</th>\n",
       "      <td>0_2186</td>\n",
       "      <td>2021-10-17 03:27:18.783634</td>\n",
       "      <td>s_105936</td>\n",
       "      <td>c_4597</td>\n",
       "      <td>4.20</td>\n",
       "      <td>0.0</td>\n",
       "      <td>m</td>\n",
       "      <td>1963</td>\n",
       "    </tr>\n",
       "    <tr>\n",
       "      <th>4</th>\n",
       "      <td>0_1351</td>\n",
       "      <td>2021-07-17 20:34:25.800563</td>\n",
       "      <td>s_63642</td>\n",
       "      <td>c_1242</td>\n",
       "      <td>8.99</td>\n",
       "      <td>0.0</td>\n",
       "      <td>f</td>\n",
       "      <td>1980</td>\n",
       "    </tr>\n",
       "  </tbody>\n",
       "</table>\n",
       "</div>"
      ],
      "text/plain": [
       "  id_prod                        date session_id client_id  price  categ sex  \\\n",
       "0  0_1483  2021-04-10 18:37:28.723910    s_18746    c_4450   4.99    0.0   f   \n",
       "1   2_226  2022-02-03 01:55:53.276402   s_159142     c_277  65.75    2.0   f   \n",
       "2   1_374  2021-09-23 15:13:46.938559    s_94290    c_4270  10.71    1.0   f   \n",
       "3  0_2186  2021-10-17 03:27:18.783634   s_105936    c_4597   4.20    0.0   m   \n",
       "4  0_1351  2021-07-17 20:34:25.800563    s_63642    c_1242   8.99    0.0   f   \n",
       "\n",
       "   birth  \n",
       "0   1977  \n",
       "1   2000  \n",
       "2   1979  \n",
       "3   1963  \n",
       "4   1980  "
      ]
     },
     "execution_count": 15,
     "metadata": {},
     "output_type": "execute_result"
    }
   ],
   "source": [
    "df.head()"
   ]
  },
  {
   "cell_type": "markdown",
   "id": "6f4a03ec",
   "metadata": {},
   "source": [
    "## Mission 1 : NETTOYAGE"
   ]
  },
  {
   "cell_type": "code",
   "execution_count": 16,
   "id": "13589add",
   "metadata": {},
   "outputs": [],
   "source": [
    "# On regarde les valeurs manquantes \n",
    "val_nul_categ= df['categ'].isna().sum()"
   ]
  },
  {
   "cell_type": "code",
   "execution_count": 17,
   "id": "1f16e38a",
   "metadata": {},
   "outputs": [
    {
     "data": {
      "text/plain": [
       "103"
      ]
     },
     "execution_count": 17,
     "metadata": {},
     "output_type": "execute_result"
    }
   ],
   "source": [
    "val_nul_categ"
   ]
  },
  {
   "cell_type": "code",
   "execution_count": 18,
   "id": "bb520ec3",
   "metadata": {},
   "outputs": [
    {
     "data": {
      "text/plain": [
       "(337016, 8)"
      ]
     },
     "execution_count": 18,
     "metadata": {},
     "output_type": "execute_result"
    }
   ],
   "source": [
    "df.shape"
   ]
  },
  {
   "cell_type": "code",
   "execution_count": 19,
   "id": "e1f3671c",
   "metadata": {
    "scrolled": true
   },
   "outputs": [
    {
     "data": {
      "text/plain": [
       "id_prod       0.000000\n",
       "date          0.000000\n",
       "session_id    0.000000\n",
       "client_id     0.000000\n",
       "price         0.030562\n",
       "categ         0.030562\n",
       "sex           0.000000\n",
       "birth         0.000000\n",
       "dtype: float64"
      ]
     },
     "execution_count": 19,
     "metadata": {},
     "output_type": "execute_result"
    }
   ],
   "source": [
    "# valeurs manquantes par colonne\n",
    "df.isna().sum()*100/df.shape[0]"
   ]
  },
  {
   "cell_type": "code",
   "execution_count": 20,
   "id": "73b16262",
   "metadata": {},
   "outputs": [
    {
     "data": {
      "text/plain": [
       "337016"
      ]
     },
     "execution_count": 20,
     "metadata": {},
     "output_type": "execute_result"
    }
   ],
   "source": [
    "df['categ'].shape[0]"
   ]
  },
  {
   "cell_type": "code",
   "execution_count": 21,
   "id": "540beb6b",
   "metadata": {},
   "outputs": [],
   "source": [
    "part_val_nul= (val_nul_categ/df['categ'].shape[0])*100"
   ]
  },
  {
   "cell_type": "code",
   "execution_count": 22,
   "id": "ec551e4e",
   "metadata": {},
   "outputs": [
    {
     "data": {
      "text/plain": [
       "103"
      ]
     },
     "execution_count": 22,
     "metadata": {},
     "output_type": "execute_result"
    }
   ],
   "source": [
    "df['categ'].isna().sum()"
   ]
  },
  {
   "cell_type": "code",
   "execution_count": 23,
   "id": "e119f7a0",
   "metadata": {},
   "outputs": [
    {
     "data": {
      "text/plain": [
       "(337016, 8)"
      ]
     },
     "execution_count": 23,
     "metadata": {},
     "output_type": "execute_result"
    }
   ],
   "source": [
    "nan_values = df.isna().sum()\n",
    "size = df.shape\n",
    "size"
   ]
  },
  {
   "cell_type": "code",
   "execution_count": 24,
   "id": "94dbcdec",
   "metadata": {},
   "outputs": [
    {
     "data": {
      "text/plain": [
       "id_prod       0.000000\n",
       "date          0.000000\n",
       "session_id    0.000000\n",
       "client_id     0.000000\n",
       "sex           0.000000\n",
       "birth         0.000000\n",
       "price         0.030562\n",
       "categ         0.030562\n",
       "dtype: float64"
      ]
     },
     "execution_count": 24,
     "metadata": {},
     "output_type": "execute_result"
    }
   ],
   "source": [
    "nan_values = nan_values.sort_values(ascending=True)*100/size[0]\n",
    "nan_values"
   ]
  },
  {
   "cell_type": "code",
   "execution_count": 25,
   "id": "49d16acc",
   "metadata": {},
   "outputs": [
    {
     "data": {
      "text/plain": [
       "id_prod         0\n",
       "date            0\n",
       "session_id      0\n",
       "client_id       0\n",
       "price         103\n",
       "categ         103\n",
       "sex             0\n",
       "birth           0\n",
       "dtype: int64"
      ]
     },
     "execution_count": 25,
     "metadata": {},
     "output_type": "execute_result"
    }
   ],
   "source": [
    "#diagramme en barre\n",
    "valeurs_manquantes = df.isna().sum()\n",
    "valeurs_manquantes"
   ]
  },
  {
   "cell_type": "code",
   "execution_count": 26,
   "id": "bb7e4a9c",
   "metadata": {},
   "outputs": [
    {
     "data": {
      "image/png": "[encoded data removed]",
      "text/plain": [
       "<Figure size 432x288 with 1 Axes>"
      ]
     },
     "metadata": {
      "needs_background": "light"
     },
     "output_type": "display_data"
    }
   ],
   "source": [
    "graph_valeurs_manquantes = valeurs_manquantes.plot(kind='bar',width=0.1)\n",
    "plt.title('valeurs manquantes par colonnes')\n",
    "plt.show()\n",
    "fig_val_manquantes = graph_valeurs_manquantes.get_figure()\n",
    "fig_val_manquantes.savefig(\"valeurs manquantes par colonnes\")"
   ]
  },
  {
   "cell_type": "code",
   "execution_count": 27,
   "id": "9f471f86",
   "metadata": {},
   "outputs": [
    {
     "data": {
      "text/plain": [
       "id_prod         0\n",
       "date            0\n",
       "session_id      0\n",
       "client_id       0\n",
       "price         103\n",
       "categ         103\n",
       "sex             0\n",
       "birth           0\n",
       "dtype: int64"
      ]
     },
     "execution_count": 27,
     "metadata": {},
     "output_type": "execute_result"
    }
   ],
   "source": [
    "valeurs_manquantes"
   ]
  },
  {
   "cell_type": "code",
   "execution_count": 28,
   "id": "736eb9c9",
   "metadata": {},
   "outputs": [
    {
     "data": {
      "image/png": "[encoded data removed]",
      "text/plain": [
       "<Figure size 576x432 with 1 Axes>"
      ]
     },
     "metadata": {
      "needs_background": "light"
     },
     "output_type": "display_data"
    }
   ],
   "source": [
    "# à revoir n'arrive pas à afficher axe des absisses et ordonnées\n",
    "\n",
    "size = df.shape\n",
    "#nan_values = df.isna().sum()\n",
    "\n",
    "nan_values = valeurs_manquantes.sort_values(ascending=True)*100/size[0]\n",
    "\n",
    "ax = nan_values.plot(kind='barh', \n",
    "                     figsize=(8, 6), \n",
    "                     color='#0000FF',\n",
    "                     zorder=2,\n",
    "                     width=0.85)\n",
    "\n",
    "#ax.spines['top'].set_visible(False)\n",
    "#ax.spines['left'].set_visible(False)\n",
    "#ax.spines['right'].set_visible(False)\n",
    "#ax.spines['bottom'].set_visible(False)\n",
    "\n",
    "#ax.tick_params(axis=\"both\", \n",
    "               #which=\"both\", \n",
    "               #bottom=\"off\", \n",
    "               #top=\"off\", \n",
    "               #labelbottom=\"on\", \n",
    "               #left=\"off\", \n",
    "               #right=\"off\", \n",
    "               #labelleft=\"on\")\n",
    "ax.set_title(\"Taux de valeurs manquantes pour chaque variable du dataframe df\")\n",
    "vals = ax.get_xticks()\n",
    "\n",
    "ax.xlabel = 'taux valeurs manquantes '    \n",
    "ax.ylabel = 'variables' \n",
    "\n",
    "for tick in vals:\n",
    "    ax.axvline(x=tick, linestyle='dashed', alpha=0.4, color='#eeeeee', zorder=1)\n",
    "    \n",
    "\n",
    "#plt.show()\n",
    "\n",
    "fig_taux_val_manquantes =ax.get_figure()\n",
    "fig_taux_val_manquantes.savefig(\"taux valeurs manquantes par colonnes\") "
   ]
  },
  {
   "cell_type": "markdown",
   "id": "8965f7b0",
   "metadata": {},
   "source": [
    "On  choisit de supprimer les valeurs manquantes car il y en a très très peu "
   ]
  },
  {
   "cell_type": "code",
   "execution_count": 29,
   "id": "b2b48abb",
   "metadata": {},
   "outputs": [],
   "source": [
    "#je supprime les valeurs manquantes car très peu de valeurs manquantes\n",
    "df = df.dropna()"
   ]
  },
  {
   "cell_type": "code",
   "execution_count": 30,
   "id": "13a0b6c9",
   "metadata": {},
   "outputs": [
    {
     "data": {
      "text/plain": [
       "id_prod       0\n",
       "date          0\n",
       "session_id    0\n",
       "client_id     0\n",
       "price         0\n",
       "categ         0\n",
       "sex           0\n",
       "birth         0\n",
       "dtype: int64"
      ]
     },
     "execution_count": 30,
     "metadata": {},
     "output_type": "execute_result"
    }
   ],
   "source": [
    "df.isna().sum()"
   ]
  },
  {
   "cell_type": "markdown",
   "id": "e1615268",
   "metadata": {},
   "source": [
    "# Les valeurs aberrantes "
   ]
  },
  {
   "cell_type": "code",
   "execution_count": 31,
   "id": "3a67a70f",
   "metadata": {},
   "outputs": [
    {
     "data": {
      "text/plain": [
       "0          4.99\n",
       "1         65.75\n",
       "2         10.71\n",
       "3          4.20\n",
       "4          8.99\n",
       "          ...  \n",
       "337011    31.99\n",
       "337012    22.99\n",
       "337013    11.03\n",
       "337014    50.99\n",
       "337015    17.99\n",
       "Name: price, Length: 336913, dtype: float64"
      ]
     },
     "execution_count": 31,
     "metadata": {},
     "output_type": "execute_result"
    }
   ],
   "source": [
    "df['price']"
   ]
  },
  {
   "cell_type": "code",
   "execution_count": 32,
   "id": "59a9f7fe",
   "metadata": {},
   "outputs": [
    {
     "data": {
      "image/png": "[encoded data removed]",
      "text/plain": [
       "<Figure size 1080x720 with 1 Axes>"
      ]
     },
     "metadata": {
      "needs_background": "light"
     },
     "output_type": "display_data"
    }
   ],
   "source": [
    "# on regarde la  variable price qui correspond au montant payé pour chaque transaction \n",
    "import seaborn as sns\n",
    "plt.figure(figsize=(15,10))\n",
    "price_boxplot = sns.boxplot(x= df['price'])\n",
    "\n",
    "plt.title('distribution de la variable price')\n",
    "fig_boxplot_price = price_boxplot.get_figure()\n",
    "fig_boxplot_price.savefig(\"boxplot_price\") "
   ]
  },
  {
   "cell_type": "code",
   "execution_count": 33,
   "id": "dbab3a18",
   "metadata": {},
   "outputs": [
    {
     "data": {
      "text/plain": [
       "<AxesSubplot:>"
      ]
     },
     "execution_count": 33,
     "metadata": {},
     "output_type": "execute_result"
    },
    {
     "data": {
      "image/png": "[encoded data removed]",
      "text/plain": [
       "<Figure size 432x288 with 1 Axes>"
      ]
     },
     "metadata": {
      "needs_background": "light"
     },
     "output_type": "display_data"
    }
   ],
   "source": [
    "#avec matplotlib\n",
    "df.boxplot(column=\"price\")"
   ]
  },
  {
   "cell_type": "code",
   "execution_count": 34,
   "id": "e59fe5c7",
   "metadata": {},
   "outputs": [],
   "source": [
    "# 1er quartile = 25% \n",
    "# 2 eme quartile ou mediane = 50%\n",
    "# 3 eme quartile 75%\n",
    "#1er moustache = 1er quartile - 1,5 * intervalleinterquartile \n",
    "# 2er moustache = 3er quartile + 1,5 * intervalleinterquartile (diff entre 3 eme quartile et premier quartile)\n",
    "\n",
    "# pour traiter il faut ramener toutes les valeurs audessus de la 2eme moustache "
   ]
  },
  {
   "cell_type": "code",
   "execution_count": 35,
   "id": "773872f1",
   "metadata": {},
   "outputs": [
    {
     "data": {
      "text/plain": [
       "count    336913.000000\n",
       "mean         17.204376\n",
       "std          17.855658\n",
       "min          -1.000000\n",
       "25%           8.580000\n",
       "50%          13.900000\n",
       "75%          18.990000\n",
       "max         300.000000\n",
       "Name: price, dtype: float64"
      ]
     },
     "execution_count": 35,
     "metadata": {},
     "output_type": "execute_result"
    }
   ],
   "source": [
    "# il y a des valeurs négatives dans la colonne price \n",
    "df['price'].describe()"
   ]
  },
  {
   "cell_type": "code",
   "execution_count": 36,
   "id": "8bb653ac",
   "metadata": {},
   "outputs": [],
   "source": [
    "# on enlève les valeurs negatives \n",
    "\n",
    "df= df[df['price']>0]"
   ]
  },
  {
   "cell_type": "code",
   "execution_count": 37,
   "id": "7b00ed69",
   "metadata": {},
   "outputs": [
    {
     "data": {
      "text/plain": [
       "(336713, 8)"
      ]
     },
     "execution_count": 37,
     "metadata": {},
     "output_type": "execute_result"
    }
   ],
   "source": [
    "df.shape"
   ]
  },
  {
   "cell_type": "code",
   "execution_count": 38,
   "id": "1797a77d",
   "metadata": {},
   "outputs": [
    {
     "data": {
      "text/plain": [
       "<Figure size 432x288 with 0 Axes>"
      ]
     },
     "metadata": {},
     "output_type": "display_data"
    },
    {
     "data": {
      "image/png": "[encoded data removed]",
      "text/plain": [
       "<Figure size 576x576 with 1 Axes>"
      ]
     },
     "metadata": {
      "needs_background": "light"
     },
     "output_type": "display_data"
    }
   ],
   "source": [
    "plt.figure()\n",
    "price_histo = df.hist(column=\"price\",        # Column to plot\n",
    "              figsize=(8,8),         # Plot size\n",
    "              color=\"blue\")          # Plot color\n",
    "#plt.xlabel = 'nombre'    \n",
    "#plt.ylabel = 'montant '\n",
    "plt.title(\"distribution variable price\")\n",
    "plt.savefig('histogramme distribution price') "
   ]
  },
  {
   "cell_type": "markdown",
   "id": "6652cac1",
   "metadata": {},
   "source": [
    "### 0n détecte les outliers "
   ]
  },
  {
   "cell_type": "code",
   "execution_count": 39,
   "id": "16f353e5",
   "metadata": {},
   "outputs": [],
   "source": [
    "# detecter les outliers en utilisant l'interquartile\n",
    "def detect_outliers_iqr(data):\n",
    "    # on range les valeurs et on les transforme  en liste \n",
    "    price = sorted(list(data['price']))\n",
    "    #on groupe les valeurs par quartile \n",
    "    q1 = np.nanpercentile(price, 25)\n",
    "    q3 = np.nanpercentile(price, 75)\n",
    "    #print(q1, q3)\n",
    "    #on calcule l'intervalle interquartile \n",
    "    IQR = q3-q1\n",
    "    #l'extrémité des moustaches se calculent enfaisant  1.5 fois l'espace interquartile\n",
    "    lwr_bound = q1-(1.5*IQR)\n",
    "    upr_bound = q3+(1.5*IQR)\n",
    "    print(lwr_bound, upr_bound)\n",
    "    # les outliers sont les valeurs qui se situent en dehors de cet espace\n",
    "    outliers= data[(data['price']< lwr_bound) |( data['price']> upr_bound)]\n",
    "    return outliers# Driver code"
   ]
  },
  {
   "cell_type": "code",
   "execution_count": 40,
   "id": "8616e1fb",
   "metadata": {},
   "outputs": [
    {
     "name": "stdout",
     "output_type": "stream",
     "text": [
      "-6.959999999999999 34.559999999999995\n",
      "(20423, 8)\n"
     ]
    },
    {
     "data": {
      "text/html": [
       "<div>\n",
       "<style scoped>\n",
       "    .dataframe tbody tr th:only-of-type {\n",
       "        vertical-align: middle;\n",
       "    }\n",
       "\n",
       "    .dataframe tbody tr th {\n",
       "        vertical-align: top;\n",
       "    }\n",
       "\n",
       "    .dataframe thead th {\n",
       "        text-align: right;\n",
       "    }\n",
       "</style>\n",
       "<table border=\"1\" class=\"dataframe\">\n",
       "  <thead>\n",
       "    <tr style=\"text-align: right;\">\n",
       "      <th></th>\n",
       "      <th>id_prod</th>\n",
       "      <th>date</th>\n",
       "      <th>session_id</th>\n",
       "      <th>client_id</th>\n",
       "      <th>price</th>\n",
       "      <th>categ</th>\n",
       "      <th>sex</th>\n",
       "      <th>birth</th>\n",
       "    </tr>\n",
       "  </thead>\n",
       "  <tbody>\n",
       "    <tr>\n",
       "      <th>1</th>\n",
       "      <td>2_226</td>\n",
       "      <td>2022-02-03 01:55:53.276402</td>\n",
       "      <td>s_159142</td>\n",
       "      <td>c_277</td>\n",
       "      <td>65.75</td>\n",
       "      <td>2.0</td>\n",
       "      <td>f</td>\n",
       "      <td>2000</td>\n",
       "    </tr>\n",
       "    <tr>\n",
       "      <th>27</th>\n",
       "      <td>2_135</td>\n",
       "      <td>2021-05-26 01:46:59.530702</td>\n",
       "      <td>s_39581</td>\n",
       "      <td>c_5192</td>\n",
       "      <td>68.99</td>\n",
       "      <td>2.0</td>\n",
       "      <td>m</td>\n",
       "      <td>1965</td>\n",
       "    </tr>\n",
       "    <tr>\n",
       "      <th>72</th>\n",
       "      <td>1_340</td>\n",
       "      <td>2021-12-01 21:40:04.680653</td>\n",
       "      <td>s_127982</td>\n",
       "      <td>c_6266</td>\n",
       "      <td>42.25</td>\n",
       "      <td>1.0</td>\n",
       "      <td>f</td>\n",
       "      <td>1983</td>\n",
       "    </tr>\n",
       "    <tr>\n",
       "      <th>73</th>\n",
       "      <td>2_208</td>\n",
       "      <td>2021-08-21 21:58:40.983725</td>\n",
       "      <td>s_78917</td>\n",
       "      <td>c_7881</td>\n",
       "      <td>54.87</td>\n",
       "      <td>2.0</td>\n",
       "      <td>m</td>\n",
       "      <td>1996</td>\n",
       "    </tr>\n",
       "    <tr>\n",
       "      <th>84</th>\n",
       "      <td>1_11</td>\n",
       "      <td>2021-11-03 05:22:29.808605</td>\n",
       "      <td>s_114026</td>\n",
       "      <td>c_5070</td>\n",
       "      <td>39.99</td>\n",
       "      <td>1.0</td>\n",
       "      <td>m</td>\n",
       "      <td>1972</td>\n",
       "    </tr>\n",
       "    <tr>\n",
       "      <th>111</th>\n",
       "      <td>2_139</td>\n",
       "      <td>2022-01-16 13:39:40.278930</td>\n",
       "      <td>s_150675</td>\n",
       "      <td>c_8517</td>\n",
       "      <td>82.99</td>\n",
       "      <td>2.0</td>\n",
       "      <td>f</td>\n",
       "      <td>2000</td>\n",
       "    </tr>\n",
       "    <tr>\n",
       "      <th>132</th>\n",
       "      <td>2_62</td>\n",
       "      <td>2021-08-28 05:50:46.906391</td>\n",
       "      <td>s_81697</td>\n",
       "      <td>c_7806</td>\n",
       "      <td>60.96</td>\n",
       "      <td>2.0</td>\n",
       "      <td>f</td>\n",
       "      <td>1994</td>\n",
       "    </tr>\n",
       "    <tr>\n",
       "      <th>147</th>\n",
       "      <td>2_19</td>\n",
       "      <td>2021-05-07 13:32:04.703604</td>\n",
       "      <td>s_31172</td>\n",
       "      <td>c_6884</td>\n",
       "      <td>69.99</td>\n",
       "      <td>2.0</td>\n",
       "      <td>m</td>\n",
       "      <td>1994</td>\n",
       "    </tr>\n",
       "    <tr>\n",
       "      <th>150</th>\n",
       "      <td>2_112</td>\n",
       "      <td>2021-06-10 18:55:23.078433</td>\n",
       "      <td>s_46832</td>\n",
       "      <td>c_4924</td>\n",
       "      <td>67.57</td>\n",
       "      <td>2.0</td>\n",
       "      <td>f</td>\n",
       "      <td>1953</td>\n",
       "    </tr>\n",
       "    <tr>\n",
       "      <th>151</th>\n",
       "      <td>1_519</td>\n",
       "      <td>2021-12-06 15:10:14.639832</td>\n",
       "      <td>s_130329</td>\n",
       "      <td>c_5427</td>\n",
       "      <td>51.99</td>\n",
       "      <td>1.0</td>\n",
       "      <td>f</td>\n",
       "      <td>2004</td>\n",
       "    </tr>\n",
       "    <tr>\n",
       "      <th>163</th>\n",
       "      <td>2_227</td>\n",
       "      <td>2021-10-22 17:41:17.347164</td>\n",
       "      <td>s_108583</td>\n",
       "      <td>c_5841</td>\n",
       "      <td>50.99</td>\n",
       "      <td>2.0</td>\n",
       "      <td>m</td>\n",
       "      <td>1996</td>\n",
       "    </tr>\n",
       "    <tr>\n",
       "      <th>183</th>\n",
       "      <td>2_140</td>\n",
       "      <td>2021-08-12 07:18:22.223225</td>\n",
       "      <td>s_74649</td>\n",
       "      <td>c_262</td>\n",
       "      <td>42.48</td>\n",
       "      <td>2.0</td>\n",
       "      <td>f</td>\n",
       "      <td>2004</td>\n",
       "    </tr>\n",
       "    <tr>\n",
       "      <th>191</th>\n",
       "      <td>2_96</td>\n",
       "      <td>2021-07-28 08:07:22.427438</td>\n",
       "      <td>s_68149</td>\n",
       "      <td>c_8576</td>\n",
       "      <td>47.91</td>\n",
       "      <td>2.0</td>\n",
       "      <td>m</td>\n",
       "      <td>1998</td>\n",
       "    </tr>\n",
       "    <tr>\n",
       "      <th>197</th>\n",
       "      <td>2_155</td>\n",
       "      <td>2021-11-25 18:29:31.767896</td>\n",
       "      <td>s_124975</td>\n",
       "      <td>c_2575</td>\n",
       "      <td>46.99</td>\n",
       "      <td>2.0</td>\n",
       "      <td>m</td>\n",
       "      <td>2002</td>\n",
       "    </tr>\n",
       "    <tr>\n",
       "      <th>218</th>\n",
       "      <td>2_102</td>\n",
       "      <td>2021-07-19 10:49:36.980341</td>\n",
       "      <td>s_64371</td>\n",
       "      <td>c_7464</td>\n",
       "      <td>59.14</td>\n",
       "      <td>2.0</td>\n",
       "      <td>f</td>\n",
       "      <td>2001</td>\n",
       "    </tr>\n",
       "    <tr>\n",
       "      <th>239</th>\n",
       "      <td>2_202</td>\n",
       "      <td>2022-02-01 23:47:03.406433</td>\n",
       "      <td>s_158578</td>\n",
       "      <td>c_4981</td>\n",
       "      <td>67.57</td>\n",
       "      <td>2.0</td>\n",
       "      <td>f</td>\n",
       "      <td>1993</td>\n",
       "    </tr>\n",
       "    <tr>\n",
       "      <th>257</th>\n",
       "      <td>2_26</td>\n",
       "      <td>2021-06-18 12:44:04.551750</td>\n",
       "      <td>s_50339</td>\n",
       "      <td>c_21</td>\n",
       "      <td>42.51</td>\n",
       "      <td>2.0</td>\n",
       "      <td>m</td>\n",
       "      <td>1957</td>\n",
       "    </tr>\n",
       "    <tr>\n",
       "      <th>259</th>\n",
       "      <td>2_207</td>\n",
       "      <td>2021-04-28 19:51:33.945751</td>\n",
       "      <td>s_27113</td>\n",
       "      <td>c_2607</td>\n",
       "      <td>50.99</td>\n",
       "      <td>2.0</td>\n",
       "      <td>f</td>\n",
       "      <td>2004</td>\n",
       "    </tr>\n",
       "    <tr>\n",
       "      <th>260</th>\n",
       "      <td>2_233</td>\n",
       "      <td>2021-10-03 01:57:22.634598</td>\n",
       "      <td>s_99180</td>\n",
       "      <td>c_4958</td>\n",
       "      <td>172.99</td>\n",
       "      <td>2.0</td>\n",
       "      <td>m</td>\n",
       "      <td>1999</td>\n",
       "    </tr>\n",
       "    <tr>\n",
       "      <th>262</th>\n",
       "      <td>1_13</td>\n",
       "      <td>2021-11-04 22:23:08.112381</td>\n",
       "      <td>s_114822</td>\n",
       "      <td>c_6597</td>\n",
       "      <td>80.99</td>\n",
       "      <td>1.0</td>\n",
       "      <td>f</td>\n",
       "      <td>1974</td>\n",
       "    </tr>\n",
       "    <tr>\n",
       "      <th>271</th>\n",
       "      <td>2_113</td>\n",
       "      <td>2021-05-12 18:21:48.448166</td>\n",
       "      <td>s_33604</td>\n",
       "      <td>c_5176</td>\n",
       "      <td>56.99</td>\n",
       "      <td>2.0</td>\n",
       "      <td>f</td>\n",
       "      <td>2004</td>\n",
       "    </tr>\n",
       "    <tr>\n",
       "      <th>283</th>\n",
       "      <td>2_218</td>\n",
       "      <td>2022-01-04 13:13:31.481729</td>\n",
       "      <td>s_144859</td>\n",
       "      <td>c_6886</td>\n",
       "      <td>89.54</td>\n",
       "      <td>2.0</td>\n",
       "      <td>f</td>\n",
       "      <td>1967</td>\n",
       "    </tr>\n",
       "    <tr>\n",
       "      <th>297</th>\n",
       "      <td>2_183</td>\n",
       "      <td>2022-01-22 11:23:46.197113</td>\n",
       "      <td>s_153499</td>\n",
       "      <td>c_4958</td>\n",
       "      <td>77.99</td>\n",
       "      <td>2.0</td>\n",
       "      <td>m</td>\n",
       "      <td>1999</td>\n",
       "    </tr>\n",
       "    <tr>\n",
       "      <th>301</th>\n",
       "      <td>2_7</td>\n",
       "      <td>2021-08-23 14:22:33.803659</td>\n",
       "      <td>s_79655</td>\n",
       "      <td>c_2607</td>\n",
       "      <td>69.99</td>\n",
       "      <td>2.0</td>\n",
       "      <td>f</td>\n",
       "      <td>2004</td>\n",
       "    </tr>\n",
       "    <tr>\n",
       "      <th>312</th>\n",
       "      <td>2_141</td>\n",
       "      <td>2022-02-09 19:50:59.206617</td>\n",
       "      <td>s_162589</td>\n",
       "      <td>c_7596</td>\n",
       "      <td>158.99</td>\n",
       "      <td>2.0</td>\n",
       "      <td>m</td>\n",
       "      <td>1993</td>\n",
       "    </tr>\n",
       "  </tbody>\n",
       "</table>\n",
       "</div>"
      ],
      "text/plain": [
       "    id_prod                        date session_id client_id   price  categ  \\\n",
       "1     2_226  2022-02-03 01:55:53.276402   s_159142     c_277   65.75    2.0   \n",
       "27    2_135  2021-05-26 01:46:59.530702    s_39581    c_5192   68.99    2.0   \n",
       "72    1_340  2021-12-01 21:40:04.680653   s_127982    c_6266   42.25    1.0   \n",
       "73    2_208  2021-08-21 21:58:40.983725    s_78917    c_7881   54.87    2.0   \n",
       "84     1_11  2021-11-03 05:22:29.808605   s_114026    c_5070   39.99    1.0   \n",
       "111   2_139  2022-01-16 13:39:40.278930   s_150675    c_8517   82.99    2.0   \n",
       "132    2_62  2021-08-28 05:50:46.906391    s_81697    c_7806   60.96    2.0   \n",
       "147    2_19  2021-05-07 13:32:04.703604    s_31172    c_6884   69.99    2.0   \n",
       "150   2_112  2021-06-10 18:55:23.078433    s_46832    c_4924   67.57    2.0   \n",
       "151   1_519  2021-12-06 15:10:14.639832   s_130329    c_5427   51.99    1.0   \n",
       "163   2_227  2021-10-22 17:41:17.347164   s_108583    c_5841   50.99    2.0   \n",
       "183   2_140  2021-08-12 07:18:22.223225    s_74649     c_262   42.48    2.0   \n",
       "191    2_96  2021-07-28 08:07:22.427438    s_68149    c_8576   47.91    2.0   \n",
       "197   2_155  2021-11-25 18:29:31.767896   s_124975    c_2575   46.99    2.0   \n",
       "218   2_102  2021-07-19 10:49:36.980341    s_64371    c_7464   59.14    2.0   \n",
       "239   2_202  2022-02-01 23:47:03.406433   s_158578    c_4981   67.57    2.0   \n",
       "257    2_26  2021-06-18 12:44:04.551750    s_50339      c_21   42.51    2.0   \n",
       "259   2_207  2021-04-28 19:51:33.945751    s_27113    c_2607   50.99    2.0   \n",
       "260   2_233  2021-10-03 01:57:22.634598    s_99180    c_4958  172.99    2.0   \n",
       "262    1_13  2021-11-04 22:23:08.112381   s_114822    c_6597   80.99    1.0   \n",
       "271   2_113  2021-05-12 18:21:48.448166    s_33604    c_5176   56.99    2.0   \n",
       "283   2_218  2022-01-04 13:13:31.481729   s_144859    c_6886   89.54    2.0   \n",
       "297   2_183  2022-01-22 11:23:46.197113   s_153499    c_4958   77.99    2.0   \n",
       "301     2_7  2021-08-23 14:22:33.803659    s_79655    c_2607   69.99    2.0   \n",
       "312   2_141  2022-02-09 19:50:59.206617   s_162589    c_7596  158.99    2.0   \n",
       "\n",
       "    sex  birth  \n",
       "1     f   2000  \n",
       "27    m   1965  \n",
       "72    f   1983  \n",
       "73    m   1996  \n",
       "84    m   1972  \n",
       "111   f   2000  \n",
       "132   f   1994  \n",
       "147   m   1994  \n",
       "150   f   1953  \n",
       "151   f   2004  \n",
       "163   m   1996  \n",
       "183   f   2004  \n",
       "191   m   1998  \n",
       "197   m   2002  \n",
       "218   f   2001  \n",
       "239   f   1993  \n",
       "257   m   1957  \n",
       "259   f   2004  \n",
       "260   m   1999  \n",
       "262   f   1974  \n",
       "271   f   2004  \n",
       "283   f   1967  \n",
       "297   m   1999  \n",
       "301   f   2004  \n",
       "312   m   1993  "
      ]
     },
     "execution_count": 40,
     "metadata": {},
     "output_type": "execute_result"
    }
   ],
   "source": [
    "sample_outliers = detect_outliers_iqr(df)\n",
    "#print(\"Outliers from IQR method: \", sample_outliers)\n",
    "print(sample_outliers.shape)\n",
    "sample_outliers.head(25)"
   ]
  },
  {
   "cell_type": "markdown",
   "id": "323ba629",
   "metadata": {},
   "source": [
    "### On observe que les valeurs ne sont pas si abberantes que ça. On peut les garder "
   ]
  },
  {
   "cell_type": "markdown",
   "id": "a9094ce3",
   "metadata": {},
   "source": [
    "### On regarde si il y a des doublons "
   ]
  },
  {
   "cell_type": "code",
   "execution_count": 41,
   "id": "48243c87",
   "metadata": {},
   "outputs": [
    {
     "name": "stdout",
     "output_type": "stream",
     "text": [
      "(336713, 8)\n"
     ]
    }
   ],
   "source": [
    "#detection des doublons\n",
    "print(df.shape)\n"
   ]
  },
  {
   "cell_type": "code",
   "execution_count": 42,
   "id": "d2bdcb79",
   "metadata": {},
   "outputs": [
    {
     "data": {
      "text/html": [
       "<div>\n",
       "<style scoped>\n",
       "    .dataframe tbody tr th:only-of-type {\n",
       "        vertical-align: middle;\n",
       "    }\n",
       "\n",
       "    .dataframe tbody tr th {\n",
       "        vertical-align: top;\n",
       "    }\n",
       "\n",
       "    .dataframe thead th {\n",
       "        text-align: right;\n",
       "    }\n",
       "</style>\n",
       "<table border=\"1\" class=\"dataframe\">\n",
       "  <thead>\n",
       "    <tr style=\"text-align: right;\">\n",
       "      <th></th>\n",
       "      <th>id_prod</th>\n",
       "      <th>date</th>\n",
       "      <th>session_id</th>\n",
       "      <th>client_id</th>\n",
       "      <th>price</th>\n",
       "      <th>categ</th>\n",
       "      <th>sex</th>\n",
       "      <th>birth</th>\n",
       "    </tr>\n",
       "  </thead>\n",
       "  <tbody>\n",
       "  </tbody>\n",
       "</table>\n",
       "</div>"
      ],
      "text/plain": [
       "Empty DataFrame\n",
       "Columns: [id_prod, date, session_id, client_id, price, categ, sex, birth]\n",
       "Index: []"
      ]
     },
     "execution_count": 42,
     "metadata": {},
     "output_type": "execute_result"
    }
   ],
   "source": [
    "df[df.duplicated()]"
   ]
  },
  {
   "cell_type": "markdown",
   "id": "5f9c503f",
   "metadata": {},
   "source": [
    "## Mission 2 : Analyse "
   ]
  },
  {
   "cell_type": "markdown",
   "id": "e62b112a",
   "metadata": {},
   "source": [
    "### indicateurs de tendance centrale et de dispersion ;"
   ]
  },
  {
   "cell_type": "markdown",
   "id": "1c44c403",
   "metadata": {},
   "source": [
    "Le mode\n",
    " \n",
    " La moyenne \n",
    " \n",
    " La médiane\n",
    " \n",
    " La médiane, (notée Med), est la valeur telle que le nombre d’observations supérieures à cette valeur est égal au nombre d’observations inférieures à cette valeur.\n",
    "\n",
    "En gros, pour trouver la médiane de vos n\n",
    " valeurs, il faut commencer par les trier. Une fois triées, on appelle x(1)\n",
    " la première valeur, x(2)\n",
    " la deuxième valeur, ... , et x(n)\n",
    " la dernière valeur. La médiane, c'est la valeur qui sera exactement au milieu du classement, soit\n",
    "\n",
    "Med=x(n+12)\n",
    "M\n",
    "e\n",
    "d\n",
    "=\n",
    "x\n",
    "(\n",
    "n\n",
    "+\n",
    "1\n",
    "2\n",
    ")\n"
   ]
  },
  {
   "cell_type": "code",
   "execution_count": 43,
   "id": "3ccaecb9",
   "metadata": {},
   "outputs": [
    {
     "data": {
      "text/html": [
       "<div>\n",
       "<style scoped>\n",
       "    .dataframe tbody tr th:only-of-type {\n",
       "        vertical-align: middle;\n",
       "    }\n",
       "\n",
       "    .dataframe tbody tr th {\n",
       "        vertical-align: top;\n",
       "    }\n",
       "\n",
       "    .dataframe thead th {\n",
       "        text-align: right;\n",
       "    }\n",
       "</style>\n",
       "<table border=\"1\" class=\"dataframe\">\n",
       "  <thead>\n",
       "    <tr style=\"text-align: right;\">\n",
       "      <th></th>\n",
       "      <th>categ</th>\n",
       "      <th>count</th>\n",
       "      <th>mean</th>\n",
       "      <th>std</th>\n",
       "      <th>min</th>\n",
       "      <th>25%</th>\n",
       "      <th>50%</th>\n",
       "      <th>75%</th>\n",
       "      <th>max</th>\n",
       "    </tr>\n",
       "  </thead>\n",
       "  <tbody>\n",
       "    <tr>\n",
       "      <th>0</th>\n",
       "      <td>0.0</td>\n",
       "      <td>209426.0</td>\n",
       "      <td>10.646828</td>\n",
       "      <td>4.930030</td>\n",
       "      <td>0.62</td>\n",
       "      <td>6.30</td>\n",
       "      <td>9.99</td>\n",
       "      <td>14.45</td>\n",
       "      <td>40.99</td>\n",
       "    </tr>\n",
       "    <tr>\n",
       "      <th>1</th>\n",
       "      <td>1.0</td>\n",
       "      <td>109735.0</td>\n",
       "      <td>20.480106</td>\n",
       "      <td>7.568956</td>\n",
       "      <td>2.00</td>\n",
       "      <td>15.81</td>\n",
       "      <td>19.08</td>\n",
       "      <td>24.98</td>\n",
       "      <td>80.99</td>\n",
       "    </tr>\n",
       "    <tr>\n",
       "      <th>2</th>\n",
       "      <td>2.0</td>\n",
       "      <td>17552.0</td>\n",
       "      <td>75.174949</td>\n",
       "      <td>39.079999</td>\n",
       "      <td>30.99</td>\n",
       "      <td>53.99</td>\n",
       "      <td>62.83</td>\n",
       "      <td>71.21</td>\n",
       "      <td>300.00</td>\n",
       "    </tr>\n",
       "  </tbody>\n",
       "</table>\n",
       "</div>"
      ],
      "text/plain": [
       "   categ     count       mean        std    min    25%    50%    75%     max\n",
       "0    0.0  209426.0  10.646828   4.930030   0.62   6.30   9.99  14.45   40.99\n",
       "1    1.0  109735.0  20.480106   7.568956   2.00  15.81  19.08  24.98   80.99\n",
       "2    2.0   17552.0  75.174949  39.079999  30.99  53.99  62.83  71.21  300.00"
      ]
     },
     "execution_count": 43,
     "metadata": {},
     "output_type": "execute_result"
    }
   ],
   "source": [
    "# on fait un describe pour avoir les indicateurs de tendance centrale et dispersion pour la colonne price par categorie\n",
    "df.groupby('categ')['price'].describe().reset_index()"
   ]
  },
  {
   "cell_type": "code",
   "execution_count": 44,
   "id": "c6d475b5",
   "metadata": {},
   "outputs": [],
   "source": [
    "# on regarde la dispersion des montants par categorie de produits.\n",
    "categ0 = df[df['categ']==0]\n",
    "categ1 = df[df['categ']==1]\n",
    "categ2 = df[df['categ']==2]\n",
    "price0 = categ0['price']\n",
    "price1 = categ1['price']\n",
    "price2 = categ2['price']"
   ]
  },
  {
   "cell_type": "code",
   "execution_count": 46,
   "id": "e01497a2",
   "metadata": {},
   "outputs": [
    {
     "data": {
      "image/png": "[encoded data removed]",
      "text/plain": [
       "<Figure size 1080x720 with 1 Axes>"
      ]
     },
     "metadata": {
      "needs_background": "light"
     },
     "output_type": "display_data"
    }
   ],
   "source": [
    "columns = [price0,price1,price2]\n",
    "plt.figure(figsize=(15, 10))\n",
    "#plt.subplots()\n",
    "plt.boxplot(columns)\n",
    "plt.xticks([1, 2, 3], [\"categorie0\", \"categorie1\", \"categorie2\"], rotation=10)\n",
    "plt.ylabel('montants des paniers')\n",
    "plt.title(\"distribution des prix en fonction des catégories\")\n",
    "plt.savefig(\"distribution des prix en fonction des catégories\")\n",
    "plt.show()"
   ]
  },
  {
   "cell_type": "markdown",
   "id": "45c7f77e",
   "metadata": {},
   "source": [
    "### On voit que la dispersion des montants est différentes en fonction de la catégorie de produit \n"
   ]
  },
  {
   "cell_type": "markdown",
   "id": "dccf8fdc",
   "metadata": {},
   "source": [
    "## les mesures de dispersion"
   ]
  },
  {
   "cell_type": "markdown",
   "id": "fd91d765",
   "metadata": {},
   "source": [
    "La variance empirique\n",
    "\n",
    "\n",
    "\n",
    "v=1n∑i=1n(xi−x⎯⎯⎯)2\n",
    "v\n",
    "=\n",
    "1\n",
    "n\n",
    "∑\n",
    "i\n",
    "=\n",
    "1\n",
    "n\n",
    "(\n",
    "x\n",
    "i\n",
    "−\n",
    "x\n",
    "¯\n",
    ")\n",
    "2\n",
    "\n",
    "\n",
    "\n",
    "L'écart-type empirique\n",
    "\n",
    "L'écart-type empirique, c'est juste la racine carrée de la variance empirique. On l'appelle en anglais standard deviation, souvent abrégé std. En fait, quand on calcule la variance empirique des temps de trajet, le résultat a pour unité la minute 2\n",
    " , ce qui n'est pas très intelligible. En prenant la racine carrée, l'unité redevient la minute. Ici, notre écart-type vaut 6,55 minutes. On le note s\n",
    " .\n",
    "\n",
    "s=v√\n",
    "\n",
    "\n",
    "L'écart inter-quartiles\n",
    "\n",
    "La boîte à moustaches (boxplot)\n"
   ]
  },
  {
   "cell_type": "code",
   "execution_count": 45,
   "id": "356cdd0f",
   "metadata": {},
   "outputs": [
    {
     "data": {
      "text/plain": [
       "Index(['id_prod', 'date', 'session_id', 'client_id', 'price', 'categ', 'sex',\n",
       "       'birth'],\n",
       "      dtype='object')"
      ]
     },
     "execution_count": 45,
     "metadata": {},
     "output_type": "execute_result"
    }
   ],
   "source": [
    "#faire avec tableau \n",
    "df.columns"
   ]
  },
  {
   "cell_type": "code",
   "execution_count": 50,
   "id": "51ae332e",
   "metadata": {},
   "outputs": [
    {
     "data": {
      "text/html": [
       "<div>\n",
       "<style scoped>\n",
       "    .dataframe tbody tr th:only-of-type {\n",
       "        vertical-align: middle;\n",
       "    }\n",
       "\n",
       "    .dataframe tbody tr th {\n",
       "        vertical-align: top;\n",
       "    }\n",
       "\n",
       "    .dataframe thead th {\n",
       "        text-align: right;\n",
       "    }\n",
       "</style>\n",
       "<table border=\"1\" class=\"dataframe\">\n",
       "  <thead>\n",
       "    <tr style=\"text-align: right;\">\n",
       "      <th></th>\n",
       "      <th>sex</th>\n",
       "      <th>count</th>\n",
       "      <th>mean</th>\n",
       "      <th>std</th>\n",
       "      <th>min</th>\n",
       "      <th>25%</th>\n",
       "      <th>50%</th>\n",
       "      <th>75%</th>\n",
       "      <th>max</th>\n",
       "    </tr>\n",
       "  </thead>\n",
       "  <tbody>\n",
       "    <tr>\n",
       "      <th>0</th>\n",
       "      <td>f</td>\n",
       "      <td>167515.0</td>\n",
       "      <td>17.067855</td>\n",
       "      <td>17.362773</td>\n",
       "      <td>0.62</td>\n",
       "      <td>8.61</td>\n",
       "      <td>13.94</td>\n",
       "      <td>18.99</td>\n",
       "      <td>300.0</td>\n",
       "    </tr>\n",
       "    <tr>\n",
       "      <th>1</th>\n",
       "      <td>m</td>\n",
       "      <td>169198.0</td>\n",
       "      <td>17.361056</td>\n",
       "      <td>18.329061</td>\n",
       "      <td>0.62</td>\n",
       "      <td>8.58</td>\n",
       "      <td>13.89</td>\n",
       "      <td>18.99</td>\n",
       "      <td>300.0</td>\n",
       "    </tr>\n",
       "  </tbody>\n",
       "</table>\n",
       "</div>"
      ],
      "text/plain": [
       "  sex     count       mean        std   min   25%    50%    75%    max\n",
       "0   f  167515.0  17.067855  17.362773  0.62  8.61  13.94  18.99  300.0\n",
       "1   m  169198.0  17.361056  18.329061  0.62  8.58  13.89  18.99  300.0"
      ]
     },
     "execution_count": 50,
     "metadata": {},
     "output_type": "execute_result"
    }
   ],
   "source": [
    "# on regarde les montant par genre et on regarde les mesures de dispersion\n",
    "df.groupby(['sex'])['price'].describe().reset_index()\n"
   ]
  },
  {
   "cell_type": "code",
   "execution_count": 48,
   "id": "bb5049bb",
   "metadata": {},
   "outputs": [],
   "source": [
    "# on trace des boxplot \n",
    "pricebysexf = df[df['sex']=='f']\n",
    "pricebysexm = df[df['sex']=='m']\n",
    "pricef = pricebysexf['price']\n",
    "pricem = pricebysexm['price']"
   ]
  },
  {
   "cell_type": "code",
   "execution_count": 49,
   "id": "159eb246",
   "metadata": {},
   "outputs": [
    {
     "data": {
      "image/png": "[encoded data removed]",
      "text/plain": [
       "<Figure size 1080x720 with 1 Axes>"
      ]
     },
     "metadata": {
      "needs_background": "light"
     },
     "output_type": "display_data"
    },
    {
     "data": {
      "text/plain": [
       "<Figure size 432x288 with 0 Axes>"
      ]
     },
     "metadata": {},
     "output_type": "display_data"
    }
   ],
   "source": [
    "columns = [pricef,pricem]\n",
    "\n",
    "plt.figure(figsize=(15, 10))\n",
    "\n",
    "#plt.subplots()\n",
    "plt.boxplot(columns)\n",
    "plt.xticks([1, 2], [\"female\", \"male\"], rotation=10)\n",
    "plt.title(\"montants des paniers en fonction du genre\")\n",
    "plt.show()\n",
    "plt.savefig(' boxplots montants des paniers en fonction du genre')"
   ]
  },
  {
   "cell_type": "markdown",
   "id": "bbc1b473",
   "metadata": {},
   "source": [
    "## Les mesures de forme"
   ]
  },
  {
   "cell_type": "markdown",
   "id": "b301ac76",
   "metadata": {},
   "source": [
    "Le Skewness empirique\n",
    "\n",
    "\n",
    "Le Kurtosis empirique\n"
   ]
  },
  {
   "cell_type": "markdown",
   "id": "3c3eac74",
   "metadata": {},
   "source": [
    "## Les mesures de concentration"
   ]
  },
  {
   "cell_type": "code",
   "execution_count": 51,
   "id": "bbb2207e",
   "metadata": {},
   "outputs": [
    {
     "data": {
      "image/png": "[encoded data removed]",
      "text/plain": [
       "<Figure size 432x288 with 1 Axes>"
      ]
     },
     "metadata": {
      "needs_background": "light"
     },
     "output_type": "display_data"
    },
    {
     "data": {
      "text/plain": [
       "<Figure size 432x288 with 0 Axes>"
      ]
     },
     "metadata": {},
     "output_type": "display_data"
    }
   ],
   "source": [
    "#courbe de Lorenz : permet de voir comment les montants sont répartis en fonction des achats si les montants sont plutôt égalitaire \n",
    "\n",
    "price = df['price']\n",
    "prix = price.values\n",
    "#longueur des prix \n",
    "n = len(prix)\n",
    "# trier les individus dans l'ordre croissant des valeurs de la variable et calcul de la somme cumulé \n",
    "lorenz = np.cumsum(np.sort(prix)) / prix.sum()\n",
    "lorenz = np.append([0],lorenz) # La courbe de Lorenz commence à 0\n",
    "\n",
    "plt.axes().axis('equal')\n",
    "xaxis = np.linspace(0-1/n,1+1/n,n+1) #Il y a un segment de taille n pour chaque individu, plus 1 segment supplémentaire d'ordonnée 0. Le premier segment commence à 0-1/n, et le dernier termine à 1+1/n.\n",
    "plt.plot(xaxis,lorenz,drawstyle='steps-post')\n",
    "plt.title('courbe de Lorenz répartition des prix')\n",
    "plt.show()\n",
    "plt.savefig('courbe de Lorenz répartition des prix')"
   ]
  },
  {
   "cell_type": "code",
   "execution_count": 52,
   "id": "da139e45",
   "metadata": {},
   "outputs": [
    {
     "data": {
      "text/plain": [
       "0.392145510890881"
      ]
     },
     "execution_count": 52,
     "metadata": {},
     "output_type": "execute_result"
    }
   ],
   "source": [
    "#indice de Gini qui est la statistique de la courbe de lorenz. Il calcule Il mesure l'aire présente entre la première bissectrice et la courbe de Lorenz\n",
    "AUC = (lorenz.sum() -lorenz[-1]/2 -lorenz[0]/2)/n # Surface sous la courbe de Lorenz. Le premier segment (lorenz[0]) est à moitié en dessous de 0, on le coupe donc en 2, on fait de même pour le dernier segment lorenz[-1] qui est à moitié au dessus de 1.\n",
    "S = 0.5 - AUC # surface entre la première bissectrice et le courbe de Lorenz\n",
    "gini = 2*S\n",
    "gini"
   ]
  },
  {
   "cell_type": "markdown",
   "id": "f0d15409",
   "metadata": {},
   "source": [
    "## interprétation de l'indice de Gini\n",
    "\n",
    "0 est l'égalité parfaite et 1 est l'inagalité parfaite.\n",
    "0.39 indice de Gini c'est que c'est plutôt egalitaire"
   ]
  },
  {
   "cell_type": "markdown",
   "id": "322d9433",
   "metadata": {},
   "source": [
    "## Evolution du prix avec le temps"
   ]
  },
  {
   "cell_type": "code",
   "execution_count": 54,
   "id": "b9c08612",
   "metadata": {},
   "outputs": [
    {
     "name": "stderr",
     "output_type": "stream",
     "text": [
      "<ipython-input-54-b971a0e8dd3b>:3: SettingWithCopyWarning: \n",
      "A value is trying to be set on a copy of a slice from a DataFrame.\n",
      "Try using .loc[row_indexer,col_indexer] = value instead\n",
      "\n",
      "See the caveats in the documentation: https://pandas.pydata.org/pandas-docs/stable/user_guide/indexing.html#returning-a-view-versus-a-copy\n",
      "  df_date['date'] = pd.to_datetime(df['date'])\n"
     ]
    },
    {
     "data": {
      "image/png": "[encoded data removed]",
      "text/plain": [
       "<Figure size 1440x720 with 1 Axes>"
      ]
     },
     "metadata": {
      "needs_background": "light"
     },
     "output_type": "display_data"
    },
    {
     "data": {
      "text/plain": [
       "DatetimeIndex(['2021-04-10 18:37:28.723910', '2022-02-03 01:55:53.276402',\n",
       "               '2021-09-23 15:13:46.938559', '2021-10-17 03:27:18.783634',\n",
       "               '2021-07-17 20:34:25.800563', '2021-09-15 05:47:48.215162',\n",
       "               '2021-08-29 05:39:01.055455', '2021-09-19 14:54:52.410362',\n",
       "               '2022-02-03 07:13:22.559995', '2022-02-26 09:03:10.571665',\n",
       "               ...\n",
       "               '2021-10-17 12:47:22.803642', '2021-06-01 12:14:28.924898',\n",
       "               '2022-01-10 13:47:23.973957', '2021-07-22 13:47:39.400914',\n",
       "               '2022-02-03 01:39:15.793010', '2021-05-28 12:35:46.214839',\n",
       "               '2021-06-19 00:19:23.917703', '2021-03-16 17:31:59.442007',\n",
       "               '2021-10-30 16:50:15.997750', '2021-06-26 14:38:19.732946'],\n",
       "              dtype='datetime64[ns]', name='date', length=336713, freq=None)"
      ]
     },
     "execution_count": 54,
     "metadata": {},
     "output_type": "execute_result"
    }
   ],
   "source": [
    "#tracer l'évolution du prix sur le temps\n",
    "df_date = df[['date','price']]\n",
    "df_date['date'] = pd.to_datetime(df['date'])\n",
    "df_date = df_date.set_index('date')\n",
    "df_date['price'].plot(figsize=(20, 10))\n",
    "plt.show()\n",
    "\n",
    "df_date.index"
   ]
  },
  {
   "cell_type": "code",
   "execution_count": 55,
   "id": "ee81b06c",
   "metadata": {},
   "outputs": [
    {
     "data": {
      "image/png": "[encoded data removed]",
      "text/plain": [
       "<Figure size 1440x720 with 1 Axes>"
      ]
     },
     "metadata": {
      "needs_background": "light"
     },
     "output_type": "display_data"
    }
   ],
   "source": [
    "#on fait une moyenne par mois \n",
    "df_date_monthly_mean = df_date.resample('M').mean()\n",
    "\n",
    "df_date_monthly_mean['price'].plot(figsize=(20, 10))\n",
    "plt.title('évolution du CA par mois')\n",
    "plt.ylabel('')\n",
    "plt.show()\n",
    "\n"
   ]
  },
  {
   "cell_type": "code",
   "execution_count": 56,
   "id": "f694b2df",
   "metadata": {},
   "outputs": [
    {
     "data": {
      "image/png": "[encoded data removed]",
      "text/plain": [
       "<Figure size 1440x720 with 1 Axes>"
      ]
     },
     "metadata": {
      "needs_background": "light"
     },
     "output_type": "display_data"
    },
    {
     "data": {
      "text/plain": [
       "<Figure size 432x288 with 0 Axes>"
      ]
     },
     "metadata": {},
     "output_type": "display_data"
    }
   ],
   "source": [
    "#moyenne par semaine\n",
    "df_date_weekly_mean = df_date.resample('W').mean()\n",
    "\n",
    "df_date_weekly_mean['price'].plot(figsize=(20, 10))\n",
    "plt.title('évolution du montant des achats par semaine')\n",
    "plt.show()\n",
    "plt.savefig('serie temporelle montant des achats semaine')\n",
    "\n"
   ]
  },
  {
   "cell_type": "code",
   "execution_count": 58,
   "id": "dacd4f3c",
   "metadata": {},
   "outputs": [
    {
     "data": {
      "image/png": "[encoded data removed]",
      "text/plain": [
       "<Figure size 1440x720 with 1 Axes>"
      ]
     },
     "metadata": {
      "needs_background": "light"
     },
     "output_type": "display_data"
    },
    {
     "data": {
      "text/plain": [
       "<Figure size 432x288 with 0 Axes>"
      ]
     },
     "metadata": {},
     "output_type": "display_data"
    }
   ],
   "source": [
    "#moyenne par jour \n",
    "df_date_daily_mean = df_date.resample('D').mean()\n",
    "\n",
    "df_date_daily_mean['price'].plot(figsize=(20, 10))\n",
    "plt.title('évolution des montant  par jour')\n",
    "plt.show()\n",
    "plt.savefig('serie temporelle montant des achats jour')"
   ]
  },
  {
   "cell_type": "code",
   "execution_count": 60,
   "id": "05d7f4a7",
   "metadata": {},
   "outputs": [
    {
     "data": {
      "text/html": [
       "<div>\n",
       "<style scoped>\n",
       "    .dataframe tbody tr th:only-of-type {\n",
       "        vertical-align: middle;\n",
       "    }\n",
       "\n",
       "    .dataframe tbody tr th {\n",
       "        vertical-align: top;\n",
       "    }\n",
       "\n",
       "    .dataframe thead th {\n",
       "        text-align: right;\n",
       "    }\n",
       "</style>\n",
       "<table border=\"1\" class=\"dataframe\">\n",
       "  <thead>\n",
       "    <tr style=\"text-align: right;\">\n",
       "      <th></th>\n",
       "      <th>price</th>\n",
       "    </tr>\n",
       "    <tr>\n",
       "      <th>date</th>\n",
       "      <th></th>\n",
       "    </tr>\n",
       "  </thead>\n",
       "  <tbody>\n",
       "    <tr>\n",
       "      <th>2021-03-01</th>\n",
       "      <td>17.100250</td>\n",
       "    </tr>\n",
       "    <tr>\n",
       "      <th>2021-03-02</th>\n",
       "      <td>16.368698</td>\n",
       "    </tr>\n",
       "    <tr>\n",
       "      <th>2021-03-03</th>\n",
       "      <td>16.300276</td>\n",
       "    </tr>\n",
       "    <tr>\n",
       "      <th>2021-03-04</th>\n",
       "      <td>16.700433</td>\n",
       "    </tr>\n",
       "    <tr>\n",
       "      <th>2021-03-05</th>\n",
       "      <td>18.289042</td>\n",
       "    </tr>\n",
       "    <tr>\n",
       "      <th>...</th>\n",
       "      <td>...</td>\n",
       "    </tr>\n",
       "    <tr>\n",
       "      <th>2022-02-24</th>\n",
       "      <td>18.781135</td>\n",
       "    </tr>\n",
       "    <tr>\n",
       "      <th>2022-02-25</th>\n",
       "      <td>18.402794</td>\n",
       "    </tr>\n",
       "    <tr>\n",
       "      <th>2022-02-26</th>\n",
       "      <td>17.946939</td>\n",
       "    </tr>\n",
       "    <tr>\n",
       "      <th>2022-02-27</th>\n",
       "      <td>17.167717</td>\n",
       "    </tr>\n",
       "    <tr>\n",
       "      <th>2022-02-28</th>\n",
       "      <td>17.886511</td>\n",
       "    </tr>\n",
       "  </tbody>\n",
       "</table>\n",
       "<p>365 rows × 1 columns</p>\n",
       "</div>"
      ],
      "text/plain": [
       "                price\n",
       "date                 \n",
       "2021-03-01  17.100250\n",
       "2021-03-02  16.368698\n",
       "2021-03-03  16.300276\n",
       "2021-03-04  16.700433\n",
       "2021-03-05  18.289042\n",
       "...               ...\n",
       "2022-02-24  18.781135\n",
       "2022-02-25  18.402794\n",
       "2022-02-26  17.946939\n",
       "2022-02-27  17.167717\n",
       "2022-02-28  17.886511\n",
       "\n",
       "[365 rows x 1 columns]"
      ]
     },
     "execution_count": 60,
     "metadata": {},
     "output_type": "execute_result"
    }
   ],
   "source": [
    "df_date_daily_mean"
   ]
  },
  {
   "cell_type": "code",
   "execution_count": 61,
   "id": "2f5faa90",
   "metadata": {},
   "outputs": [
    {
     "name": "stderr",
     "output_type": "stream",
     "text": [
      "/Users/moradledmaoui/opt/anaconda3/lib/python3.8/site-packages/seaborn/_decorators.py:36: FutureWarning: Pass the following variable as a keyword arg: x. From version 0.12, the only valid positional argument will be `data`, and passing other arguments without an explicit keyword will result in an error or misinterpretation.\n",
      "  warnings.warn(\n"
     ]
    },
    {
     "data": {
      "text/plain": [
       "<AxesSubplot:xlabel='sex', ylabel='count'>"
      ]
     },
     "execution_count": 61,
     "metadata": {},
     "output_type": "execute_result"
    },
    {
     "data": {
      "image/png": "[encoded data removed]",
      "text/plain": [
       "<Figure size 432x288 with 1 Axes>"
      ]
     },
     "metadata": {
      "needs_background": "light"
     },
     "output_type": "display_data"
    }
   ],
   "source": [
    "# on regar de la variable genre 'sex'\n",
    "sns.countplot(df['sex'])\n"
   ]
  },
  {
   "cell_type": "markdown",
   "id": "cc3cdc16",
   "metadata": {},
   "source": [
    " il y a autant de femmes que d'hommes"
   ]
  },
  {
   "cell_type": "code",
   "execution_count": 65,
   "id": "fabc07c5",
   "metadata": {},
   "outputs": [
    {
     "name": "stderr",
     "output_type": "stream",
     "text": [
      "/Users/moradledmaoui/opt/anaconda3/lib/python3.8/site-packages/seaborn/distributions.py:2557: FutureWarning: `distplot` is a deprecated function and will be removed in a future version. Please adapt your code to use either `displot` (a figure-level function with similar flexibility) or `histplot` (an axes-level function for histograms).\n",
      "  warnings.warn(msg, FutureWarning)\n"
     ]
    },
    {
     "data": {
      "image/png": "[encoded data removed]",
      "text/plain": [
       "<Figure size 432x288 with 1 Axes>"
      ]
     },
     "metadata": {
      "needs_background": "light"
     },
     "output_type": "display_data"
    }
   ],
   "source": [
    "# la variable age\n",
    "sns.distplot(df['birth'], bins=30)\n",
    "plt.savefig('densité variable birth')\n"
   ]
  },
  {
   "cell_type": "code",
   "execution_count": 63,
   "id": "408e7542",
   "metadata": {},
   "outputs": [
    {
     "data": {
      "text/html": [
       "<div>\n",
       "<style scoped>\n",
       "    .dataframe tbody tr th:only-of-type {\n",
       "        vertical-align: middle;\n",
       "    }\n",
       "\n",
       "    .dataframe tbody tr th {\n",
       "        vertical-align: top;\n",
       "    }\n",
       "\n",
       "    .dataframe thead th {\n",
       "        text-align: right;\n",
       "    }\n",
       "</style>\n",
       "<table border=\"1\" class=\"dataframe\">\n",
       "  <thead>\n",
       "    <tr style=\"text-align: right;\">\n",
       "      <th></th>\n",
       "      <th>id_prod</th>\n",
       "      <th>date</th>\n",
       "      <th>session_id</th>\n",
       "      <th>client_id</th>\n",
       "      <th>price</th>\n",
       "      <th>categ</th>\n",
       "      <th>sex</th>\n",
       "      <th>birth</th>\n",
       "      <th>Age</th>\n",
       "    </tr>\n",
       "  </thead>\n",
       "  <tbody>\n",
       "    <tr>\n",
       "      <th>0</th>\n",
       "      <td>0_1483</td>\n",
       "      <td>2021-04-10 18:37:28.723910</td>\n",
       "      <td>s_18746</td>\n",
       "      <td>c_4450</td>\n",
       "      <td>4.99</td>\n",
       "      <td>0.0</td>\n",
       "      <td>f</td>\n",
       "      <td>1977</td>\n",
       "      <td>44</td>\n",
       "    </tr>\n",
       "    <tr>\n",
       "      <th>1</th>\n",
       "      <td>2_226</td>\n",
       "      <td>2022-02-03 01:55:53.276402</td>\n",
       "      <td>s_159142</td>\n",
       "      <td>c_277</td>\n",
       "      <td>65.75</td>\n",
       "      <td>2.0</td>\n",
       "      <td>f</td>\n",
       "      <td>2000</td>\n",
       "      <td>21</td>\n",
       "    </tr>\n",
       "    <tr>\n",
       "      <th>2</th>\n",
       "      <td>1_374</td>\n",
       "      <td>2021-09-23 15:13:46.938559</td>\n",
       "      <td>s_94290</td>\n",
       "      <td>c_4270</td>\n",
       "      <td>10.71</td>\n",
       "      <td>1.0</td>\n",
       "      <td>f</td>\n",
       "      <td>1979</td>\n",
       "      <td>42</td>\n",
       "    </tr>\n",
       "    <tr>\n",
       "      <th>3</th>\n",
       "      <td>0_2186</td>\n",
       "      <td>2021-10-17 03:27:18.783634</td>\n",
       "      <td>s_105936</td>\n",
       "      <td>c_4597</td>\n",
       "      <td>4.20</td>\n",
       "      <td>0.0</td>\n",
       "      <td>m</td>\n",
       "      <td>1963</td>\n",
       "      <td>58</td>\n",
       "    </tr>\n",
       "    <tr>\n",
       "      <th>4</th>\n",
       "      <td>0_1351</td>\n",
       "      <td>2021-07-17 20:34:25.800563</td>\n",
       "      <td>s_63642</td>\n",
       "      <td>c_1242</td>\n",
       "      <td>8.99</td>\n",
       "      <td>0.0</td>\n",
       "      <td>f</td>\n",
       "      <td>1980</td>\n",
       "      <td>41</td>\n",
       "    </tr>\n",
       "  </tbody>\n",
       "</table>\n",
       "</div>"
      ],
      "text/plain": [
       "  id_prod                        date session_id client_id  price  categ sex  \\\n",
       "0  0_1483  2021-04-10 18:37:28.723910    s_18746    c_4450   4.99    0.0   f   \n",
       "1   2_226  2022-02-03 01:55:53.276402   s_159142     c_277  65.75    2.0   f   \n",
       "2   1_374  2021-09-23 15:13:46.938559    s_94290    c_4270  10.71    1.0   f   \n",
       "3  0_2186  2021-10-17 03:27:18.783634   s_105936    c_4597   4.20    0.0   m   \n",
       "4  0_1351  2021-07-17 20:34:25.800563    s_63642    c_1242   8.99    0.0   f   \n",
       "\n",
       "   birth  Age  \n",
       "0   1977   44  \n",
       "1   2000   21  \n",
       "2   1979   42  \n",
       "3   1963   58  \n",
       "4   1980   41  "
      ]
     },
     "execution_count": 63,
     "metadata": {},
     "output_type": "execute_result"
    }
   ],
   "source": [
    "# je converti les années de naissance en age\n",
    "from datetime import datetime, date\n",
    "  \n",
    "# This function converts given date to age\n",
    "def age(born):\n",
    "    return datetime.today().year - born\n",
    "\n",
    "df['Age'] = df['birth'].apply(age)\n",
    "df.head()\n"
   ]
  },
  {
   "cell_type": "code",
   "execution_count": 59,
   "id": "d16f496c",
   "metadata": {},
   "outputs": [
    {
     "data": {
      "text/plain": [
       "2021"
      ]
     },
     "execution_count": 59,
     "metadata": {},
     "output_type": "execute_result"
    }
   ],
   "source": [
    "datetime.today().year"
   ]
  },
  {
   "cell_type": "code",
   "execution_count": 66,
   "id": "93837990",
   "metadata": {},
   "outputs": [
    {
     "data": {
      "image/png": "[encoded data removed]",
      "text/plain": [
       "<Figure size 360x360 with 1 Axes>"
      ]
     },
     "metadata": {
      "needs_background": "light"
     },
     "output_type": "display_data"
    }
   ],
   "source": [
    "# la variable age\n",
    "sns.displot(df['Age'], bins=10)\n",
    "plt.savefig('densité variable Age')"
   ]
  },
  {
   "cell_type": "markdown",
   "id": "13396e8a",
   "metadata": {},
   "source": [
    "## analyse bivariées  entre 2 variables quantitatives et correlation de pearson\n",
    "\n",
    "La covariance empirique et le coefficient de corrélation\n",
    "\n",
    "Devinez quoi ! L'indicateur que nous venons de construire est très utilisé en statistiques ; il s'appelle la covariance empirique de X et Y. Ce terme vous rappelle la variance empirique ? C'est normal : elles sont similaires. Effectivement, si vous calculez la covariance empirique de X et X, vous retombez sur la formule de la variance empirique de X, qui s'écrit  s2X=1n∑ni=1(x−x⎯⎯⎯)2\n",
    "s\n",
    "X\n",
    "2\n",
    "=\n",
    "1\n",
    "n\n",
    "∑\n",
    "i\n",
    "=\n",
    "1\n",
    "n\n",
    "(\n",
    "x\n",
    "−\n",
    "x\n",
    "¯\n",
    ")\n",
    "2\n",
    " . Magique !\n",
    "\n",
    "Pour ramener la covariance empirique à une valeur qui soit comprise entre -1 et 1, alors on peut la diviser par le produit des écarts-types. Cette normalisation nous permet de faire des comparaisons. Ce qui nous donne\n",
    "\n",
    "rX,Y=sX,YsXsY\n",
    "r\n",
    "X\n",
    ",\n",
    "Y\n",
    "=\n",
    "s\n",
    "X\n",
    ",\n",
    "Y\n",
    "s\n",
    "X\n",
    "s\n",
    "Y\n",
    "Ce coefficient r est appelé coefficient de corrélation, ou coefficient de corrélation linéaire, ou encore coefficient de corrélation de Pearson.\n",
    "\n",
    "\n"
   ]
  },
  {
   "cell_type": "markdown",
   "id": "a64bb0d4",
   "metadata": {},
   "source": [
    "## correlation entre age et montant total des achats"
   ]
  },
  {
   "cell_type": "code",
   "execution_count": 67,
   "id": "6aa425b8",
   "metadata": {},
   "outputs": [
    {
     "data": {
      "text/plain": [
       "Text(0.5, 1.0, 'Scatter plot entre Age et le prix payé')"
      ]
     },
     "execution_count": 67,
     "metadata": {},
     "output_type": "execute_result"
    },
    {
     "data": {
      "image/png": "[encoded data removed]",
      "text/plain": [
       "<Figure size 720x432 with 1 Axes>"
      ]
     },
     "metadata": {
      "needs_background": "light"
     },
     "output_type": "display_data"
    }
   ],
   "source": [
    "#correlation entre age et price\n",
    "plt.figure(figsize=(10,6))\n",
    "plt.scatter(df['Age'],df['price'], marker='o');\n",
    "plt.xlabel('Age')\n",
    "plt.ylabel('price')\n",
    "plt.title('Scatter plot entre Age et le prix payé')"
   ]
  },
  {
   "cell_type": "code",
   "execution_count": 68,
   "id": "4f59d78b",
   "metadata": {},
   "outputs": [
    {
     "name": "stdout",
     "output_type": "stream",
     "text": [
      "-0.21152926170471423\n",
      "-51.08094556500932\n"
     ]
    }
   ],
   "source": [
    "#coefficient de correlation de Pearson\n",
    "import scipy.stats as st\n",
    "import numpy as np\n",
    "\n",
    "print(st.pearsonr(df[\"price\"],df[\"Age\"])[0])#Un couple de valeurs est renvoyé, le coefficient de corrélation est la premier élément de ce couple, d'où le  [0]\n",
    "print(np.cov(df[\"price\"],df[\"Age\"],ddof=0)[1,0])#la matrice de covariance deuxième ligne 1ere colonne"
   ]
  },
  {
   "cell_type": "code",
   "execution_count": 69,
   "id": "5c8cbf62",
   "metadata": {},
   "outputs": [
    {
     "data": {
      "text/html": [
       "<div>\n",
       "<style scoped>\n",
       "    .dataframe tbody tr th:only-of-type {\n",
       "        vertical-align: middle;\n",
       "    }\n",
       "\n",
       "    .dataframe tbody tr th {\n",
       "        vertical-align: top;\n",
       "    }\n",
       "\n",
       "    .dataframe thead th {\n",
       "        text-align: right;\n",
       "    }\n",
       "</style>\n",
       "<table border=\"1\" class=\"dataframe\">\n",
       "  <thead>\n",
       "    <tr style=\"text-align: right;\">\n",
       "      <th></th>\n",
       "      <th>résultats de test</th>\n",
       "    </tr>\n",
       "  </thead>\n",
       "  <tbody>\n",
       "    <tr>\n",
       "      <th>pearson</th>\n",
       "      <td>-0.211529</td>\n",
       "    </tr>\n",
       "    <tr>\n",
       "      <th>p-value</th>\n",
       "      <td>0.000000</td>\n",
       "    </tr>\n",
       "  </tbody>\n",
       "</table>\n",
       "</div>"
      ],
      "text/plain": [
       "         résultats de test\n",
       "pearson          -0.211529\n",
       "p-value           0.000000"
      ]
     },
     "execution_count": 69,
     "metadata": {},
     "output_type": "execute_result"
    }
   ],
   "source": [
    "from scipy.stats import pearsonr\n",
    "pd.DataFrame(pearsonr(df[\"price\"],df[\"Age\"]),\n",
    "            index = ['pearson',\"p-value\"],columns = ['résultats de test'])"
   ]
  },
  {
   "cell_type": "code",
   "execution_count": 64,
   "id": "0b47eb79",
   "metadata": {},
   "outputs": [],
   "source": [
    "#test corrélation de pearson pour voir si les resultat sont significatif p value : hypothèse H0\n",
    "# car le coeeficient n'est pas très bas \n"
   ]
  },
  {
   "cell_type": "markdown",
   "id": "1ba1ff8c",
   "metadata": {},
   "source": [
    "Ho : les variables testées sont indépendantes \n",
    "\n",
    "la p value est inférieure à 0.05 on rejette Ho  donc on peut en déduire que les valeurs ne sont pas indépendantes "
   ]
  },
  {
   "cell_type": "markdown",
   "id": "9be12705",
   "metadata": {},
   "source": [
    "on a une corrélation négative entre les deux variables : plus l'age est élevé moins les dépenses sur le site sont élevés"
   ]
  },
  {
   "cell_type": "code",
   "execution_count": 73,
   "id": "dadce222",
   "metadata": {},
   "outputs": [],
   "source": [
    "\n",
    "taille_classe = 10 # taille des classes pour la discrétisation\n",
    "\n",
    "groupes = [] # va recevoir les données agrégées à afficher\n",
    "\n",
    "# on calcule des tranches allant de 0 au solde maximum par paliers de taille taille_classe\n",
    "tranches = np.arange(0, max(df[\"Age\"]), taille_classe)\n",
    "#tranches += taille_classe/2 # on décale les tranches d'une demi taille de classe\n",
    "indices = np.digitize(df[\"Age\"], tranches) # associe chaque solde à son numéro de classe\n",
    "\n",
    "for ind, tr in enumerate(tranches): # pour chaque tranche, ind reçoit le numéro de tranche et tr la tranche en question\n",
    "    montants = df.loc[indices==ind,\"price\"] # sélection des individus de la tranche ind\n",
    "    if len(montants) > 0:\n",
    "        g = {\n",
    "            'valeurs': montants,\n",
    "            'centre_classe': tr-(taille_classe/2),\n",
    "            'taille': len(montants),\n",
    "            'quartiles': [np.percentile(montants,p) for p in [25,50,75]]\n",
    "        }\n",
    "        groupes.append(g)"
   ]
  },
  {
   "cell_type": "code",
   "execution_count": 74,
   "id": "cdfa65ee",
   "metadata": {},
   "outputs": [
    {
     "data": {
      "image/png": "[encoded data removed]",
      "text/plain": [
       "<Figure size 1080x432 with 1 Axes>"
      ]
     },
     "metadata": {
      "needs_background": "light"
     },
     "output_type": "display_data"
    }
   ],
   "source": [
    "# affichage des boxplots\n",
    "plt.figure(figsize=(15, 6))\n",
    "plt.boxplot([g[\"valeurs\"] for g in groupes],\n",
    "            positions= [g[\"centre_classe\"] for g in groupes], # abscisses des boxplots\n",
    "            showfliers= False, # on ne prend pas en compte les outliers\n",
    "            widths= taille_classe*0.6, # largeur graphique des boxplots\n",
    ")\n",
    "# affichage des effectifs de chaque classe\n",
    "for g in groupes:\n",
    "    plt.text(g[\"centre_classe\"],0,\"(n={})\".format(g[\"taille\"]),horizontalalignment='center',verticalalignment='top')\n",
    "plt.xlabel('Age par tranches')\n",
    "plt.ylabel('Montant dépensé')\n",
    "plt.title(\"correlation entre l'age et le montant dépensé\" )\n",
    "plt.savefig(\"boxplot par tranche d'age correlation age dépenses \")\n",
    "plt.show()"
   ]
  },
  {
   "cell_type": "code",
   "execution_count": 67,
   "id": "adc02533",
   "metadata": {},
   "outputs": [
    {
     "data": {
      "text/plain": [
       "array([ 0, 10, 20, 30, 40, 50, 60, 70, 80, 90])"
      ]
     },
     "execution_count": 67,
     "metadata": {},
     "output_type": "execute_result"
    }
   ],
   "source": [
    "tranches"
   ]
  },
  {
   "cell_type": "code",
   "execution_count": 68,
   "id": "a79722ad",
   "metadata": {},
   "outputs": [
    {
     "data": {
      "image/png": "[encoded data removed]",
      "text/plain": [
       "<Figure size 432x288 with 1 Axes>"
      ]
     },
     "metadata": {
      "needs_background": "light"
     },
     "output_type": "display_data"
    }
   ],
   "source": [
    "# affichage des quartiles\n",
    "for n_quartile in range(3):\n",
    "    plt.plot([g[\"centre_classe\"] for g in groupes],\n",
    "             [g[\"quartiles\"][n_quartile] for g in groupes])\n",
    "plt.show()"
   ]
  },
  {
   "cell_type": "markdown",
   "id": "e6eb97e0",
   "metadata": {},
   "source": [
    " ## correlation entre l'age et la catégorie \n"
   ]
  },
  {
   "cell_type": "code",
   "execution_count": 76,
   "id": "2ec5aea5",
   "metadata": {},
   "outputs": [
    {
     "data": {
      "image/png": "[encoded data removed]",
      "text/plain": [
       "<Figure size 432x288 with 1 Axes>"
      ]
     },
     "metadata": {
      "needs_background": "light"
     },
     "output_type": "display_data"
    }
   ],
   "source": [
    "# correlation variable quanti(Age) et quali(catego) \n",
    "#on veut savoir si il y a une correlation entre la categorie d'achat et l'age \n",
    "X = \"categ\" # qualitative\n",
    "Y = \"Age\" # quantitative\n",
    "\n",
    "ax = sns.boxplot(x=\"categ\", y=\"Age\", data=df)\n",
    "plt.title(\"correlation entre l'age et la catégorie de produit\")\n",
    "boxplot_age_categ = ax.get_figure()\n",
    "boxplot_age_categ.savefig(\"boxplot age et categ\")\n"
   ]
  },
  {
   "cell_type": "code",
   "execution_count": 78,
   "id": "f17b43ea",
   "metadata": {},
   "outputs": [
    {
     "data": {
      "text/plain": [
       "<AxesSubplot:title={'center':'Age'}, xlabel='categ'>"
      ]
     },
     "execution_count": 78,
     "metadata": {},
     "output_type": "execute_result"
    },
    {
     "data": {
      "image/png": "[encoded data removed]",
      "text/plain": [
       "<Figure size 576x576 with 1 Axes>"
      ]
     },
     "metadata": {
      "needs_background": "light"
     },
     "output_type": "display_data"
    }
   ],
   "source": [
    "\n",
    "df.boxplot(column=\"Age\",        # Column to plot\n",
    "                 by= \"categ\",         # Column to split upon\n",
    "                 figsize= (8,8))        # Figure size"
   ]
  },
  {
   "cell_type": "markdown",
   "id": "4669fdec",
   "metadata": {},
   "source": [
    "En fonction de l'age les gens vont acheter des catégories différentes "
   ]
  },
  {
   "cell_type": "markdown",
   "id": "47a4f5c0",
   "metadata": {},
   "source": [
    "## correlation entre deux variables qualitatives (sex, categ)  et test chi2 "
   ]
  },
  {
   "cell_type": "code",
   "execution_count": 79,
   "id": "b58d6a50",
   "metadata": {},
   "outputs": [
    {
     "data": {
      "text/html": [
       "<div>\n",
       "<style scoped>\n",
       "    .dataframe tbody tr th:only-of-type {\n",
       "        vertical-align: middle;\n",
       "    }\n",
       "\n",
       "    .dataframe tbody tr th {\n",
       "        vertical-align: top;\n",
       "    }\n",
       "\n",
       "    .dataframe thead th {\n",
       "        text-align: right;\n",
       "    }\n",
       "</style>\n",
       "<table border=\"1\" class=\"dataframe\">\n",
       "  <thead>\n",
       "    <tr style=\"text-align: right;\">\n",
       "      <th>sex</th>\n",
       "      <th>f</th>\n",
       "      <th>m</th>\n",
       "      <th>Total</th>\n",
       "    </tr>\n",
       "    <tr>\n",
       "      <th>categ</th>\n",
       "      <th></th>\n",
       "      <th></th>\n",
       "      <th></th>\n",
       "    </tr>\n",
       "  </thead>\n",
       "  <tbody>\n",
       "    <tr>\n",
       "      <th>0.0</th>\n",
       "      <td>103786</td>\n",
       "      <td>105640</td>\n",
       "      <td>209426</td>\n",
       "    </tr>\n",
       "    <tr>\n",
       "      <th>1.0</th>\n",
       "      <td>55469</td>\n",
       "      <td>54266</td>\n",
       "      <td>109735</td>\n",
       "    </tr>\n",
       "    <tr>\n",
       "      <th>2.0</th>\n",
       "      <td>8260</td>\n",
       "      <td>9292</td>\n",
       "      <td>17552</td>\n",
       "    </tr>\n",
       "    <tr>\n",
       "      <th>Total</th>\n",
       "      <td>167515</td>\n",
       "      <td>169198</td>\n",
       "      <td>336713</td>\n",
       "    </tr>\n",
       "  </tbody>\n",
       "</table>\n",
       "</div>"
      ],
      "text/plain": [
       "sex         f       m   Total\n",
       "categ                        \n",
       "0.0    103786  105640  209426\n",
       "1.0     55469   54266  109735\n",
       "2.0      8260    9292   17552\n",
       "Total  167515  169198  336713"
      ]
     },
     "execution_count": 79,
     "metadata": {},
     "output_type": "execute_result"
    }
   ],
   "source": [
    "#tableau de contingence \n",
    "X = \"categ\"\n",
    "Y = \"sex\"\n",
    "\n",
    "cont = df[[X,Y]].pivot_table(index=X,columns=Y,aggfunc=len,margins=True,margins_name=\"Total\")\n",
    "cont"
   ]
  },
  {
   "cell_type": "code",
   "execution_count": 80,
   "id": "4940952a",
   "metadata": {},
   "outputs": [
    {
     "data": {
      "text/plain": [
       "Index(['f', 'm', 'Total'], dtype='object', name='sex')"
      ]
     },
     "execution_count": 80,
     "metadata": {},
     "output_type": "execute_result"
    }
   ],
   "source": [
    "cont.columns"
   ]
  },
  {
   "cell_type": "code",
   "execution_count": 81,
   "id": "ede873f3",
   "metadata": {},
   "outputs": [],
   "source": [
    "\n",
    "import seaborn as sns\n",
    "\n",
    "# calcul le tableau  indep  , qui est le tableau représentant le cas d'indépendance\n",
    "tx = cont.loc[:,[\"Total\"]]\n",
    "ty = cont.loc[[\"Total\"],:]\n",
    "n = len(df)\n",
    "indep = tx.dot(ty) / n"
   ]
  },
  {
   "cell_type": "code",
   "execution_count": 82,
   "id": "9eb7f744",
   "metadata": {},
   "outputs": [
    {
     "data": {
      "text/html": [
       "<div>\n",
       "<style scoped>\n",
       "    .dataframe tbody tr th:only-of-type {\n",
       "        vertical-align: middle;\n",
       "    }\n",
       "\n",
       "    .dataframe tbody tr th {\n",
       "        vertical-align: top;\n",
       "    }\n",
       "\n",
       "    .dataframe thead th {\n",
       "        text-align: right;\n",
       "    }\n",
       "</style>\n",
       "<table border=\"1\" class=\"dataframe\">\n",
       "  <thead>\n",
       "    <tr style=\"text-align: right;\">\n",
       "      <th>sex</th>\n",
       "      <th>f</th>\n",
       "      <th>m</th>\n",
       "      <th>Total</th>\n",
       "    </tr>\n",
       "    <tr>\n",
       "      <th>categ</th>\n",
       "      <th></th>\n",
       "      <th></th>\n",
       "      <th></th>\n",
       "    </tr>\n",
       "  </thead>\n",
       "  <tbody>\n",
       "    <tr>\n",
       "      <th>0.0</th>\n",
       "      <td>104189.610707</td>\n",
       "      <td>105236.389293</td>\n",
       "      <td>209426.0</td>\n",
       "    </tr>\n",
       "    <tr>\n",
       "      <th>1.0</th>\n",
       "      <td>54593.254567</td>\n",
       "      <td>55141.745433</td>\n",
       "      <td>109735.0</td>\n",
       "    </tr>\n",
       "    <tr>\n",
       "      <th>2.0</th>\n",
       "      <td>8732.134726</td>\n",
       "      <td>8819.865274</td>\n",
       "      <td>17552.0</td>\n",
       "    </tr>\n",
       "    <tr>\n",
       "      <th>Total</th>\n",
       "      <td>167515.000000</td>\n",
       "      <td>169198.000000</td>\n",
       "      <td>336713.0</td>\n",
       "    </tr>\n",
       "  </tbody>\n",
       "</table>\n",
       "</div>"
      ],
      "text/plain": [
       "sex                f              m     Total\n",
       "categ                                        \n",
       "0.0    104189.610707  105236.389293  209426.0\n",
       "1.0     54593.254567   55141.745433  109735.0\n",
       "2.0      8732.134726    8819.865274   17552.0\n",
       "Total  167515.000000  169198.000000  336713.0"
      ]
     },
     "execution_count": 82,
     "metadata": {},
     "output_type": "execute_result"
    }
   ],
   "source": [
    "#le tableau d'independance au cas ou les variables sont complètement independantes ce sont des fréquences théoriques \n",
    "indep"
   ]
  },
  {
   "cell_type": "code",
   "execution_count": 83,
   "id": "cca032fd",
   "metadata": {},
   "outputs": [],
   "source": [
    "c = cont.fillna(0) # On remplace les valeurs nulles par 0\n",
    "measure = (c-indep)**2/indep #contient tous les ξij pour chaque case du tableau\n",
    "xi_n = measure.sum().sum()\n",
    "table = measure/xi_n"
   ]
  },
  {
   "cell_type": "code",
   "execution_count": 86,
   "id": "cecd8e1e",
   "metadata": {},
   "outputs": [
    {
     "data": {
      "image/png": "[encoded data removed]",
      "text/plain": [
       "<Figure size 432x288 with 2 Axes>"
      ]
     },
     "metadata": {
      "needs_background": "light"
     },
     "output_type": "display_data"
    }
   ],
   "source": [
    "sns.heatmap(table.iloc[:-1,:-1],annot=c.iloc[:-1,:-1])\n",
    "plt.show()"
   ]
  },
  {
   "cell_type": "code",
   "execution_count": 87,
   "id": "9af67c02",
   "metadata": {},
   "outputs": [],
   "source": [
    "st_chi2, st_p, st_dof, st_exp = st.chi2_contingency(cont)"
   ]
  },
  {
   "cell_type": "code",
   "execution_count": 88,
   "id": "26919869",
   "metadata": {},
   "outputs": [
    {
     "data": {
      "text/plain": [
       "81.86933350990711"
      ]
     },
     "execution_count": 88,
     "metadata": {},
     "output_type": "execute_result"
    }
   ],
   "source": [
    "#statistique du khi2\n",
    "st_chi2"
   ]
  },
  {
   "cell_type": "code",
   "execution_count": 89,
   "id": "a590c2e4",
   "metadata": {},
   "outputs": [
    {
     "data": {
      "text/plain": [
       "1.467788236006804e-15"
      ]
     },
     "execution_count": 89,
     "metadata": {},
     "output_type": "execute_result"
    }
   ],
   "source": [
    "#pvalue \n",
    "st_p"
   ]
  },
  {
   "cell_type": "code",
   "execution_count": 90,
   "id": "df4afd7a",
   "metadata": {},
   "outputs": [
    {
     "data": {
      "text/plain": [
       "6"
      ]
     },
     "execution_count": 90,
     "metadata": {},
     "output_type": "execute_result"
    }
   ],
   "source": [
    "#nombre degré de liberté \n",
    "st_dof"
   ]
  },
  {
   "cell_type": "code",
   "execution_count": 91,
   "id": "f2ee3b3e",
   "metadata": {},
   "outputs": [
    {
     "data": {
      "text/plain": [
       "array([[104189.61070704, 105236.38929296, 209426.        ],\n",
       "       [ 54593.25456695,  55141.74543305, 109735.        ],\n",
       "       [  8732.13472601,   8819.86527399,  17552.        ],\n",
       "       [167515.        , 169198.        , 336713.        ]])"
      ]
     },
     "execution_count": 91,
     "metadata": {},
     "output_type": "execute_result"
    }
   ],
   "source": [
    "st_exp"
   ]
  },
  {
   "cell_type": "markdown",
   "id": "ec637a88",
   "metadata": {},
   "source": [
    " Au seuil de 1% comme le p value est inferieure à 0.01 on rejette Ho donc on rejette le fait que la variable sex et categ soient indépendantes"
   ]
  },
  {
   "cell_type": "markdown",
   "id": "58699bd8",
   "metadata": {},
   "source": [
    "Y a-t-il une corrélation entre l'âge des clients et :\n",
    "Le montant total des achats ;\n",
    "La fréquence d’achat (ie. nombre d'achats par mois par exemple) ;\n",
    "La taille du panier moyen (en nombre d’articles) "
   ]
  },
  {
   "cell_type": "markdown",
   "id": "2815cc27",
   "metadata": {},
   "source": [
    "## correlation entre age et frequence d'achat"
   ]
  },
  {
   "cell_type": "code",
   "execution_count": 92,
   "id": "93d72bba",
   "metadata": {},
   "outputs": [
    {
     "data": {
      "text/html": [
       "<div>\n",
       "<style scoped>\n",
       "    .dataframe tbody tr th:only-of-type {\n",
       "        vertical-align: middle;\n",
       "    }\n",
       "\n",
       "    .dataframe tbody tr th {\n",
       "        vertical-align: top;\n",
       "    }\n",
       "\n",
       "    .dataframe thead th {\n",
       "        text-align: right;\n",
       "    }\n",
       "</style>\n",
       "<table border=\"1\" class=\"dataframe\">\n",
       "  <thead>\n",
       "    <tr style=\"text-align: right;\">\n",
       "      <th></th>\n",
       "      <th>id_prod</th>\n",
       "      <th>date</th>\n",
       "      <th>session_id</th>\n",
       "      <th>client_id</th>\n",
       "      <th>price</th>\n",
       "      <th>categ</th>\n",
       "      <th>sex</th>\n",
       "      <th>birth</th>\n",
       "      <th>Age</th>\n",
       "    </tr>\n",
       "  </thead>\n",
       "  <tbody>\n",
       "    <tr>\n",
       "      <th>0</th>\n",
       "      <td>0_1483</td>\n",
       "      <td>2021-04-10 18:37:28.723910</td>\n",
       "      <td>s_18746</td>\n",
       "      <td>c_4450</td>\n",
       "      <td>4.99</td>\n",
       "      <td>0.0</td>\n",
       "      <td>f</td>\n",
       "      <td>1977</td>\n",
       "      <td>44</td>\n",
       "    </tr>\n",
       "    <tr>\n",
       "      <th>1</th>\n",
       "      <td>2_226</td>\n",
       "      <td>2022-02-03 01:55:53.276402</td>\n",
       "      <td>s_159142</td>\n",
       "      <td>c_277</td>\n",
       "      <td>65.75</td>\n",
       "      <td>2.0</td>\n",
       "      <td>f</td>\n",
       "      <td>2000</td>\n",
       "      <td>21</td>\n",
       "    </tr>\n",
       "    <tr>\n",
       "      <th>2</th>\n",
       "      <td>1_374</td>\n",
       "      <td>2021-09-23 15:13:46.938559</td>\n",
       "      <td>s_94290</td>\n",
       "      <td>c_4270</td>\n",
       "      <td>10.71</td>\n",
       "      <td>1.0</td>\n",
       "      <td>f</td>\n",
       "      <td>1979</td>\n",
       "      <td>42</td>\n",
       "    </tr>\n",
       "    <tr>\n",
       "      <th>3</th>\n",
       "      <td>0_2186</td>\n",
       "      <td>2021-10-17 03:27:18.783634</td>\n",
       "      <td>s_105936</td>\n",
       "      <td>c_4597</td>\n",
       "      <td>4.20</td>\n",
       "      <td>0.0</td>\n",
       "      <td>m</td>\n",
       "      <td>1963</td>\n",
       "      <td>58</td>\n",
       "    </tr>\n",
       "    <tr>\n",
       "      <th>4</th>\n",
       "      <td>0_1351</td>\n",
       "      <td>2021-07-17 20:34:25.800563</td>\n",
       "      <td>s_63642</td>\n",
       "      <td>c_1242</td>\n",
       "      <td>8.99</td>\n",
       "      <td>0.0</td>\n",
       "      <td>f</td>\n",
       "      <td>1980</td>\n",
       "      <td>41</td>\n",
       "    </tr>\n",
       "  </tbody>\n",
       "</table>\n",
       "</div>"
      ],
      "text/plain": [
       "  id_prod                        date session_id client_id  price  categ sex  \\\n",
       "0  0_1483  2021-04-10 18:37:28.723910    s_18746    c_4450   4.99    0.0   f   \n",
       "1   2_226  2022-02-03 01:55:53.276402   s_159142     c_277  65.75    2.0   f   \n",
       "2   1_374  2021-09-23 15:13:46.938559    s_94290    c_4270  10.71    1.0   f   \n",
       "3  0_2186  2021-10-17 03:27:18.783634   s_105936    c_4597   4.20    0.0   m   \n",
       "4  0_1351  2021-07-17 20:34:25.800563    s_63642    c_1242   8.99    0.0   f   \n",
       "\n",
       "   birth  Age  \n",
       "0   1977   44  \n",
       "1   2000   21  \n",
       "2   1979   42  \n",
       "3   1963   58  \n",
       "4   1980   41  "
      ]
     },
     "execution_count": 92,
     "metadata": {},
     "output_type": "execute_result"
    }
   ],
   "source": [
    "df.head()"
   ]
  },
  {
   "cell_type": "code",
   "execution_count": 93,
   "id": "56740c49",
   "metadata": {},
   "outputs": [],
   "source": [
    "#on crée une colonne mois_année pour avoir les achats par mois \n",
    "df['mois'] =pd.to_datetime(df['date']).dt.month"
   ]
  },
  {
   "cell_type": "code",
   "execution_count": 94,
   "id": "9c648a3c",
   "metadata": {},
   "outputs": [],
   "source": [
    "df['annee']=pd.to_datetime(df['date']).dt.year\n",
    "df['mois_annee']= df.apply(lambda x: str(x.mois)+'_'+str(x.annee),axis = 1)"
   ]
  },
  {
   "cell_type": "code",
   "execution_count": 95,
   "id": "bbf56eb3",
   "metadata": {},
   "outputs": [
    {
     "data": {
      "text/html": [
       "<div>\n",
       "<style scoped>\n",
       "    .dataframe tbody tr th:only-of-type {\n",
       "        vertical-align: middle;\n",
       "    }\n",
       "\n",
       "    .dataframe tbody tr th {\n",
       "        vertical-align: top;\n",
       "    }\n",
       "\n",
       "    .dataframe thead th {\n",
       "        text-align: right;\n",
       "    }\n",
       "</style>\n",
       "<table border=\"1\" class=\"dataframe\">\n",
       "  <thead>\n",
       "    <tr style=\"text-align: right;\">\n",
       "      <th></th>\n",
       "      <th>id_prod</th>\n",
       "      <th>date</th>\n",
       "      <th>session_id</th>\n",
       "      <th>client_id</th>\n",
       "      <th>price</th>\n",
       "      <th>categ</th>\n",
       "      <th>sex</th>\n",
       "      <th>birth</th>\n",
       "      <th>Age</th>\n",
       "      <th>mois</th>\n",
       "      <th>annee</th>\n",
       "      <th>mois_annee</th>\n",
       "    </tr>\n",
       "  </thead>\n",
       "  <tbody>\n",
       "    <tr>\n",
       "      <th>0</th>\n",
       "      <td>0_1483</td>\n",
       "      <td>2021-04-10 18:37:28.723910</td>\n",
       "      <td>s_18746</td>\n",
       "      <td>c_4450</td>\n",
       "      <td>4.99</td>\n",
       "      <td>0.0</td>\n",
       "      <td>f</td>\n",
       "      <td>1977</td>\n",
       "      <td>44</td>\n",
       "      <td>4</td>\n",
       "      <td>2021</td>\n",
       "      <td>4_2021</td>\n",
       "    </tr>\n",
       "    <tr>\n",
       "      <th>1</th>\n",
       "      <td>2_226</td>\n",
       "      <td>2022-02-03 01:55:53.276402</td>\n",
       "      <td>s_159142</td>\n",
       "      <td>c_277</td>\n",
       "      <td>65.75</td>\n",
       "      <td>2.0</td>\n",
       "      <td>f</td>\n",
       "      <td>2000</td>\n",
       "      <td>21</td>\n",
       "      <td>2</td>\n",
       "      <td>2022</td>\n",
       "      <td>2_2022</td>\n",
       "    </tr>\n",
       "    <tr>\n",
       "      <th>2</th>\n",
       "      <td>1_374</td>\n",
       "      <td>2021-09-23 15:13:46.938559</td>\n",
       "      <td>s_94290</td>\n",
       "      <td>c_4270</td>\n",
       "      <td>10.71</td>\n",
       "      <td>1.0</td>\n",
       "      <td>f</td>\n",
       "      <td>1979</td>\n",
       "      <td>42</td>\n",
       "      <td>9</td>\n",
       "      <td>2021</td>\n",
       "      <td>9_2021</td>\n",
       "    </tr>\n",
       "    <tr>\n",
       "      <th>3</th>\n",
       "      <td>0_2186</td>\n",
       "      <td>2021-10-17 03:27:18.783634</td>\n",
       "      <td>s_105936</td>\n",
       "      <td>c_4597</td>\n",
       "      <td>4.20</td>\n",
       "      <td>0.0</td>\n",
       "      <td>m</td>\n",
       "      <td>1963</td>\n",
       "      <td>58</td>\n",
       "      <td>10</td>\n",
       "      <td>2021</td>\n",
       "      <td>10_2021</td>\n",
       "    </tr>\n",
       "    <tr>\n",
       "      <th>4</th>\n",
       "      <td>0_1351</td>\n",
       "      <td>2021-07-17 20:34:25.800563</td>\n",
       "      <td>s_63642</td>\n",
       "      <td>c_1242</td>\n",
       "      <td>8.99</td>\n",
       "      <td>0.0</td>\n",
       "      <td>f</td>\n",
       "      <td>1980</td>\n",
       "      <td>41</td>\n",
       "      <td>7</td>\n",
       "      <td>2021</td>\n",
       "      <td>7_2021</td>\n",
       "    </tr>\n",
       "  </tbody>\n",
       "</table>\n",
       "</div>"
      ],
      "text/plain": [
       "  id_prod                        date session_id client_id  price  categ sex  \\\n",
       "0  0_1483  2021-04-10 18:37:28.723910    s_18746    c_4450   4.99    0.0   f   \n",
       "1   2_226  2022-02-03 01:55:53.276402   s_159142     c_277  65.75    2.0   f   \n",
       "2   1_374  2021-09-23 15:13:46.938559    s_94290    c_4270  10.71    1.0   f   \n",
       "3  0_2186  2021-10-17 03:27:18.783634   s_105936    c_4597   4.20    0.0   m   \n",
       "4  0_1351  2021-07-17 20:34:25.800563    s_63642    c_1242   8.99    0.0   f   \n",
       "\n",
       "   birth  Age  mois  annee mois_annee  \n",
       "0   1977   44     4   2021     4_2021  \n",
       "1   2000   21     2   2022     2_2022  \n",
       "2   1979   42     9   2021     9_2021  \n",
       "3   1963   58    10   2021    10_2021  \n",
       "4   1980   41     7   2021     7_2021  "
      ]
     },
     "execution_count": 95,
     "metadata": {},
     "output_type": "execute_result"
    }
   ],
   "source": [
    "df.head()"
   ]
  },
  {
   "cell_type": "code",
   "execution_count": 96,
   "id": "2df441f6",
   "metadata": {},
   "outputs": [
    {
     "data": {
      "text/plain": [
       "9_2021     33254\n",
       "12_2021    32417\n",
       "2_2022     29556\n",
       "1_2022     29311\n",
       "3_2021     28559\n",
       "4_2021     28401\n",
       "11_2021    28267\n",
       "5_2021     28237\n",
       "6_2021     26812\n",
       "8_2021     25610\n",
       "7_2021     24712\n",
       "10_2021    21577\n",
       "Name: mois_annee, dtype: int64"
      ]
     },
     "execution_count": 96,
     "metadata": {},
     "output_type": "execute_result"
    }
   ],
   "source": [
    "#on calcule le nombre de session pour chaque mois \n",
    "df['mois_annee'].value_counts()"
   ]
  },
  {
   "cell_type": "code",
   "execution_count": 97,
   "id": "c10e89e5",
   "metadata": {},
   "outputs": [],
   "source": [
    "#on calcule le nombre de sessions pour chaque mois\n",
    "df_age_session = df.groupby(['client_id','Age','mois_annee'] , as_index = False )['session_id'].count().rename(columns={'session_id':'nbre_session'})"
   ]
  },
  {
   "cell_type": "code",
   "execution_count": 98,
   "id": "b151e9c7",
   "metadata": {},
   "outputs": [
    {
     "data": {
      "text/html": [
       "<div>\n",
       "<style scoped>\n",
       "    .dataframe tbody tr th:only-of-type {\n",
       "        vertical-align: middle;\n",
       "    }\n",
       "\n",
       "    .dataframe tbody tr th {\n",
       "        vertical-align: top;\n",
       "    }\n",
       "\n",
       "    .dataframe thead th {\n",
       "        text-align: right;\n",
       "    }\n",
       "</style>\n",
       "<table border=\"1\" class=\"dataframe\">\n",
       "  <thead>\n",
       "    <tr style=\"text-align: right;\">\n",
       "      <th></th>\n",
       "      <th>client_id</th>\n",
       "      <th>Age</th>\n",
       "      <th>mois_annee</th>\n",
       "      <th>nbre_session</th>\n",
       "    </tr>\n",
       "  </thead>\n",
       "  <tbody>\n",
       "    <tr>\n",
       "      <th>0</th>\n",
       "      <td>c_1</td>\n",
       "      <td>66</td>\n",
       "      <td>10_2021</td>\n",
       "      <td>1</td>\n",
       "    </tr>\n",
       "    <tr>\n",
       "      <th>1</th>\n",
       "      <td>c_1</td>\n",
       "      <td>66</td>\n",
       "      <td>11_2021</td>\n",
       "      <td>7</td>\n",
       "    </tr>\n",
       "    <tr>\n",
       "      <th>2</th>\n",
       "      <td>c_1</td>\n",
       "      <td>66</td>\n",
       "      <td>12_2021</td>\n",
       "      <td>3</td>\n",
       "    </tr>\n",
       "    <tr>\n",
       "      <th>3</th>\n",
       "      <td>c_1</td>\n",
       "      <td>66</td>\n",
       "      <td>2_2022</td>\n",
       "      <td>1</td>\n",
       "    </tr>\n",
       "    <tr>\n",
       "      <th>4</th>\n",
       "      <td>c_1</td>\n",
       "      <td>66</td>\n",
       "      <td>6_2021</td>\n",
       "      <td>1</td>\n",
       "    </tr>\n",
       "  </tbody>\n",
       "</table>\n",
       "</div>"
      ],
      "text/plain": [
       "  client_id  Age mois_annee  nbre_session\n",
       "0       c_1   66    10_2021             1\n",
       "1       c_1   66    11_2021             7\n",
       "2       c_1   66    12_2021             3\n",
       "3       c_1   66     2_2022             1\n",
       "4       c_1   66     6_2021             1"
      ]
     },
     "execution_count": 98,
     "metadata": {},
     "output_type": "execute_result"
    }
   ],
   "source": [
    "df_age_session.head()"
   ]
  },
  {
   "cell_type": "code",
   "execution_count": 99,
   "id": "720bdcb0",
   "metadata": {},
   "outputs": [],
   "source": [
    "taille_classe = 10 # taille des classes pour la discrétisation\n",
    "\n",
    "groupes = [] # va recevoir les données agrégées à afficher\n",
    "\n",
    "# on calcule des tranches allant de 0 au solde maximum par paliers de taille taille_classe\n",
    "tranches = np.arange(0, max(df_age_session[\"Age\"]), taille_classe)\n",
    "#tranches += taille_classe/2 # on décale les tranches d'une demi taille de classe\n",
    "indices = np.digitize(df_age_session[\"Age\"], tranches) # associe chaque solde à son numéro de classe\n",
    "\n",
    "for ind, tr in enumerate(tranches): # pour chaque tranche, ind reçoit le numéro de tranche et tr la tranche en question\n",
    "    nbre_session = df_age_session.loc[indices==ind,\"nbre_session\"] # sélection des individus de la tranche ind\n",
    "    if len(nbre_session) > 0:\n",
    "        g = {\n",
    "            'valeurs': nbre_session,\n",
    "            'centre_classe': tr-(taille_classe/2),\n",
    "            'taille': len(nbre_session),\n",
    "            'quartiles': [np.percentile(nbre_session,p) for p in [25,50,75]]\n",
    "        }\n",
    "        groupes.append(g)"
   ]
  },
  {
   "cell_type": "code",
   "execution_count": 100,
   "id": "cab953c3",
   "metadata": {},
   "outputs": [
    {
     "data": {
      "image/png": "[encoded data removed]",
      "text/plain": [
       "<Figure size 1080x432 with 1 Axes>"
      ]
     },
     "metadata": {
      "needs_background": "light"
     },
     "output_type": "display_data"
    }
   ],
   "source": [
    "# affichage des boxplots\n",
    "plt.figure(figsize=(15,6))\n",
    "plt.boxplot([g[\"valeurs\"] for g in groupes],\n",
    "            positions= [g[\"centre_classe\"] for g in groupes], # abscisses des boxplots\n",
    "            showfliers= False, # on ne prend pas en compte les outliers\n",
    "            widths= taille_classe*0.6, # largeur graphique des boxplots\n",
    ")\n",
    "# affichage des effectifs de chaque classe\n",
    "for g in groupes:\n",
    "    plt.text(g[\"centre_classe\"],0,\"(n={})\".format(g[\"taille\"]),horizontalalignment='center',verticalalignment='bottom')\n",
    "plt.xlabel('Age par tranche')\n",
    "plt.ylabel('Nombre de sessions')\n",
    "plt.title(\"correlation entre l'age et le nombre de sessions\" )\n",
    "plt.show()"
   ]
  },
  {
   "cell_type": "code",
   "execution_count": 101,
   "id": "3e3afc36",
   "metadata": {},
   "outputs": [],
   "source": [
    "#on regarde en fonction de l'âge le nombre de session \n",
    "df_age_frequence = df.groupby('Age', as_index=False)['session_id'].count().rename(columns={'session_id':'nbre_session'})"
   ]
  },
  {
   "cell_type": "code",
   "execution_count": 102,
   "id": "83e37830",
   "metadata": {},
   "outputs": [
    {
     "data": {
      "text/html": [
       "<div>\n",
       "<style scoped>\n",
       "    .dataframe tbody tr th:only-of-type {\n",
       "        vertical-align: middle;\n",
       "    }\n",
       "\n",
       "    .dataframe tbody tr th {\n",
       "        vertical-align: top;\n",
       "    }\n",
       "\n",
       "    .dataframe thead th {\n",
       "        text-align: right;\n",
       "    }\n",
       "</style>\n",
       "<table border=\"1\" class=\"dataframe\">\n",
       "  <thead>\n",
       "    <tr style=\"text-align: right;\">\n",
       "      <th></th>\n",
       "      <th>Age</th>\n",
       "      <th>nbre_session</th>\n",
       "    </tr>\n",
       "  </thead>\n",
       "  <tbody>\n",
       "    <tr>\n",
       "      <th>0</th>\n",
       "      <td>17</td>\n",
       "      <td>7348</td>\n",
       "    </tr>\n",
       "    <tr>\n",
       "      <th>1</th>\n",
       "      <td>18</td>\n",
       "      <td>2182</td>\n",
       "    </tr>\n",
       "    <tr>\n",
       "      <th>2</th>\n",
       "      <td>19</td>\n",
       "      <td>2223</td>\n",
       "    </tr>\n",
       "    <tr>\n",
       "      <th>3</th>\n",
       "      <td>20</td>\n",
       "      <td>2032</td>\n",
       "    </tr>\n",
       "    <tr>\n",
       "      <th>4</th>\n",
       "      <td>21</td>\n",
       "      <td>2174</td>\n",
       "    </tr>\n",
       "  </tbody>\n",
       "</table>\n",
       "</div>"
      ],
      "text/plain": [
       "   Age  nbre_session\n",
       "0   17          7348\n",
       "1   18          2182\n",
       "2   19          2223\n",
       "3   20          2032\n",
       "4   21          2174"
      ]
     },
     "execution_count": 102,
     "metadata": {},
     "output_type": "execute_result"
    }
   ],
   "source": [
    "df_age_frequence.head()"
   ]
  },
  {
   "cell_type": "code",
   "execution_count": 103,
   "id": "edb99488",
   "metadata": {},
   "outputs": [
    {
     "data": {
      "image/png": "[encoded data removed]",
      "text/plain": [
       "<Figure size 648x648 with 1 Axes>"
      ]
     },
     "metadata": {
      "needs_background": "light"
     },
     "output_type": "display_data"
    }
   ],
   "source": [
    "#faire une courbe avec age et nombre de session\n",
    "df_age_frequence.plot(x=\"Age\",\n",
    "             y=\"nbre_session\",\n",
    "             figsize=(9,9))\n",
    "plt.title(\"Relation entre l'age et le nombre de connexion\")\n",
    "plt.savefig(\"courbe entre age et nombre de connexion\")"
   ]
  },
  {
   "cell_type": "code",
   "execution_count": 105,
   "id": "7822069a",
   "metadata": {},
   "outputs": [
    {
     "data": {
      "text/html": [
       "<div>\n",
       "<style scoped>\n",
       "    .dataframe tbody tr th:only-of-type {\n",
       "        vertical-align: middle;\n",
       "    }\n",
       "\n",
       "    .dataframe tbody tr th {\n",
       "        vertical-align: top;\n",
       "    }\n",
       "\n",
       "    .dataframe thead th {\n",
       "        text-align: right;\n",
       "    }\n",
       "</style>\n",
       "<table border=\"1\" class=\"dataframe\">\n",
       "  <thead>\n",
       "    <tr style=\"text-align: right;\">\n",
       "      <th></th>\n",
       "      <th>résultats de test</th>\n",
       "    </tr>\n",
       "  </thead>\n",
       "  <tbody>\n",
       "    <tr>\n",
       "      <th>pearson</th>\n",
       "      <td>-5.292866e-01</td>\n",
       "    </tr>\n",
       "    <tr>\n",
       "      <th>p-value</th>\n",
       "      <td>8.843224e-07</td>\n",
       "    </tr>\n",
       "  </tbody>\n",
       "</table>\n",
       "</div>"
      ],
      "text/plain": [
       "         résultats de test\n",
       "pearson      -5.292866e-01\n",
       "p-value       8.843224e-07"
      ]
     },
     "execution_count": 105,
     "metadata": {},
     "output_type": "execute_result"
    }
   ],
   "source": [
    "#On calcule la statistique de Pearson\n",
    "pd.DataFrame(pearsonr(df_age_frequence[\"nbre_session\"],df_age_frequence[\"Age\"]),\n",
    "            index = ['pearson',\"p-value\"],columns = ['résultats de test'])"
   ]
  },
  {
   "cell_type": "markdown",
   "id": "34fefbee",
   "metadata": {},
   "source": [
    "H0 on rejette la p value est inférieure à 0.05 on trouve une correlation entre age et la fréquence de connecxion"
   ]
  },
  {
   "cell_type": "markdown",
   "id": "0545799a",
   "metadata": {},
   "source": [
    "## Corrélation entre la taille du panier et l'age "
   ]
  },
  {
   "cell_type": "code",
   "execution_count": 106,
   "id": "28a0eae4",
   "metadata": {},
   "outputs": [],
   "source": [
    "#on crée un tableau avec la taille du panier par client \n",
    "df_age_tail_panier = df.groupby(['Age','client_id'], as_index=False)['id_prod'].count().rename(columns ={'id_prod': 'taille_panier'})"
   ]
  },
  {
   "cell_type": "code",
   "execution_count": 107,
   "id": "62f47b4d",
   "metadata": {},
   "outputs": [
    {
     "data": {
      "text/html": [
       "<div>\n",
       "<style scoped>\n",
       "    .dataframe tbody tr th:only-of-type {\n",
       "        vertical-align: middle;\n",
       "    }\n",
       "\n",
       "    .dataframe tbody tr th {\n",
       "        vertical-align: top;\n",
       "    }\n",
       "\n",
       "    .dataframe thead th {\n",
       "        text-align: right;\n",
       "    }\n",
       "</style>\n",
       "<table border=\"1\" class=\"dataframe\">\n",
       "  <thead>\n",
       "    <tr style=\"text-align: right;\">\n",
       "      <th></th>\n",
       "      <th>Age</th>\n",
       "      <th>client_id</th>\n",
       "      <th>taille_panier</th>\n",
       "    </tr>\n",
       "  </thead>\n",
       "  <tbody>\n",
       "    <tr>\n",
       "      <th>0</th>\n",
       "      <td>17</td>\n",
       "      <td>c_1042</td>\n",
       "      <td>6</td>\n",
       "    </tr>\n",
       "    <tr>\n",
       "      <th>1</th>\n",
       "      <td>17</td>\n",
       "      <td>c_1046</td>\n",
       "      <td>19</td>\n",
       "    </tr>\n",
       "    <tr>\n",
       "      <th>2</th>\n",
       "      <td>17</td>\n",
       "      <td>c_1065</td>\n",
       "      <td>16</td>\n",
       "    </tr>\n",
       "    <tr>\n",
       "      <th>3</th>\n",
       "      <td>17</td>\n",
       "      <td>c_1088</td>\n",
       "      <td>7</td>\n",
       "    </tr>\n",
       "    <tr>\n",
       "      <th>4</th>\n",
       "      <td>17</td>\n",
       "      <td>c_109</td>\n",
       "      <td>6</td>\n",
       "    </tr>\n",
       "  </tbody>\n",
       "</table>\n",
       "</div>"
      ],
      "text/plain": [
       "   Age client_id  taille_panier\n",
       "0   17    c_1042              6\n",
       "1   17    c_1046             19\n",
       "2   17    c_1065             16\n",
       "3   17    c_1088              7\n",
       "4   17     c_109              6"
      ]
     },
     "execution_count": 107,
     "metadata": {},
     "output_type": "execute_result"
    }
   ],
   "source": [
    "df_age_tail_panier.head()"
   ]
  },
  {
   "cell_type": "code",
   "execution_count": 108,
   "id": "5d27d6a8",
   "metadata": {},
   "outputs": [],
   "source": [
    "#on fait la moyenne par age de la taille du panier \n",
    "df_age_panier_mean= df_age_tail_panier.groupby('Age', as_index=False)['taille_panier'].mean()"
   ]
  },
  {
   "cell_type": "code",
   "execution_count": 109,
   "id": "93446540",
   "metadata": {},
   "outputs": [
    {
     "data": {
      "text/html": [
       "<div>\n",
       "<style scoped>\n",
       "    .dataframe tbody tr th:only-of-type {\n",
       "        vertical-align: middle;\n",
       "    }\n",
       "\n",
       "    .dataframe tbody tr th {\n",
       "        vertical-align: top;\n",
       "    }\n",
       "\n",
       "    .dataframe thead th {\n",
       "        text-align: right;\n",
       "    }\n",
       "</style>\n",
       "<table border=\"1\" class=\"dataframe\">\n",
       "  <thead>\n",
       "    <tr style=\"text-align: right;\">\n",
       "      <th></th>\n",
       "      <th>Age</th>\n",
       "      <th>taille_panier</th>\n",
       "    </tr>\n",
       "  </thead>\n",
       "  <tbody>\n",
       "    <tr>\n",
       "      <th>0</th>\n",
       "      <td>17</td>\n",
       "      <td>16.814645</td>\n",
       "    </tr>\n",
       "    <tr>\n",
       "      <th>1</th>\n",
       "      <td>18</td>\n",
       "      <td>15.048276</td>\n",
       "    </tr>\n",
       "    <tr>\n",
       "      <th>2</th>\n",
       "      <td>19</td>\n",
       "      <td>15.331034</td>\n",
       "    </tr>\n",
       "    <tr>\n",
       "      <th>3</th>\n",
       "      <td>20</td>\n",
       "      <td>16.256000</td>\n",
       "    </tr>\n",
       "    <tr>\n",
       "      <th>4</th>\n",
       "      <td>21</td>\n",
       "      <td>15.985294</td>\n",
       "    </tr>\n",
       "  </tbody>\n",
       "</table>\n",
       "</div>"
      ],
      "text/plain": [
       "   Age  taille_panier\n",
       "0   17      16.814645\n",
       "1   18      15.048276\n",
       "2   19      15.331034\n",
       "3   20      16.256000\n",
       "4   21      15.985294"
      ]
     },
     "execution_count": 109,
     "metadata": {},
     "output_type": "execute_result"
    }
   ],
   "source": [
    "df_age_panier_mean.head()"
   ]
  },
  {
   "cell_type": "code",
   "execution_count": 111,
   "id": "c9fc3176",
   "metadata": {},
   "outputs": [
    {
     "data": {
      "image/png": "[encoded data removed]",
      "text/plain": [
       "<Figure size 648x648 with 1 Axes>"
      ]
     },
     "metadata": {
      "needs_background": "light"
     },
     "output_type": "display_data"
    }
   ],
   "source": [
    "# une courbe correlation entre age et taille du panier \n",
    "df_age_panier_mean.plot(x=\"Age\",\n",
    "                        y='taille_panier',\n",
    "             figsize=(9,9))\n",
    "plt.title(\"corrélation entre l'age et la taille du panier moyen\")\n",
    "plt.savefig(\"courbe correlation entre age et taille du panier\")\n",
    "\n"
   ]
  },
  {
   "cell_type": "code",
   "execution_count": 112,
   "id": "407cc451",
   "metadata": {},
   "outputs": [
    {
     "data": {
      "text/html": [
       "<div>\n",
       "<style scoped>\n",
       "    .dataframe tbody tr th:only-of-type {\n",
       "        vertical-align: middle;\n",
       "    }\n",
       "\n",
       "    .dataframe tbody tr th {\n",
       "        vertical-align: top;\n",
       "    }\n",
       "\n",
       "    .dataframe thead th {\n",
       "        text-align: right;\n",
       "    }\n",
       "</style>\n",
       "<table border=\"1\" class=\"dataframe\">\n",
       "  <thead>\n",
       "    <tr style=\"text-align: right;\">\n",
       "      <th></th>\n",
       "      <th>résultats de test</th>\n",
       "    </tr>\n",
       "  </thead>\n",
       "  <tbody>\n",
       "    <tr>\n",
       "      <th>pearson</th>\n",
       "      <td>-0.233911</td>\n",
       "    </tr>\n",
       "    <tr>\n",
       "      <th>p-value</th>\n",
       "      <td>0.041982</td>\n",
       "    </tr>\n",
       "  </tbody>\n",
       "</table>\n",
       "</div>"
      ],
      "text/plain": [
       "         résultats de test\n",
       "pearson          -0.233911\n",
       "p-value           0.041982"
      ]
     },
     "execution_count": 112,
     "metadata": {},
     "output_type": "execute_result"
    }
   ],
   "source": [
    "# coefficient de pearson\n",
    "pd.DataFrame(pearsonr(df_age_panier_mean[\"taille_panier\"],df_age_panier_mean[\"Age\"]),\n",
    "            index = ['pearson',\"p-value\"],columns = ['résultats de test'])"
   ]
  },
  {
   "cell_type": "markdown",
   "id": "47c68aba",
   "metadata": {},
   "source": [
    "la p value est inférieure à 0.05 on peut rejeter HO : il y a une corélation négative entre l'âge et la taille du panier"
   ]
  },
  {
   "cell_type": "code",
   "execution_count": null,
   "id": "519c9ed7",
   "metadata": {},
   "outputs": [],
   "source": []
  }
 ],
 "metadata": {
  "kernelspec": {
   "display_name": "Python 3",
   "language": "python",
   "name": "python3"
  },
  "language_info": {
   "codemirror_mode": {
    "name": "ipython",
    "version": 3
   },
   "file_extension": ".py",
   "mimetype": "text/x-python",
   "name": "python",
   "nbconvert_exporter": "python",
   "pygments_lexer": "ipython3",
   "version": "3.8.8"
  }
 },
 "nbformat": 4,
 "nbformat_minor": 5
}
